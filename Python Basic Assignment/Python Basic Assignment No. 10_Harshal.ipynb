{
 "cells": [
  {
   "cell_type": "markdown",
   "id": "c750c84b",
   "metadata": {},
   "source": [
    "# Assignment 10 Solutions"
   ]
  },
  {
   "cell_type": "markdown",
   "id": "c00ae223",
   "metadata": {},
   "source": [
    "#### 1. How do you distinguish between shutil.copy() and shutil.copytree()?\n",
    "**Ans:** `shutil.copy()` method is used to copy the contents of a file from one file to another file/folder, it primary takes two arguments `src`,`dest`, `src` represents the file to be copied where as destination refers to the file/folder to where the `src` data should be copied, if `dest` is a folder name the `src` with exact name will be copied to the `dest` folder, if its a file then the contents of `src` will be copied to `dest` where `dest` retains it name.\n",
    "\n",
    "`shutil.copytree()` function is used to copy the entire contents of a folder to other folder. it also takes two arguments `src` & `dest`, it copies all the content recursively and stores it in `dest`. the important catch here is `dest` must not exist prior to this and it will be created during the copy operation. Permissions and times of directories are copied with `shutil.copystat()` and individual files are copied using `shutil.copy2()` by default which can be modified using `copy_function` attribute.\n"
   ]
  },
  {
   "cell_type": "markdown",
   "id": "0a932861",
   "metadata": {},
   "source": [
    "#### 2. What function is used to rename files??\n",
    "**Ans:** `os.rename()` function is used to rename files or directories using a python program, this function takes two arguments `src` and `dest`, `src` represents the name file/directory which we want to rename, whereas `dest` represents the new name of the file/directory."
   ]
  },
  {
   "cell_type": "markdown",
   "id": "34ce7a3d",
   "metadata": {},
   "source": [
    "#### 3. What is the difference between the delete functions in the send2trash and shutil modules?\n",
    "**Ans:** Shutil module provides a funciton called as `shutil.rmtree()` which deletes a directory and all its contents. The other functions with similar functionality are `os.remove()` -> removes a file, `os.rmdir()` removes a empty directory. The problem with these functions is once a file is deleted. it will be lost permanently, if a file is deleted accidentally using these methods there is no way we can recover the deleted file\n",
    "\n",
    "Where as send2trash module provides a function called `send2trash.send2trash()` to delete a file/directory. these methods moves the files/directories to trash folder instead of permanently deleting them. hence if a file/folder is deleted accidentally it can be still recovered from trash folder, if is deleted using the `send2trash.send2trash()` function. `send2trash` is not included with python standard libary like `os` & `shutil` modules. it needs to be installed explicitly using the command `!pip install send2trash`"
   ]
  },
  {
   "cell_type": "markdown",
   "id": "bf6ed792",
   "metadata": {},
   "source": [
    "#### 4.ZipFile objects have a close() method just like File objects’ close() method. What ZipFile method is equivalent to File objects’ open() method?\n",
    "**Ans:** ZipFile Module provides a method called as `zipfile.ZipFile()` to read and write to zipFiles. it takes arugments lile filename and mode etc `zipfile.ZipFile('filename', mode = 'r')`"
   ]
  },
  {
   "cell_type": "code",
   "execution_count": 1,
   "id": "4710d7d8",
   "metadata": {},
   "outputs": [],
   "source": []
  },
  {
   "cell_type": "markdown",
   "id": "3b5cd1d4",
   "metadata": {},
   "source": [
    "<b> Question <b> 5. Create a programme that searches a folder tree for files with a certain file extension (such as .pdfor .jpg). Copy these files from whatever location they are in to a new folder."
   ]
  },
  {
   "cell_type": "code",
   "execution_count": 2,
   "id": "5d13df74",
   "metadata": {},
   "outputs": [
    {
     "name": "stdout",
     "output_type": "stream",
     "text": [
      "Enter the file type extension: .pdf // .jpg // or anyone you want :: ipynb\n",
      "Enter the folder location where u want to search :: C:\\Users\\Paurash\\Desktop\\Harshal\\iNeuron Assignment\\Python Basic Assignment\n",
      "Enter the folder location where u want to create a new folder :: C:\\Users\\Paurash\\Desktop\\Harshal\\iNeuron Assignment\n",
      "No ipynb Files Found\n"
     ]
    }
   ],
   "source": [
    "import os\n",
    "\n",
    "user_extension = input('Enter the file type extension: .pdf // .jpg // or anyone you want :: ')\n",
    "user_file = input('Enter the folder location where u want to search :: ')\n",
    "\n",
    "os.chdir(user_file)\n",
    "\n",
    "count = 0\n",
    "\n",
    "# New Folder Creation\n",
    "directory = \"New folder\"\n",
    "new_folder = input('Enter the folder location where u want to create a new folder :: ')\n",
    "os.chdir(new_folder)\n",
    "parent_dir = os.getcwd()\n",
    "path = os.path.join(parent_dir, directory) \n",
    "try:\n",
    "    os.mkdir(path)\n",
    "except Exception as e:\n",
    "    print(e)\n",
    "\n",
    "\n",
    "for file_name in os.listdir():\n",
    "    if file_name.endswith(user_extension):\n",
    "        #os.unlink(file_name) ## This will delete the file\n",
    "        count+=1\n",
    "#         print(file_name)\n",
    "#         file_path = os.getcwd() + file_name\n",
    "        file_path = os.path.join(os.getcwd(), file_name)\n",
    "#         print(file_path)\n",
    "        shutil.copy(file_path, path)\n",
    "\n",
    "if count > 0:\n",
    "    print(f'Total {user_extension} Files copied :: {count}')\n",
    "else:\n",
    "    print(f'No {user_extension} Files Found')"
   ]
  },
  {
   "cell_type": "code",
   "execution_count": null,
   "id": "7b61ab37",
   "metadata": {},
   "outputs": [],
   "source": []
  }
 ],
 "metadata": {
  "kernelspec": {
   "display_name": "Python 3 (ipykernel)",
   "language": "python",
   "name": "python3"
  },
  "language_info": {
   "codemirror_mode": {
    "name": "ipython",
    "version": 3
   },
   "file_extension": ".py",
   "mimetype": "text/x-python",
   "name": "python",
   "nbconvert_exporter": "python",
   "pygments_lexer": "ipython3",
   "version": "3.9.7"
  }
 },
 "nbformat": 4,
 "nbformat_minor": 5
}
