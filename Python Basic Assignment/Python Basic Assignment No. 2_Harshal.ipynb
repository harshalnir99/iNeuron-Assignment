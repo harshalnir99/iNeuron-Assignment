{
 "cells": [
  {
   "cell_type": "markdown",
   "id": "fd045914",
   "metadata": {},
   "source": [
    "# Python Basic Asignment No:- 2"
   ]
  },
  {
   "cell_type": "code",
   "execution_count": null,
   "id": "150c8f26",
   "metadata": {},
   "outputs": [],
   "source": []
  },
  {
   "cell_type": "markdown",
   "id": "070cf778",
   "metadata": {},
   "source": [
    "<b>Question No.1<b>:- What are the two values of the Boolean data type? How do you write them?"
   ]
  },
  {
   "cell_type": "markdown",
   "id": "8bc40cf4",
   "metadata": {},
   "source": [
    "<b>Solution</b> :- <pre>Two values of the boolen data types are `True` and `False`. \n",
    "<b>Boolean</b> is also one of the datatypes which are used to store information. \n",
    "The Boolean DataType is generally used in conditional statements"
   ]
  },
  {
   "cell_type": "code",
   "execution_count": 1,
   "id": "61563920",
   "metadata": {},
   "outputs": [
    {
     "name": "stdout",
     "output_type": "stream",
     "text": [
      "True <class 'bool'>\n",
      "False <class 'bool'>\n"
     ]
    }
   ],
   "source": [
    "a=True\n",
    "b=False\n",
    "print(a,type(a))\n",
    "print(b,type(b))"
   ]
  },
  {
   "cell_type": "code",
   "execution_count": null,
   "id": "1f613688",
   "metadata": {},
   "outputs": [],
   "source": []
  },
  {
   "cell_type": "markdown",
   "id": "574dfaba",
   "metadata": {},
   "source": [
    " <b>Question No.2<b>:- What are the three different types of Boolean operators?"
   ]
  },
  {
   "cell_type": "markdown",
   "id": "3cb0fd1e",
   "metadata": {},
   "source": [
    "<b>Solution</b> :- <pre>\n",
    "Basically there are 3 Boolean Operators:\n",
    "    1. Logical AND (and)\n",
    "    2. Logical OR (or)\n",
    "    3. Logical NOT (not)"
   ]
  },
  {
   "cell_type": "code",
   "execution_count": 2,
   "id": "4f67fd6a",
   "metadata": {},
   "outputs": [
    {
     "name": "stdout",
     "output_type": "stream",
     "text": [
      "True\n",
      "True\n",
      "False\n"
     ]
    }
   ],
   "source": [
    "X = 150\n",
    "y = 200\n",
    "print(X >100 and y>100) # Example of boolean and\n",
    "print(X>100 or y>100) # Example of boolean or\n",
    "print(not(X>11)) # Example of boolean not"
   ]
  },
  {
   "cell_type": "code",
   "execution_count": null,
   "id": "6cc811d4",
   "metadata": {},
   "outputs": [],
   "source": []
  },
  {
   "cell_type": "markdown",
   "id": "2c52a1eb",
   "metadata": {},
   "source": [
    " <b>Question No.3<b>:- Make a list of each Boolean operator's truth tables (i.e. every possible combination of Boolean values for the operator and what it evaluate)"
   ]
  },
  {
   "cell_type": "markdown",
   "id": "4709ddd7",
   "metadata": {},
   "source": [
    "<b>Solution</b> :- <pre>\n",
    "    The Truth tables for the boolean tables are as follows:  \n",
    "<b> Truth Table for `and` operator</b>\n",
    "    True and True --> True   \n",
    "    True and False --> False  \n",
    "    False and True --> False  \n",
    "    False and False --> False\n",
    "    \n",
    "   \n",
    " <b> Truth Table for `or` operator </b>\n",
    "    True or True --> True   \n",
    "    True or False --> True  \n",
    "    False or True --> True  \n",
    "    False or False --> False\n",
    "    \n",
    "    \n",
    "<b> Truth Table for `not` operator </b>       \n",
    "    True not --> False\n",
    "    False not --> True"
   ]
  },
  {
   "cell_type": "code",
   "execution_count": null,
   "id": "14890221",
   "metadata": {},
   "outputs": [],
   "source": []
  },
  {
   "cell_type": "markdown",
   "id": "dca9b3b7",
   "metadata": {},
   "source": [
    " <b>Question No.4<b>:- What are the values of the following expressions ?\n",
    "* (5 &gt; 4) and (3 == 5)  \n",
    "* not (5 &gt; 4)  \n",
    "* (5 &gt; 4) or (3 == 5)  \n",
    "* not ((5 &gt; 4) or (3 == 5))  \n",
    "* (True and True) and (True == False)  \n",
    "* (not False) or (not True)  "
   ]
  },
  {
   "cell_type": "code",
   "execution_count": 3,
   "id": "49c17eeb",
   "metadata": {},
   "outputs": [
    {
     "name": "stdout",
     "output_type": "stream",
     "text": [
      "False\n",
      "False\n",
      "True\n",
      "False\n",
      "False\n",
      "True\n"
     ]
    }
   ],
   "source": [
    "print((5>4)and(3==5)) \n",
    "print(not(5>4)) \n",
    "print((5>4)or(3==5)) \n",
    "print(not((5>4)or(3==5))) \n",
    "print((True and True)and(True==False)) \n",
    "print((not False)or(not True)) "
   ]
  },
  {
   "cell_type": "code",
   "execution_count": null,
   "id": "8c196028",
   "metadata": {},
   "outputs": [],
   "source": []
  },
  {
   "cell_type": "markdown",
   "id": "2c2e2b6d",
   "metadata": {},
   "source": [
    " <b>Question No.5<b>:- What are the six comparison operators?"
   ]
  },
  {
   "cell_type": "markdown",
   "id": "895fad4c",
   "metadata": {},
   "source": [
    "<b>Solution</b> :- <pre>\n",
    "    Comparisor operators are as follows:\n",
    "    1. <  greater than\n",
    "    2. >  less than\n",
    "    3. <= less than equal to\n",
    "    4. >= greater than equal to\n",
    "    5. == equal to\n",
    "    6. != not equal to"
   ]
  },
  {
   "cell_type": "code",
   "execution_count": null,
   "id": "bb88e088",
   "metadata": {},
   "outputs": [],
   "source": []
  },
  {
   "cell_type": "markdown",
   "id": "e7f46513",
   "metadata": {},
   "source": [
    "<b>Question No.6<b>:-How do you tell the difference between the equal to and assignment operators? Describe a condition and when you would use one? "
   ]
  },
  {
   "cell_type": "markdown",
   "id": "e38f57e0",
   "metadata": {},
   "source": [
    "<b>Solution</b> :- <pre>\n",
    "The Basic Difference between the Equal to Operator and the Assignment Operator is is that \n",
    "the Equal to Operator is double equal to symbol (==).\n",
    "On the other hand, Assignment Operator have a single equal to symbol (=).\n",
    "\n",
    "Another difference is that\n",
    "Equal Operator is used for for comparision purpose\n",
    "Whereas\n",
    "Assignment Operator is used for assigning values to the Variable\n",
    "\n",
    "<b>For example:</b>\n",
    "<b>Assignment Operator Statement</b>\n",
    "a = 10\n",
    "This is example of <b>Equal to Operator</b>\n",
    "if a == 40:\n",
    "    print('Value of a is 40')\n",
    "else:\n",
    "    print('Value of a is not equal to 40')\n",
    "\n",
    "<b>O/P:</b> Value of a is 10"
   ]
  },
  {
   "cell_type": "code",
   "execution_count": null,
   "id": "19b62f09",
   "metadata": {},
   "outputs": [],
   "source": []
  },
  {
   "cell_type": "markdown",
   "id": "35ac5479",
   "metadata": {},
   "source": [
    "<b>Question No.7<b>:-\n",
    "<b>Identify the three blocks in this code:</b>\n",
    "<pre>\n",
    "spam = 0 \n",
    "\n",
    "if spam == 10:\n",
    "    print(\"eggs\")  \n",
    "\n",
    "if spam > 5:\n",
    "    print(\"bacon\")\n",
    "else:\n",
    "    print(\"ham\")\n",
    "    print(\"spam\")\n",
    "    print(\"spam\")\n"
   ]
  },
  {
   "cell_type": "markdown",
   "id": "9c2d8d10",
   "metadata": {},
   "source": [
    "<b>Solution</b><pre>\n",
    "<b>FIRST BLOCK OF CODE</b>\n",
    "<b>Assignment Operation</b>\n",
    "spam = 0 \n",
    "\n",
    "<b>SECOND BLOCK OF CODE</b>\n",
    "<b>If Condition</b>\n",
    "if spam == 10:\n",
    "    print(\"eggs\")  \n",
    "\n",
    "<b>THIRD BLOCK OF CODE</b>\n",
    "<b>Condition Checking with IF-ELSE Block</b>\n",
    "if spam > 5:\n",
    "    print(\"bacon\")\n",
    "else:\n",
    "    print(\"ham\")\n",
    "    print(\"spam\")\n",
    "    print(\"spam\")"
   ]
  },
  {
   "cell_type": "code",
   "execution_count": 4,
   "id": "8903504b",
   "metadata": {},
   "outputs": [
    {
     "name": "stdout",
     "output_type": "stream",
     "text": [
      "ham\n",
      "spam\n",
      "spam\n"
     ]
    }
   ],
   "source": [
    "spam = 0  \n",
    "if spam == 10:  \n",
    "    print('eggs')  # block #1\n",
    "if spam > 5:  \n",
    "    print('bacon')  # block #2\n",
    "else:  \n",
    "    print('ham')  # block #3\n",
    "print('spam')  \n",
    "print('spam')"
   ]
  },
  {
   "cell_type": "code",
   "execution_count": null,
   "id": "20730a81",
   "metadata": {},
   "outputs": [],
   "source": []
  },
  {
   "cell_type": "markdown",
   "id": "72f91144",
   "metadata": {},
   "source": [
    "<b>Question No. 8<b>:- Write code that prints Hello if 1 is stored in spam, prints Howdy if 2 is stored in spam, and prints Greetings! if anything else is stored in spam."
   ]
  },
  {
   "cell_type": "code",
   "execution_count": 5,
   "id": "50b95c31",
   "metadata": {},
   "outputs": [
    {
     "name": "stdout",
     "output_type": "stream",
     "text": [
      "Hello\n",
      "Howdy\n",
      "Greetings\n"
     ]
    }
   ],
   "source": [
    "def spamCode(spam):\n",
    "    if spam==1:\n",
    "        print('Hello')\n",
    "    elif spam==2:\n",
    "        print('Howdy')\n",
    "    else:\n",
    "        print('Greetings')\n",
    "        \n",
    "spamCode(1) \n",
    "spamCode(2)\n",
    "spamCode(3)"
   ]
  },
  {
   "cell_type": "code",
   "execution_count": null,
   "id": "74e09d34",
   "metadata": {},
   "outputs": [],
   "source": []
  },
  {
   "cell_type": "markdown",
   "id": "3594b2d5",
   "metadata": {},
   "source": [
    "<b>Question No. 9<b>:- If your programme is stuck in an endless loop, what keys you’ll press?"
   ]
  },
  {
   "cell_type": "markdown",
   "id": "7e9a84ea",
   "metadata": {},
   "source": [
    "<b>Solution</b> :- <pre>\n",
    "To stop a program stuck in an infinite loop, we press `Ctrl-c`."
   ]
  },
  {
   "cell_type": "code",
   "execution_count": null,
   "id": "6a22f397",
   "metadata": {},
   "outputs": [],
   "source": []
  },
  {
   "cell_type": "markdown",
   "id": "30f0a2fb",
   "metadata": {},
   "source": [
    "<b>Question No. 10<b>:-  How can you tell the difference between break and continue?"
   ]
  },
  {
   "cell_type": "markdown",
   "id": "ec5b5444",
   "metadata": {},
   "source": [
    "<b>Solution</b> :- <pre>\n",
    "The `break` statement will move the execution outside the loop if break condtion is satisfied.\n",
    "When continue comes in the conditional loop, it leaves the current iteration values for execution BUT continues from the next iterable object"
   ]
  },
  {
   "cell_type": "code",
   "execution_count": 6,
   "id": "bd853511",
   "metadata": {},
   "outputs": [
    {
     "name": "stdout",
     "output_type": "stream",
     "text": [
      "Current Value of i is 1\n",
      "Current Value of i is 2\n",
      "Current Value of i is 3\n",
      "Current Value of i is 4\n"
     ]
    }
   ],
   "source": [
    "## Break Condition\n",
    "\n",
    "list = [1,2,3,4,5,6,7,8,9]\n",
    "\n",
    "for i in list:\n",
    "    if i == 5:\n",
    "        break\n",
    "    else:\n",
    "        print(\"Current Value of i is {}\".format(i))"
   ]
  },
  {
   "cell_type": "code",
   "execution_count": 7,
   "id": "75d82aff",
   "metadata": {},
   "outputs": [
    {
     "name": "stdout",
     "output_type": "stream",
     "text": [
      "Current Value of i is 1\n",
      "Current Value of i is 2\n",
      "Current Value of i is 3\n",
      "Current Value of i is 4\n",
      "Current Value of i is 6\n",
      "Current Value of i is 7\n",
      "Current Value of i is 8\n",
      "Current Value of i is 9\n"
     ]
    }
   ],
   "source": [
    "## Continue Condition\n",
    "\n",
    "list = [1,2,3,4,5,6,7,8,9]\n",
    "\n",
    "for i in list:\n",
    "    if i == 5:\n",
    "        continue\n",
    "    else:\n",
    "        print(\"Current Value of i is {}\".format(i))"
   ]
  },
  {
   "cell_type": "code",
   "execution_count": null,
   "id": "a39c9b09",
   "metadata": {},
   "outputs": [],
   "source": []
  },
  {
   "cell_type": "markdown",
   "id": "1a2d4042",
   "metadata": {},
   "source": [
    "<b>Question No. 11<b>:-  In a for loop, what is the difference between range(10), range(0, 10), and range(0, 10, 1)?"
   ]
  },
  {
   "cell_type": "markdown",
   "id": "2c6f1273",
   "metadata": {},
   "source": [
    "<b>Solution</b> :- <pre> \n",
    "The Differences are as follows:  \n",
    "1. The <b>range(10) </b> call range from 0 to 9 (but not include 10)  \n",
    "2. The _**range (0,10)**_ explicitly tells the loop to start at 0  \n",
    "3. The _**range(0,10,1)**_ explicitly tells the loop to increase the variable by 1 on each iteration  "
   ]
  },
  {
   "cell_type": "code",
   "execution_count": 8,
   "id": "3e87efc0",
   "metadata": {},
   "outputs": [
    {
     "name": "stdout",
     "output_type": "stream",
     "text": [
      "0 1 2 3 4 5 6 7 8 9 "
     ]
    }
   ],
   "source": [
    "for i in range(10):\n",
    "    print(i , end=\" \")"
   ]
  },
  {
   "cell_type": "code",
   "execution_count": 9,
   "id": "ad44b178",
   "metadata": {},
   "outputs": [
    {
     "name": "stdout",
     "output_type": "stream",
     "text": [
      "1 2 3 4 5 6 7 8 9 "
     ]
    }
   ],
   "source": [
    "for i in range(1,10):\n",
    "    print(i , end=\" \")"
   ]
  },
  {
   "cell_type": "code",
   "execution_count": 10,
   "id": "6ae91e3f",
   "metadata": {},
   "outputs": [
    {
     "name": "stdout",
     "output_type": "stream",
     "text": [
      "0 2 4 6 8 "
     ]
    }
   ],
   "source": [
    "for i in range(0,10,2):\n",
    "    print(i , end=\" \")"
   ]
  },
  {
   "cell_type": "code",
   "execution_count": null,
   "id": "8a55298a",
   "metadata": {},
   "outputs": [],
   "source": []
  },
  {
   "cell_type": "markdown",
   "id": "a0ec3cfa",
   "metadata": {},
   "source": [
    " <b>Question No. 12<b>:- Write a short program that prints the numbers 1 to 10 using a for loop. Then write an equivalent program that prints the numbers 1 to 10 using a while loop ? "
   ]
  },
  {
   "cell_type": "code",
   "execution_count": 11,
   "id": "d30cef6d",
   "metadata": {},
   "outputs": [
    {
     "name": "stdout",
     "output_type": "stream",
     "text": [
      "--- Using For Loop ---\n",
      "0 1 2 3 4 5 6 7 8 9 10 "
     ]
    }
   ],
   "source": [
    "# For Using For loop\n",
    "print('-'*3,'Using For Loop','-'*3)\n",
    "for i in range (0,11):\n",
    "    print (i , end=\" \")"
   ]
  },
  {
   "cell_type": "code",
   "execution_count": 12,
   "id": "3b1c1aa0",
   "metadata": {},
   "outputs": [
    {
     "name": "stdout",
     "output_type": "stream",
     "text": [
      "-- Using While Loop --\n",
      "1 2 3 4 5 6 7 8 9 10 "
     ]
    }
   ],
   "source": [
    "print('-'*2,'Using While Loop','-'*2) \n",
    "i=1\n",
    "while i<=10:\n",
    "    print(i, end=\" \")\n",
    "    i+=1"
   ]
  },
  {
   "cell_type": "code",
   "execution_count": null,
   "id": "8b506274",
   "metadata": {},
   "outputs": [],
   "source": []
  },
  {
   "cell_type": "markdown",
   "id": "90202652",
   "metadata": {},
   "source": [
    " <b>Question No. 13<b>:-  If you had a function named bacon() inside a module named spam, how would you call it after importing spam ?"
   ]
  },
  {
   "cell_type": "markdown",
   "id": "00b974ae",
   "metadata": {},
   "source": [
    "<b>Solution</b> :- <pre>\n",
    " <b>First Define Module</b>\n",
    "import spam\n",
    "\n",
    "<b>Call Function </b>\n",
    "a = spam.bacon()"
   ]
  },
  {
   "cell_type": "code",
   "execution_count": null,
   "id": "a096d269",
   "metadata": {},
   "outputs": [],
   "source": []
  }
 ],
 "metadata": {
  "kernelspec": {
   "display_name": "Python 3 (ipykernel)",
   "language": "python",
   "name": "python3"
  },
  "language_info": {
   "codemirror_mode": {
    "name": "ipython",
    "version": 3
   },
   "file_extension": ".py",
   "mimetype": "text/x-python",
   "name": "python",
   "nbconvert_exporter": "python",
   "pygments_lexer": "ipython3",
   "version": "3.9.12"
  }
 },
 "nbformat": 4,
 "nbformat_minor": 5
}
