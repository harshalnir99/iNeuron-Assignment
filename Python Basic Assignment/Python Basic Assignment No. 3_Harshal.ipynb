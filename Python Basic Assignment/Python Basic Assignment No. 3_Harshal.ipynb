{
 "cells": [
  {
   "cell_type": "markdown",
   "id": "540b889a",
   "metadata": {},
   "source": [
    "# Python Basic Assignment No. 3"
   ]
  },
  {
   "cell_type": "code",
   "execution_count": null,
   "id": "2cb9342e",
   "metadata": {},
   "outputs": [],
   "source": []
  },
  {
   "cell_type": "markdown",
   "id": "23b5677a",
   "metadata": {},
   "source": [
    "<b>Question No 1<b> :- Why are functions advantageous to have in your programs?"
   ]
  },
  {
   "cell_type": "markdown",
   "id": "d2fd8088",
   "metadata": {},
   "source": [
    "<b>Solution</b>:- <pre>\n",
    "Below are the advantages of functions in programming\n",
    "1. Functions reduce the need for duplicate code. This makes programs shorter, easier to read, and easier to update. <b>The main advantage of functions is code Reusability </b>.\n",
    "2. Increases program readability & modularity of the program.\n",
    "3. Divide a complex problem into simpler ones.\n",
    "4. Reduces chances of error.\n",
    "5. Modifying a program becomes easier by using function"
   ]
  },
  {
   "cell_type": "code",
   "execution_count": null,
   "id": "f9093323",
   "metadata": {},
   "outputs": [],
   "source": []
  },
  {
   "cell_type": "markdown",
   "id": "23c836f5",
   "metadata": {},
   "source": [
    "<b>Question No 2<b> :-When does the code in a function run: when it's specified or when it's called?"
   ]
  },
  {
   "cell_type": "markdown",
   "id": "0c3c7ae5",
   "metadata": {},
   "source": [
    "<b>Solution</b>:- <pre>\n",
    "The code in a function executes when the function is called, not when the function is specified. When a function is \"called\" the program \"leaves\" the current section of code and begins to execute the first line inside the function."
   ]
  },
  {
   "cell_type": "code",
   "execution_count": 9,
   "id": "2f54e4d6",
   "metadata": {},
   "outputs": [
    {
     "name": "stdout",
     "output_type": "stream",
     "text": [
      "Harshal Nirgulkar\n"
     ]
    }
   ],
   "source": [
    "def my_function(name):\n",
    "    print(name +\" Nirgulkar\")\n",
    "\n",
    "my_function(\"Harshal\")"
   ]
  },
  {
   "cell_type": "code",
   "execution_count": null,
   "id": "e0cf2a85",
   "metadata": {},
   "outputs": [],
   "source": []
  },
  {
   "cell_type": "markdown",
   "id": "812d9532",
   "metadata": {},
   "source": [
    "<b>Question No 3<b> :-What statement creates a function?"
   ]
  },
  {
   "cell_type": "markdown",
   "id": "d5f0f06e",
   "metadata": {},
   "source": [
    "<b>Solution</b>:- <pre>\n",
    "The `def` statement defines a function  \n",
    "**Syntax of Function:**  \n",
    "` def function_name(parameters):\n",
    "    \"\"\"doc string\"\"\"          \n",
    "    -----function body-----\n",
    "    -----function body-----\n",
    "    return value\n"
   ]
  },
  {
   "cell_type": "code",
   "execution_count": 11,
   "id": "7dfae5ca",
   "metadata": {},
   "outputs": [
    {
     "name": "stdout",
     "output_type": "stream",
     "text": [
      "Harshal\n"
     ]
    }
   ],
   "source": [
    "def my_function(name):\n",
    "    print(name)\n",
    "\n",
    "my_function(\"Harshal\")"
   ]
  },
  {
   "cell_type": "code",
   "execution_count": null,
   "id": "ab7a04bd",
   "metadata": {},
   "outputs": [],
   "source": []
  },
  {
   "cell_type": "markdown",
   "id": "bc785e77",
   "metadata": {},
   "source": [
    "<b>Question No 4<b> :-What is the difference between a function and a function call?"
   ]
  },
  {
   "cell_type": "markdown",
   "id": "86a7af07",
   "metadata": {},
   "source": [
    "<b>Solution</b>:- <pre>\n",
    " A function is a block of code that does a particular operation and returns a result. It usually accepts inputs as parameters and returns a result. The parameters are not mandatory. A function call is the code used to pass control to a function."
   ]
  },
  {
   "cell_type": "code",
   "execution_count": 4,
   "id": "980db4a4",
   "metadata": {},
   "outputs": [
    {
     "name": "stdout",
     "output_type": "stream",
     "text": [
      "Harshal\n"
     ]
    }
   ],
   "source": [
    "def my_function(name):   ## Define Function\n",
    "    print(name)\n",
    "\n",
    "my_function(\"Harshal\") ## Call Function"
   ]
  },
  {
   "cell_type": "code",
   "execution_count": null,
   "id": "a299da6b",
   "metadata": {},
   "outputs": [],
   "source": []
  },
  {
   "cell_type": "markdown",
   "id": "9166d8b7",
   "metadata": {},
   "source": [
    "<b>Question No 5<b> :-How many global scopes are there in a Python program? How many local scopes?"
   ]
  },
  {
   "cell_type": "markdown",
   "id": "9147c35b",
   "metadata": {},
   "source": [
    "<b>Solution</b>:- <pre>\n",
    "There is only <b>one global scope</b> in Python program.\n",
    "The scope of the global variable is present within the entire program\n",
    "\n",
    "The <b>Local scope</b> is temporarily created when the function is executed.\n",
    "The scope of the local variable is limited to the function."
   ]
  },
  {
   "cell_type": "code",
   "execution_count": 5,
   "id": "542008ef",
   "metadata": {},
   "outputs": [
    {
     "name": "stdout",
     "output_type": "stream",
     "text": [
      "10\n"
     ]
    }
   ],
   "source": [
    "#Example of Global Scope\n",
    "a = 10\n",
    "\n",
    "def my_func():\n",
    "    print(a)\n",
    "\n",
    "my_func()"
   ]
  },
  {
   "cell_type": "code",
   "execution_count": 6,
   "id": "856fd277",
   "metadata": {},
   "outputs": [
    {
     "name": "stdout",
     "output_type": "stream",
     "text": [
      "10\n"
     ]
    }
   ],
   "source": [
    "#Example of Local Scope\n",
    "def my_func():\n",
    "    a = 10\n",
    "    def my_inner_func():\n",
    "        print(a)\n",
    "    my_inner_func()\n",
    "\n",
    "my_func() "
   ]
  },
  {
   "cell_type": "code",
   "execution_count": null,
   "id": "98d4169e",
   "metadata": {},
   "outputs": [],
   "source": []
  },
  {
   "cell_type": "markdown",
   "id": "854ea51a",
   "metadata": {},
   "source": [
    "<b>Question No 6<b> :- What happens to variables in a local scope when the function call returns?"
   ]
  },
  {
   "cell_type": "markdown",
   "id": "05b70b5d",
   "metadata": {},
   "source": [
    "<b>Solution</b>:- <pre>\n",
    "When a function is called, the local variable is temporarily created. As soon as the function returns, the local scope is destroyed and the variable no longer exists. We cannot access the that variable outside the function."
   ]
  },
  {
   "cell_type": "code",
   "execution_count": null,
   "id": "18e39cd8",
   "metadata": {},
   "outputs": [],
   "source": []
  },
  {
   "cell_type": "markdown",
   "id": "bc39c721",
   "metadata": {},
   "source": [
    "<b>Question No 7<b> :-What is the concept of a return value? Is it possible to have a return value in an expression?"
   ]
  },
  {
   "cell_type": "markdown",
   "id": "a88a094b",
   "metadata": {},
   "source": [
    "<b>Solution</b>:- <pre>\n",
    "The return is a value: that the function returns results after executing the block of statements (when the function completes the entire execution).\n",
    "    \n",
    "The return value can be of any types depending largely upon the operation perfomed within the function.\n",
    "It can be int, float, string, list and many more"
   ]
  },
  {
   "cell_type": "code",
   "execution_count": null,
   "id": "13bb78a8",
   "metadata": {},
   "outputs": [],
   "source": []
  },
  {
   "cell_type": "markdown",
   "id": "94a4c0b3",
   "metadata": {},
   "source": [
    "<b>Question No 8<b> :- If a function does not have a return statement, what is the return value of a call to that function?"
   ]
  },
  {
   "cell_type": "markdown",
   "id": "050eba95",
   "metadata": {},
   "source": [
    "<b>Solution</b>:- <pre>\n",
    " If there is no return statement for a function, its return value is `None`. The function always returns None if explicit return is not written."
   ]
  },
  {
   "cell_type": "code",
   "execution_count": null,
   "id": "39eac383",
   "metadata": {},
   "outputs": [],
   "source": []
  },
  {
   "cell_type": "markdown",
   "id": "f2176517",
   "metadata": {},
   "source": [
    "<b>Question No 9<b> :-How do you make a function variable refer to the global variable?"
   ]
  },
  {
   "cell_type": "markdown",
   "id": "0dcd7b2e",
   "metadata": {},
   "source": [
    "<b>Solution</b>:- <pre>\n",
    "Variables that are created or defined outside the function is called as the <b>Global Variables</b>\n",
    "\n",
    "Global Variables can be used anywhere within the program i.e. both inside or outside the function"
   ]
  },
  {
   "cell_type": "code",
   "execution_count": null,
   "id": "4dd2a99d",
   "metadata": {},
   "outputs": [],
   "source": [
    "# Globally Defining the variable\n",
    "x = 10\n",
    "# Defining the function\n",
    "def func():\n",
    "    print(x)\n",
    "# Calling the function\n",
    "func()"
   ]
  },
  {
   "cell_type": "code",
   "execution_count": null,
   "id": "89bbefe1",
   "metadata": {},
   "outputs": [],
   "source": [
    "# Defining the global Variable inside the Function and calling it outside\n",
    "def func1():\n",
    "    global abc \n",
    "    abc = 'ineuron'\n",
    "func1()\n",
    "print(abc)"
   ]
  },
  {
   "cell_type": "code",
   "execution_count": null,
   "id": "66a50381",
   "metadata": {},
   "outputs": [],
   "source": []
  },
  {
   "cell_type": "markdown",
   "id": "292b4ef2",
   "metadata": {},
   "source": [
    "<b>Question No 10<b> :-What is the data type of None?"
   ]
  },
  {
   "cell_type": "markdown",
   "id": "9dbd417b",
   "metadata": {},
   "source": [
    "<b>Solution</b>:- <pre>\n",
    "The data type of None is `NoneType`."
   ]
  },
  {
   "cell_type": "code",
   "execution_count": null,
   "id": "c064e89b",
   "metadata": {},
   "outputs": [],
   "source": [
    "type(N)"
   ]
  },
  {
   "cell_type": "code",
   "execution_count": null,
   "id": "26578d6a",
   "metadata": {},
   "outputs": [],
   "source": []
  },
  {
   "cell_type": "markdown",
   "id": "b1ea5b5e",
   "metadata": {},
   "source": [
    "<b>Question No 11<b> :-What does the sentence import areallyourpetsnamederic do?"
   ]
  },
  {
   "cell_type": "markdown",
   "id": "54cd47ab",
   "metadata": {},
   "source": [
    "<b>Solution</b>:- <pre>\n",
    "import statement imports a module named areallyourpetsnamederic. (But a module of this name doesnt exists in Python)"
   ]
  },
  {
   "cell_type": "code",
   "execution_count": null,
   "id": "3398a393",
   "metadata": {},
   "outputs": [],
   "source": []
  },
  {
   "cell_type": "markdown",
   "id": "bf0f215f",
   "metadata": {},
   "source": [
    "<b>Question No 12<b> :-If you had a bacon() feature in a spam module, what would you call it after importing spam?"
   ]
  },
  {
   "cell_type": "markdown",
   "id": "2312ea95",
   "metadata": {},
   "source": [
    "<b>Solution</b>:- <pre>\n",
    " Importing the Module\n",
    "    import spam\n",
    " Calling the Feature/Function\n",
    "    spam.bacon()"
   ]
  },
  {
   "cell_type": "code",
   "execution_count": null,
   "id": "232228cc",
   "metadata": {},
   "outputs": [],
   "source": []
  },
  {
   "cell_type": "markdown",
   "id": "95305960",
   "metadata": {},
   "source": [
    "<b>Question No 13<b> :- What can you do to save a programme from crashing if it encounters an error?"
   ]
  },
  {
   "cell_type": "markdown",
   "id": "441e2767",
   "metadata": {},
   "source": [
    "<b>Solution</b>:- <pre>\n",
    "Use the concept of Exception Handling i.e. try-except Block\n",
    "We can place the line of code that might cause an error in a `try` clause and use `except` block to handle the error as mentioned below"
   ]
  },
  {
   "cell_type": "code",
   "execution_count": null,
   "id": "ffb33611",
   "metadata": {},
   "outputs": [],
   "source": [
    "a= 10\n",
    "try:\n",
    "    print(a)\n",
    "except:\n",
    "    print(\"An exception occurred\")"
   ]
  },
  {
   "cell_type": "code",
   "execution_count": null,
   "id": "51c8ffbe",
   "metadata": {},
   "outputs": [],
   "source": []
  },
  {
   "cell_type": "markdown",
   "id": "783e35b9",
   "metadata": {},
   "source": [
    "<b>Question No 14<b> :- What is the purpose of the try clause? What is the purpose of the except clause?"
   ]
  },
  {
   "cell_type": "markdown",
   "id": "2c803d40",
   "metadata": {},
   "source": [
    "<b>Solution</b>:- <pre>\n",
    "<b>try clause </b> is used when you think that program can crash so you try to run the program and it crashes it wont disturb other part of program.\n",
    "\n",
    "<b>except clause</b> is used when you are trying a certain part of program but it fails so it used as a response to exception."
   ]
  },
  {
   "cell_type": "code",
   "execution_count": 12,
   "id": "3210de91",
   "metadata": {},
   "outputs": [
    {
     "name": "stdout",
     "output_type": "stream",
     "text": [
      "10\n"
     ]
    }
   ],
   "source": [
    "a = 10\n",
    "try:\n",
    "    print(a)\n",
    "except NameError:\n",
    "    print(\"Variable a is not defined\")\n",
    "except:\n",
    "    print(\"Something else went wrong\") "
   ]
  },
  {
   "cell_type": "code",
   "execution_count": null,
   "id": "618afec7",
   "metadata": {},
   "outputs": [],
   "source": []
  }
 ],
 "metadata": {
  "kernelspec": {
   "display_name": "Python 3 (ipykernel)",
   "language": "python",
   "name": "python3"
  },
  "language_info": {
   "codemirror_mode": {
    "name": "ipython",
    "version": 3
   },
   "file_extension": ".py",
   "mimetype": "text/x-python",
   "name": "python",
   "nbconvert_exporter": "python",
   "pygments_lexer": "ipython3",
   "version": "3.9.12"
  }
 },
 "nbformat": 4,
 "nbformat_minor": 5
}
