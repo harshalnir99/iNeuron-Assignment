{
 "cells": [
  {
   "cell_type": "markdown",
   "id": "6670ae8b",
   "metadata": {},
   "source": [
    "# Python Basic Assignment No :- 4"
   ]
  },
  {
   "cell_type": "code",
   "execution_count": null,
   "id": "42e0adc0",
   "metadata": {},
   "outputs": [],
   "source": []
  },
  {
   "cell_type": "markdown",
   "id": "14b33d62",
   "metadata": {},
   "source": [
    "<b>Question No. 1<b>:-What exactly is []?"
   ]
  },
  {
   "cell_type": "markdown",
   "id": "09072cc1",
   "metadata": {},
   "source": [
    "<b>Solution :-</b><pre>\n",
    " The empty list represented by `[]` is a list that contains no items. This is similar to `''` which represents an empty        string\n",
    "Generally a list is defined as x = []\n",
    "This defines the empty list"
   ]
  },
  {
   "cell_type": "code",
   "execution_count": 1,
   "id": "5465402c",
   "metadata": {},
   "outputs": [
    {
     "data": {
      "text/plain": [
       "list"
      ]
     },
     "execution_count": 1,
     "metadata": {},
     "output_type": "execute_result"
    }
   ],
   "source": [
    "x = []\n",
    "type(x)"
   ]
  },
  {
   "cell_type": "code",
   "execution_count": null,
   "id": "1c252c76",
   "metadata": {},
   "outputs": [],
   "source": []
  },
  {
   "cell_type": "markdown",
   "id": "3cb016bd",
   "metadata": {},
   "source": [
    "<b>Question No. 2<b>:-  In a list of values stored in a variable called spam, how would you assign the value 'hello' as the third value? (Assume [2, 4, 6, 8, 10] are in spam.)\n"
   ]
  },
  {
   "cell_type": "code",
   "execution_count": 2,
   "id": "5258f7af",
   "metadata": {},
   "outputs": [
    {
     "name": "stdout",
     "output_type": "stream",
     "text": [
      "[2, 4, 6, 8, 10]\n",
      "[2, 4, 'Hello', 8, 10]\n"
     ]
    }
   ],
   "source": [
    "#Solution :-\n",
    "\n",
    "spam = [2,4,6,8,10]\n",
    "print(spam)\n",
    "\n",
    "spam[2] = 'Hello'  ## Index start from zero\n",
    "\n",
    "print(spam)\n"
   ]
  },
  {
   "cell_type": "markdown",
   "id": "7aae0319",
   "metadata": {},
   "source": [
    "<pre>\n",
    "As the list index starts with 0 \n",
    "So to change the third value we have use 2 as the index value\n",
    "\n",
    "Also since list are mutable in nature, the values of the list can be changed once defined"
   ]
  },
  {
   "cell_type": "code",
   "execution_count": null,
   "id": "0a9eecdb",
   "metadata": {},
   "outputs": [],
   "source": []
  },
  {
   "cell_type": "markdown",
   "id": "6b7753fa",
   "metadata": {},
   "source": [
    "# Let's pretend the spam includes the list ['a', 'b', 'c', 'd'] for the next three queries."
   ]
  },
  {
   "cell_type": "markdown",
   "id": "1ae99c34",
   "metadata": {},
   "source": [
    "<b>Question No. 3<b>:- What is the value of spam[int(int('3' * 2) / 11)]?"
   ]
  },
  {
   "cell_type": "code",
   "execution_count": 3,
   "id": "52f1e6cb",
   "metadata": {},
   "outputs": [
    {
     "data": {
      "text/plain": [
       "'d'"
      ]
     },
     "execution_count": 3,
     "metadata": {},
     "output_type": "execute_result"
    }
   ],
   "source": [
    "#Solution :-\n",
    "\n",
    "spam = ['a','b','c','d']\n",
    "\n",
    "spam[int(int('3' * 2) / 11)]"
   ]
  },
  {
   "cell_type": "code",
   "execution_count": null,
   "id": "301ea5a3",
   "metadata": {},
   "outputs": [],
   "source": []
  },
  {
   "cell_type": "markdown",
   "id": "5be2f5ca",
   "metadata": {},
   "source": [
    "<b>Question No. 4<b>:- What is the value of spam[-1]?"
   ]
  },
  {
   "cell_type": "code",
   "execution_count": 4,
   "id": "dea5d2bc",
   "metadata": {},
   "outputs": [
    {
     "name": "stdout",
     "output_type": "stream",
     "text": [
      "spam[-1] ->  d\n"
     ]
    }
   ],
   "source": [
    "spam=['a','b','c','d']\n",
    "print('spam[-1] -> ',spam[-1])  #-1 index returns last item of the list  "
   ]
  },
  {
   "cell_type": "code",
   "execution_count": null,
   "id": "d7228125",
   "metadata": {},
   "outputs": [],
   "source": []
  },
  {
   "cell_type": "markdown",
   "id": "a67f16f7",
   "metadata": {},
   "source": [
    "<b>Question No. 5<b>:-What is the value of spam[:2]?"
   ]
  },
  {
   "cell_type": "code",
   "execution_count": 5,
   "id": "b4cf2473",
   "metadata": {},
   "outputs": [
    {
     "name": "stdout",
     "output_type": "stream",
     "text": [
      "spam[-1] ->  ['a', 'b']\n"
     ]
    }
   ],
   "source": [
    "spam=['a','b','c','d']\n",
    "print('spam[-1] -> ',spam[:2]) ### This means it will start from 0 index && got upto specified index-1"
   ]
  },
  {
   "cell_type": "code",
   "execution_count": null,
   "id": "ba784421",
   "metadata": {},
   "outputs": [],
   "source": []
  },
  {
   "cell_type": "markdown",
   "id": "a3aa2e59",
   "metadata": {},
   "source": [
    "# Let's pretend bacon has the list [3.14, 'cat,' 11, 'cat,' True] for the next three questions"
   ]
  },
  {
   "cell_type": "markdown",
   "id": "de009eb5",
   "metadata": {},
   "source": [
    "<b>Question No. 6<b>:- What is the value of bacon.index('cat')?"
   ]
  },
  {
   "cell_type": "code",
   "execution_count": 6,
   "id": "a6281d1f",
   "metadata": {},
   "outputs": [
    {
     "data": {
      "text/plain": [
       "1"
      ]
     },
     "execution_count": 6,
     "metadata": {},
     "output_type": "execute_result"
    }
   ],
   "source": [
    "bacon = [3.14, 'cat', 11, 'cat', True]\n",
    "\n",
    "bacon.index('cat')  # This will only the first index where the value is found"
   ]
  },
  {
   "cell_type": "code",
   "execution_count": null,
   "id": "c21206d7",
   "metadata": {},
   "outputs": [],
   "source": []
  },
  {
   "cell_type": "markdown",
   "id": "7230b7df",
   "metadata": {},
   "source": [
    "<b>Question No. 7<b>:- How does bacon.append(99) change the look of the list value in bacon?"
   ]
  },
  {
   "cell_type": "markdown",
   "id": "c144889f",
   "metadata": {},
   "source": [
    "<b>Solution</b>:-<pre>When an append operation is perfomed on the list, the value will be added to the last index of the list"
   ]
  },
  {
   "cell_type": "code",
   "execution_count": 7,
   "id": "634a6038",
   "metadata": {},
   "outputs": [
    {
     "data": {
      "text/plain": [
       "[3.14, 'cat', 11, 'cat', True, 99]"
      ]
     },
     "execution_count": 7,
     "metadata": {},
     "output_type": "execute_result"
    }
   ],
   "source": [
    "bacon.append(99)\n",
    "\n",
    "bacon"
   ]
  },
  {
   "cell_type": "code",
   "execution_count": null,
   "id": "b1dc50d5",
   "metadata": {},
   "outputs": [],
   "source": []
  },
  {
   "cell_type": "markdown",
   "id": "0d84e9f4",
   "metadata": {},
   "source": [
    "<b>Question No. 8<b>:-How does bacon.remove('cat') change the look of the list in bacon?"
   ]
  },
  {
   "cell_type": "code",
   "execution_count": 8,
   "id": "ad03c370",
   "metadata": {},
   "outputs": [
    {
     "data": {
      "text/plain": [
       "[3.14, 11, 'cat', True, 99]"
      ]
     },
     "execution_count": 8,
     "metadata": {},
     "output_type": "execute_result"
    }
   ],
   "source": [
    "#This will remove the first instant of the cat element from the list\n",
    "\n",
    "bacon.remove('cat')\n",
    "\n",
    "bacon"
   ]
  },
  {
   "cell_type": "code",
   "execution_count": null,
   "id": "838e93bd",
   "metadata": {},
   "outputs": [],
   "source": []
  },
  {
   "cell_type": "markdown",
   "id": "e3de72dc",
   "metadata": {},
   "source": [
    "<b>Question No. 9<b>:- What are the list concatenation and list replication operators?"
   ]
  },
  {
   "cell_type": "markdown",
   "id": "beff51d0",
   "metadata": {},
   "source": [
    "<b>Solution </b> :-<pre>\n",
    "List concatenation operator represted by + operator\n",
    "List replication operatotor represted by * operator"
   ]
  },
  {
   "cell_type": "code",
   "execution_count": 9,
   "id": "d206fbff",
   "metadata": {},
   "outputs": [
    {
     "data": {
      "text/plain": [
       "[1, 2, 3, 4, 5, 6, 7, 8, 9, 10]"
      ]
     },
     "execution_count": 9,
     "metadata": {},
     "output_type": "execute_result"
    }
   ],
   "source": [
    "list1 = [1,2,3,4,5]\n",
    "list2 = [6,7,8,9,10]\n",
    "\n",
    "# List Concatentaion\n",
    "a = list1 + list2\n",
    "a"
   ]
  },
  {
   "cell_type": "code",
   "execution_count": 10,
   "id": "3fe89572",
   "metadata": {},
   "outputs": [
    {
     "data": {
      "text/plain": [
       "[1, 2, 3, 4, 5, 1, 2, 3, 4, 5]"
      ]
     },
     "execution_count": 10,
     "metadata": {},
     "output_type": "execute_result"
    }
   ],
   "source": [
    "# List Replication\n",
    "b = list1 * 2\n",
    "b"
   ]
  },
  {
   "cell_type": "code",
   "execution_count": null,
   "id": "7b7923d9",
   "metadata": {},
   "outputs": [],
   "source": []
  },
  {
   "cell_type": "markdown",
   "id": "09986dd8",
   "metadata": {},
   "source": [
    "<b>Question No. 10<b>:- What is difference between the list methods append() and insert()?"
   ]
  },
  {
   "cell_type": "markdown",
   "id": "fb7149f9",
   "metadata": {},
   "source": [
    "<b>Solution </b> :-<pre>\n",
    "<b>Append() :</b> is used for adding the new element to the list AT THE LAST POSITION OF THE LIST\n",
    "\n",
    "<b>Insert() :</b> is used for adding the new element to the list AT THE SPECIFIED POSITION/INDEX IN THE LIST"
   ]
  },
  {
   "cell_type": "code",
   "execution_count": 11,
   "id": "672f2774",
   "metadata": {},
   "outputs": [
    {
     "data": {
      "text/plain": [
       "[1, 2, 3, 4, 5, 'Hello!!']"
      ]
     },
     "execution_count": 11,
     "metadata": {},
     "output_type": "execute_result"
    }
   ],
   "source": [
    "# Append Operation\n",
    "\n",
    "list1 = [1,2,3,4,5]\n",
    "list1.append('Hello!!')\n",
    "list1"
   ]
  },
  {
   "cell_type": "code",
   "execution_count": 12,
   "id": "a2445ed0",
   "metadata": {},
   "outputs": [
    {
     "data": {
      "text/plain": [
       "[1, 'Hello1', 2, 3, 4, 5]"
      ]
     },
     "execution_count": 12,
     "metadata": {},
     "output_type": "execute_result"
    }
   ],
   "source": [
    "# INSERT OPERATION\n",
    "list1 = [1,2,3,4,5]\n",
    "\n",
    "list1.insert(1, 'Hello1')   # Since the index starts from 0 its has added/inserted value to the 2nd position or the 1st index\n",
    "list1 "
   ]
  },
  {
   "cell_type": "code",
   "execution_count": null,
   "id": "865bdcb5",
   "metadata": {},
   "outputs": [],
   "source": []
  },
  {
   "cell_type": "markdown",
   "id": "e3901f19",
   "metadata": {},
   "source": [
    "<b>Question No. 11<b>:- What are the two methods for removing items from a list?"
   ]
  },
  {
   "cell_type": "markdown",
   "id": "d653baaf",
   "metadata": {},
   "source": [
    "<b>Solution </b> :-<pre>\n",
    "<b>POP() :</b> Removes the last element from the list    \n",
    "<b>REMOVE() :</b> Removes the first occurance of the specified element"
   ]
  },
  {
   "cell_type": "code",
   "execution_count": 13,
   "id": "45fa01d0",
   "metadata": {},
   "outputs": [
    {
     "data": {
      "text/plain": [
       "[1, 2, 3, 4]"
      ]
     },
     "execution_count": 13,
     "metadata": {},
     "output_type": "execute_result"
    }
   ],
   "source": [
    "## pop Method\n",
    "list1 = [1,2,3,4,5]\n",
    "\n",
    "list1.pop()\n",
    "\n",
    "list1"
   ]
  },
  {
   "cell_type": "code",
   "execution_count": 14,
   "id": "7d92b1fd",
   "metadata": {},
   "outputs": [
    {
     "data": {
      "text/plain": [
       "[1, 2, 3, 5, 4, 3, 2, 1]"
      ]
     },
     "execution_count": 14,
     "metadata": {},
     "output_type": "execute_result"
    }
   ],
   "source": [
    "## Remove Method\n",
    "\n",
    "list1 = [1,2,3,4,5,4,3,2,1]\n",
    "\n",
    "list1.remove(4)\n",
    "\n",
    "list1"
   ]
  },
  {
   "cell_type": "code",
   "execution_count": null,
   "id": "3f9d401d",
   "metadata": {},
   "outputs": [],
   "source": []
  },
  {
   "cell_type": "markdown",
   "id": "97847cbb",
   "metadata": {},
   "source": [
    "<b>Question No. 12<b>:-Describe how list values and string values are identical?"
   ]
  },
  {
   "cell_type": "markdown",
   "id": "a95563ec",
   "metadata": {},
   "source": [
    "<b>Solution </b> :-<pre>\n",
    "Below are some reasons how list values and string values are identical:\n",
    "1. Both lists and strings can be passed to `len()` function\n",
    "2. Have indexes and slices, be used in `for` loops, \n",
    "3. Can be concatenated or replicated\n",
    "4. Can be used with the `in` and `not in` operators."
   ]
  },
  {
   "cell_type": "code",
   "execution_count": null,
   "id": "578a9f3e",
   "metadata": {},
   "outputs": [],
   "source": []
  },
  {
   "cell_type": "markdown",
   "id": "c51f41ee",
   "metadata": {},
   "source": [
    "<b>Question No. 13<b>:- What's the difference between tuples and lists?"
   ]
  },
  {
   "cell_type": "markdown",
   "id": "3bad2b0b",
   "metadata": {},
   "source": [
    "<b>Solution </b> :-<pre>\n",
    "1. List are mutable \n",
    "    Mutable --> Once defined can be change over the period of time\n",
    "    Values can be added, remove and changed\n",
    "    \n",
    "   Tuples are immutable\n",
    "        Immutable --> Once defined cannot be change over the period of time\n",
    "\n",
    "2. List consume more memory to stored data as they are mutable\n",
    "   \n",
    "   Tuples consumes less memory"
   ]
  },
  {
   "cell_type": "code",
   "execution_count": null,
   "id": "030c04b7",
   "metadata": {},
   "outputs": [],
   "source": []
  },
  {
   "cell_type": "markdown",
   "id": "15c0babf",
   "metadata": {},
   "source": [
    "<b>Question No. 14<b>:- How do you type a tuple value that only contains the integer 42?"
   ]
  },
  {
   "cell_type": "markdown",
   "id": "1bdb7775",
   "metadata": {},
   "source": [
    "<b>Solution </b> :-<pre>\n",
    "(42,) (The trailing comma is mandatory. otherwise its considered as a int by python Interpreter)"
   ]
  },
  {
   "cell_type": "code",
   "execution_count": 16,
   "id": "1e29aa47",
   "metadata": {},
   "outputs": [
    {
     "name": "stdout",
     "output_type": "stream",
     "text": [
      "<class 'int'>\n",
      "<class 'tuple'>\n"
     ]
    }
   ],
   "source": [
    "tup1=(42)\n",
    "tup2=(42,)\n",
    "print(type(tup1))\n",
    "print(type(tup2))"
   ]
  },
  {
   "cell_type": "code",
   "execution_count": null,
   "id": "7827f885",
   "metadata": {},
   "outputs": [],
   "source": []
  },
  {
   "cell_type": "markdown",
   "id": "a866afd6",
   "metadata": {},
   "source": [
    "<b>Question No. 15<b>:-  How do you get a list value's tuple form? How do you get a tuple value's list form?"
   ]
  },
  {
   "cell_type": "markdown",
   "id": "918b45c9",
   "metadata": {},
   "source": [
    "<b>Solution </b> :-<pre>\n",
    "Python has a built-in function as list() and tuple()\n",
    "Using this we can get each and every value"
   ]
  },
  {
   "cell_type": "code",
   "execution_count": 17,
   "id": "5ecd3f22",
   "metadata": {},
   "outputs": [
    {
     "name": "stdout",
     "output_type": "stream",
     "text": [
      "<class 'tuple'>\n"
     ]
    },
    {
     "data": {
      "text/plain": [
       "(1, 2, 3, 4, 5, 6)"
      ]
     },
     "execution_count": 17,
     "metadata": {},
     "output_type": "execute_result"
    }
   ],
   "source": [
    "# List --> Tuple\n",
    "a_list = [1,2,3,4,5,6]\n",
    "\n",
    "a_tuple = tuple(a_list)\n",
    "\n",
    "print(type(a_tuple))\n",
    "a_tuple"
   ]
  },
  {
   "cell_type": "code",
   "execution_count": 18,
   "id": "2517cc33",
   "metadata": {},
   "outputs": [
    {
     "name": "stdout",
     "output_type": "stream",
     "text": [
      "<class 'list'>\n"
     ]
    },
    {
     "data": {
      "text/plain": [
       "[1, 2, 3, 4, 5, 6]"
      ]
     },
     "execution_count": 18,
     "metadata": {},
     "output_type": "execute_result"
    }
   ],
   "source": [
    "# Tuple --> List\n",
    "a_tuple = (1,2,3,4,5,6)\n",
    "\n",
    "a_list = list(a_tuple)\n",
    "\n",
    "print(type(a_list))\n",
    "a_list"
   ]
  },
  {
   "cell_type": "code",
   "execution_count": null,
   "id": "988594d1",
   "metadata": {},
   "outputs": [],
   "source": []
  },
  {
   "cell_type": "markdown",
   "id": "bf982ee2",
   "metadata": {},
   "source": [
    "<b>Question No. 16<b>:- Variables that \"contain\" list values are not necessarily lists themselves. Instead, what do they contain?"
   ]
  },
  {
   "cell_type": "markdown",
   "id": "0127f93d",
   "metadata": {},
   "source": [
    "<b>Solution </b> :-<pre>\n",
    "Variables will contain the references to list values"
   ]
  },
  {
   "cell_type": "code",
   "execution_count": null,
   "id": "e6947f96",
   "metadata": {},
   "outputs": [],
   "source": []
  },
  {
   "cell_type": "markdown",
   "id": "89c2912e",
   "metadata": {},
   "source": [
    " <b>Question No. 17<b>:- How do you distinguish between copy.copy() and copy.deepcopy()?"
   ]
  },
  {
   "cell_type": "markdown",
   "id": "30ccd35e",
   "metadata": {},
   "source": [
    "<b>Solution </b> :-<pre>\n",
    "<b>copy.copy() :</b> will create a new instance But the reference/address for the new the newly_created instance and the existing instance will be the same.\n",
    "\n",
    "<b>copy.deepcopy() :</b> will create a new instance AND the reference/address for the new the newly_created instance and the existing instance will be the different."
   ]
  },
  {
   "cell_type": "code",
   "execution_count": null,
   "id": "f89c4fae",
   "metadata": {},
   "outputs": [],
   "source": []
  }
 ],
 "metadata": {
  "kernelspec": {
   "display_name": "Python 3 (ipykernel)",
   "language": "python",
   "name": "python3"
  },
  "language_info": {
   "codemirror_mode": {
    "name": "ipython",
    "version": 3
   },
   "file_extension": ".py",
   "mimetype": "text/x-python",
   "name": "python",
   "nbconvert_exporter": "python",
   "pygments_lexer": "ipython3",
   "version": "3.9.12"
  }
 },
 "nbformat": 4,
 "nbformat_minor": 5
}
