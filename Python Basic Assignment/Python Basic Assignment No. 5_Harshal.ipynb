{
 "cells": [
  {
   "cell_type": "markdown",
   "id": "55d62440",
   "metadata": {},
   "source": [
    "# Python Basic Assignment No. 5"
   ]
  },
  {
   "cell_type": "code",
   "execution_count": null,
   "id": "b7871117",
   "metadata": {},
   "outputs": [],
   "source": []
  },
  {
   "cell_type": "markdown",
   "id": "eab80727",
   "metadata": {},
   "source": [
    "<b>Question No. 1<b>:- What does an empty dictionary's code look like?"
   ]
  },
  {
   "cell_type": "markdown",
   "id": "6edf72b6",
   "metadata": {},
   "source": [
    "<b>Solution :-</b><pre> An empty dictionary is often represented by empty curly brackets  \n",
    "d = {} "
   ]
  },
  {
   "cell_type": "code",
   "execution_count": 1,
   "id": "3ae0079c",
   "metadata": {},
   "outputs": [
    {
     "data": {
      "text/plain": [
       "dict"
      ]
     },
     "execution_count": 1,
     "metadata": {},
     "output_type": "execute_result"
    }
   ],
   "source": [
    "dict = {}\n",
    "type(dict)"
   ]
  },
  {
   "cell_type": "code",
   "execution_count": null,
   "id": "1e1082f7",
   "metadata": {},
   "outputs": [],
   "source": []
  },
  {
   "cell_type": "markdown",
   "id": "dd37bab9",
   "metadata": {},
   "source": [
    "<b>Question No. 2<b>:- What is the value of a dictionary value with the key 'foo' and the value 42?"
   ]
  },
  {
   "cell_type": "markdown",
   "id": "7032b5a2",
   "metadata": {},
   "source": [
    "<b>Solution :-</b><pre>  Dictionary will be {'foo' : 42}"
   ]
  },
  {
   "cell_type": "code",
   "execution_count": 2,
   "id": "5206dd78",
   "metadata": {},
   "outputs": [
    {
     "name": "stdout",
     "output_type": "stream",
     "text": [
      "{'foo': 42}\n"
     ]
    }
   ],
   "source": [
    "d = {'foo' : 42}\n",
    "print(d)"
   ]
  },
  {
   "cell_type": "code",
   "execution_count": null,
   "id": "00f6405c",
   "metadata": {},
   "outputs": [],
   "source": []
  },
  {
   "cell_type": "markdown",
   "id": "3a3c35ca",
   "metadata": {},
   "source": [
    "<b>Question No. 3<b>:- What is the most significant distinction between a dictionary and a list?"
   ]
  },
  {
   "cell_type": "markdown",
   "id": "1853b999",
   "metadata": {},
   "source": [
    "<b>Solution :-</b><pre> 1. <b>Dictionary</b> is created using {'keys' : 'values'} whereas <b>List</b> is created using [] with elements seperated by commas.\n",
    "2.<b>Dictionary</b> is key and value pairs hashed structure which stores map data whereas <b>List</b> is collection of index and value pairs.\n",
    "3. <b>Dictionary</b> keys can be of any datatype whereas<b>List</b> index is integers starting from zero.\n",
    "4. <b>Dictionary</b> is accessed using key and value pairs whereas <b>List</b> is accessed using indices.\n",
    "5. In <b>Dictionary</b> there is no guarentee for maintining order of entered data whereas in <b>List</b> the order of entered data is maintained."
   ]
  },
  {
   "cell_type": "code",
   "execution_count": null,
   "id": "8ffb3ab9",
   "metadata": {},
   "outputs": [],
   "source": []
  },
  {
   "cell_type": "markdown",
   "id": "91a82a93",
   "metadata": {},
   "source": [
    "<b>Question No. 4<b>:- What happens if you try to access spam['foo'] if spam is {'bar': 100}?"
   ]
  },
  {
   "cell_type": "markdown",
   "id": "9912be0c",
   "metadata": {},
   "source": [
    "<b>Solution :-</b><pre>  we will get a keyError KeyError: 'foo'"
   ]
  },
  {
   "cell_type": "code",
   "execution_count": 3,
   "id": "3d961416",
   "metadata": {},
   "outputs": [
    {
     "ename": "KeyError",
     "evalue": "'foo'",
     "output_type": "error",
     "traceback": [
      "\u001b[1;31m---------------------------------------------------------------------------\u001b[0m",
      "\u001b[1;31mKeyError\u001b[0m                                  Traceback (most recent call last)",
      "Input \u001b[1;32mIn [3]\u001b[0m, in \u001b[0;36m<cell line: 2>\u001b[1;34m()\u001b[0m\n\u001b[0;32m      1\u001b[0m spam \u001b[38;5;241m=\u001b[39m {\u001b[38;5;124m'\u001b[39m\u001b[38;5;124mbar\u001b[39m\u001b[38;5;124m'\u001b[39m: \u001b[38;5;241m100\u001b[39m}\n\u001b[1;32m----> 2\u001b[0m \u001b[43mspam\u001b[49m\u001b[43m[\u001b[49m\u001b[38;5;124;43m'\u001b[39;49m\u001b[38;5;124;43mfoo\u001b[39;49m\u001b[38;5;124;43m'\u001b[39;49m\u001b[43m]\u001b[49m\n",
      "\u001b[1;31mKeyError\u001b[0m: 'foo'"
     ]
    }
   ],
   "source": [
    "spam = {'bar': 100}\n",
    "spam['foo']"
   ]
  },
  {
   "cell_type": "code",
   "execution_count": null,
   "id": "73144e14",
   "metadata": {},
   "outputs": [],
   "source": []
  },
  {
   "cell_type": "markdown",
   "id": "d5fa89d7",
   "metadata": {},
   "source": [
    "<b>Question No. 5<b>:- If a dictionary is stored in spam, what is the difference between the expressions 'cat' in spam and 'cat' in spam.keys()?"
   ]
  },
  {
   "cell_type": "markdown",
   "id": "95a7aff1",
   "metadata": {},
   "source": [
    "<b>Solution :-</b><pre> There is no difference . The operator checks whether a value exits as a key in the dictionary or not"
   ]
  },
  {
   "cell_type": "code",
   "execution_count": 4,
   "id": "1eeb2ddb",
   "metadata": {},
   "outputs": [
    {
     "name": "stdout",
     "output_type": "stream",
     "text": [
      "True\n"
     ]
    }
   ],
   "source": [
    "spam = {'cat': 'Billi', 'dog' : 'kutta', 'parrot' : 'mitthu'}\n",
    "\n",
    "if 'cat' in spam:\n",
    "    print(True)\n",
    "else:\n",
    "    print(False)"
   ]
  },
  {
   "cell_type": "code",
   "execution_count": 5,
   "id": "79d0dc91",
   "metadata": {},
   "outputs": [
    {
     "name": "stdout",
     "output_type": "stream",
     "text": [
      "True\n"
     ]
    }
   ],
   "source": [
    "spam = {'cat': 'Billi', 'dog' : 'kutta', 'parrot' : 'mitthu'}\n",
    "\n",
    "if 'cat' in spam:\n",
    "    print(True)\n",
    "else:\n",
    "    print(False)"
   ]
  },
  {
   "cell_type": "code",
   "execution_count": null,
   "id": "5ad3719f",
   "metadata": {},
   "outputs": [],
   "source": []
  },
  {
   "cell_type": "markdown",
   "id": "c37baed0",
   "metadata": {},
   "source": [
    "<b>Question No. 6<b>:- If a dictionary is stored in spam, what is the difference between the expressions 'cat' in spam and 'cat' in spam.values()?"
   ]
  },
  {
   "cell_type": "markdown",
   "id": "2d7b50ba",
   "metadata": {},
   "source": [
    "<b>Solution :-</b><pre>  'cat' in spam checks whether there is a 'cat' key in the dictionary, while 'cat' in spam.values() checks whether there is a value 'cat' for one of the keys in spam."
   ]
  },
  {
   "cell_type": "code",
   "execution_count": 6,
   "id": "4bd6c2e2",
   "metadata": {},
   "outputs": [
    {
     "name": "stdout",
     "output_type": "stream",
     "text": [
      "False\n"
     ]
    }
   ],
   "source": [
    "spam = {'Billi': 'cat', 'dog' : 'kutta', 'parrot' : 'mitthu'}\n",
    "\n",
    "if 'cat' in spam:\n",
    "    print(True)\n",
    "else:\n",
    "    print(False)"
   ]
  },
  {
   "cell_type": "code",
   "execution_count": 7,
   "id": "67700e92",
   "metadata": {},
   "outputs": [
    {
     "name": "stdout",
     "output_type": "stream",
     "text": [
      "True\n"
     ]
    }
   ],
   "source": [
    "if 'cat' in spam.values():\n",
    "    print(True)\n",
    "else:\n",
    "    print(False)"
   ]
  },
  {
   "cell_type": "code",
   "execution_count": null,
   "id": "33e3dd56",
   "metadata": {},
   "outputs": [],
   "source": []
  },
  {
   "cell_type": "markdown",
   "id": "8042e7bc",
   "metadata": {},
   "source": [
    "<b>Question No. 7<b>:- <pre>\n",
    "What is a shortcut for the following code?\n",
    "if 'color' not in spam:\n",
    "spam['color'] = 'black'\n"
   ]
  },
  {
   "cell_type": "markdown",
   "id": "592e1de8",
   "metadata": {},
   "source": [
    "<b>Solution :-</b><pre>  spam.setdefault('color','black')"
   ]
  },
  {
   "cell_type": "code",
   "execution_count": 8,
   "id": "a0e518f5",
   "metadata": {},
   "outputs": [
    {
     "data": {
      "text/plain": [
       "{'cat': 'Billi', 'color': 'black'}"
      ]
     },
     "execution_count": 8,
     "metadata": {},
     "output_type": "execute_result"
    }
   ],
   "source": [
    "spam ={'cat':'Billi'}\n",
    "spam.setdefault('color','black')\n",
    "spam"
   ]
  },
  {
   "cell_type": "code",
   "execution_count": null,
   "id": "09b680ff",
   "metadata": {},
   "outputs": [],
   "source": []
  },
  {
   "cell_type": "markdown",
   "id": "f4aea56d",
   "metadata": {},
   "source": [
    "<b>Question No. 8<b>:- How do you \"pretty print\" dictionary values using which module and function?"
   ]
  },
  {
   "cell_type": "markdown",
   "id": "371e1575",
   "metadata": {},
   "source": [
    "<b>Solution :-</b><pre>  we can pretty print a dictionary using three functions\n",
    "\n",
    "by using pprint() function of pprint module\n",
    "Note: pprint() function doesnot prettify nested dictionaries\n",
    "by using dumps() method of json module\n",
    "by using dumps() method of yaml module"
   ]
  },
  {
   "cell_type": "code",
   "execution_count": 10,
   "id": "63c7f0b9",
   "metadata": {},
   "outputs": [
    {
     "name": "stdout",
     "output_type": "stream",
     "text": [
      "Printing using print() function\n",
      " [{'Name': 'Harshal', 'Age': '28', 'Residence': {'Country': 'India', 'City': 'Nagpur'}}, {'Name': 'Amey', 'Age': '44', 'Residence': {'Country': 'USA', 'City': 'Toronto'}}, {'Name': 'Nijal', 'Age': '29', 'Residence': {'Country': 'UK', 'City': 'Canada'}}, {'Name': 'Vishal', 'Age': '35', 'Residence': {'Country': 'India', 'City': 'Gujarat'}}]\n",
      "----------------------------------------------------------------------\n",
      "Printing using pprint() funciton\n",
      "[{'Age': '28',\n",
      "  'Name': 'Harshal',\n",
      "  'Residence': {'City': 'Nagpur', 'Country': 'India'}},\n",
      " {'Age': '44',\n",
      "  'Name': 'Amey',\n",
      "  'Residence': {'City': 'Toronto', 'Country': 'USA'}},\n",
      " {'Age': '29',\n",
      "  'Name': 'Nijal',\n",
      "  'Residence': {'City': 'Canada', 'Country': 'UK'}},\n",
      " {'Age': '35',\n",
      "  'Name': 'Vishal',\n",
      "  'Residence': {'City': 'Gujarat', 'Country': 'India'}}]\n",
      "----------------------------------------------------------------------\n",
      "Printing using dumps() method\n",
      " [\n",
      "    {\n",
      "        \"Name\": \"Harshal\",\n",
      "        \"Age\": \"28\",\n",
      "        \"Residence\": {\n",
      "            \"Country\": \"India\",\n",
      "            \"City\": \"Nagpur\"\n",
      "        }\n",
      "    },\n",
      "    {\n",
      "        \"Name\": \"Amey\",\n",
      "        \"Age\": \"44\",\n",
      "        \"Residence\": {\n",
      "            \"Country\": \"USA\",\n",
      "            \"City\": \"Toronto\"\n",
      "        }\n",
      "    },\n",
      "    {\n",
      "        \"Name\": \"Nijal\",\n",
      "        \"Age\": \"29\",\n",
      "        \"Residence\": {\n",
      "            \"Country\": \"UK\",\n",
      "            \"City\": \"Canada\"\n",
      "        }\n",
      "    },\n",
      "    {\n",
      "        \"Name\": \"Vishal\",\n",
      "        \"Age\": \"35\",\n",
      "        \"Residence\": {\n",
      "            \"Country\": \"India\",\n",
      "            \"City\": \"Gujarat\"\n",
      "        }\n",
      "    }\n",
      "]\n",
      "----------------------------------------------------------------------\n",
      "Printing using dump() method\n",
      " - Age: '28'\n",
      "  Name: Harshal\n",
      "  Residence:\n",
      "    City: Nagpur\n",
      "    Country: India\n",
      "- Age: '44'\n",
      "  Name: Amey\n",
      "  Residence:\n",
      "    City: Toronto\n",
      "    Country: USA\n",
      "- Age: '29'\n",
      "  Name: Nijal\n",
      "  Residence:\n",
      "    City: Canada\n",
      "    Country: UK\n",
      "- Age: '35'\n",
      "  Name: Vishal\n",
      "  Residence:\n",
      "    City: Gujarat\n",
      "    Country: India\n",
      "\n"
     ]
    }
   ],
   "source": [
    "ndict = [\n",
    "  {'Name': 'Harshal', 'Age': '28', 'Residence': {'Country':'India', 'City': 'Nagpur'}},\n",
    "  {'Name': 'Amey', 'Age': '44', 'Residence': {'Country':'USA', 'City': 'Toronto'}},\n",
    "  {'Name': 'Nijal', 'Age': '29', 'Residence': {'Country':'UK', 'City': 'Canada'}},\n",
    "  {'Name': 'Vishal', 'Age': '35', 'Residence': {'Country':'India', 'City': 'Gujarat'}}\n",
    "]\n",
    "\n",
    "print('Printing using print() function\\n',ndict)\n",
    "print('-'*70)\n",
    "import pprint\n",
    "print('Printing using pprint() funciton')\n",
    "pprint.pprint(ndict)\n",
    "print('-'*70)\n",
    "import json\n",
    "dump = json.dumps(ndict, indent=4)\n",
    "print('Printing using dumps() method\\n', dump)\n",
    "print('-'*70)\n",
    "import yaml\n",
    "dump = yaml.dump(ndict)\n",
    "print('Printing using dump() method\\n', dump)"
   ]
  },
  {
   "cell_type": "code",
   "execution_count": null,
   "id": "26f0af23",
   "metadata": {},
   "outputs": [],
   "source": []
  },
  {
   "cell_type": "markdown",
   "id": "90c1c4e5",
   "metadata": {},
   "source": [
    "# Thank You"
   ]
  },
  {
   "cell_type": "code",
   "execution_count": null,
   "id": "fdb9ec4b",
   "metadata": {},
   "outputs": [],
   "source": []
  }
 ],
 "metadata": {
  "kernelspec": {
   "display_name": "Python 3 (ipykernel)",
   "language": "python",
   "name": "python3"
  },
  "language_info": {
   "codemirror_mode": {
    "name": "ipython",
    "version": 3
   },
   "file_extension": ".py",
   "mimetype": "text/x-python",
   "name": "python",
   "nbconvert_exporter": "python",
   "pygments_lexer": "ipython3",
   "version": "3.9.12"
  }
 },
 "nbformat": 4,
 "nbformat_minor": 5
}
