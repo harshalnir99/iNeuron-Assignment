{
 "cells": [
  {
   "cell_type": "markdown",
   "id": "bc0f14cc",
   "metadata": {},
   "source": [
    "# Python Basic Assignment No. 6"
   ]
  },
  {
   "cell_type": "code",
   "execution_count": null,
   "id": "17c6d22b",
   "metadata": {},
   "outputs": [],
   "source": []
  },
  {
   "cell_type": "markdown",
   "id": "7cf1d264",
   "metadata": {},
   "source": [
    "<b>Question No. 1<b>:- What are escape characters, and how do you use them?"
   ]
  },
  {
   "cell_type": "markdown",
   "id": "a2d24803",
   "metadata": {},
   "source": [
    "<b>Solution :-</b><pre>Escape character are used we want to enter a character that are illegal in string\n",
    "Escape character is a backlash \\; which is followed by a character that we want to insert.\n",
    "For example:\n",
    "        \\n ---> Next Line\n",
    "        \\t ---> Tab\n",
    "        \\' ---> String"
   ]
  },
  {
   "cell_type": "code",
   "execution_count": 1,
   "id": "703a27e4",
   "metadata": {},
   "outputs": [
    {
     "name": "stdout",
     "output_type": "stream",
     "text": [
      "Hi my name is \t Harshal N\n",
      "Hi my name is \n",
      " Harshal N\n"
     ]
    }
   ],
   "source": [
    "print(\"Hi my name is \\t Harshal N\")\n",
    "print(\"Hi my name is \\n Harshal N\")\n"
   ]
  },
  {
   "cell_type": "code",
   "execution_count": null,
   "id": "17fa09ad",
   "metadata": {},
   "outputs": [],
   "source": []
  },
  {
   "cell_type": "markdown",
   "id": "5508c798",
   "metadata": {},
   "source": [
    "<b>Question No. 2<b>:- What do the escape characters n and t stand for?"
   ]
  },
  {
   "cell_type": "markdown",
   "id": "b23bc41c",
   "metadata": {},
   "source": [
    "<b>Solution :-</b><pre>  Escape characters 'n' and 't' stand for 'newline' and 'tab' respectively."
   ]
  },
  {
   "cell_type": "code",
   "execution_count": null,
   "id": "a7f1b1ea",
   "metadata": {},
   "outputs": [],
   "source": []
  },
  {
   "cell_type": "markdown",
   "id": "12d02a5f",
   "metadata": {},
   "source": [
    "<b>Question No. 3<b>:- What is the way to include backslash characters in a string?"
   ]
  },
  {
   "cell_type": "markdown",
   "id": "8953913d",
   "metadata": {},
   "source": [
    "<b>Solution :-</b><pre>  The `\\\\` escape character will represent the backslash character in a string"
   ]
  },
  {
   "cell_type": "code",
   "execution_count": 2,
   "id": "209708a8",
   "metadata": {},
   "outputs": [
    {
     "name": "stdout",
     "output_type": "stream",
     "text": [
      "My Name is Harshal Nirgulkar & I'm going to nagpur\n"
     ]
    }
   ],
   "source": [
    "\n",
    "print('My Name is Harshal Nirgulkar & I\\'m going to nagpur')\n"
   ]
  },
  {
   "cell_type": "code",
   "execution_count": null,
   "id": "e54f1ad0",
   "metadata": {},
   "outputs": [],
   "source": []
  },
  {
   "cell_type": "markdown",
   "id": "b3d6804e",
   "metadata": {},
   "source": [
    "<b>Question No. 4<b>:- The string \"Howl's Moving Castle\" is a correct value. Why isn't the single quote character in the word Howl's not escaped a problem?"
   ]
  },
  {
   "cell_type": "markdown",
   "id": "c817d353",
   "metadata": {},
   "source": [
    "<b>Solution :-</b><pre> str1 = \"Howl's Moving Castle\"\n",
    "\n",
    "This is a correct value as:\n",
    "    The str1 has started with double quotes ; Also the str1 has ended with double quote\n",
    "    Now even if we have a single quote is in between two double quote ; this won`t have any issue\n",
    "    \n",
    "To explain in simple words:\n",
    "    \" It's a huge bunglow  \" Correct Statement ---> \" ' \"\n",
    "    \" It\"s a huge bunglow\" Incorrect Statement ---> \" \" \"\n",
    "    \n",
    "    ' It's a huge bunglow' Incorrect Statement ---> ' ' '\n",
    "    \" It's a huge bunglow\" Correct Statement ---> ' \" '"
   ]
  },
  {
   "cell_type": "code",
   "execution_count": null,
   "id": "3fdeeeaf",
   "metadata": {},
   "outputs": [],
   "source": []
  },
  {
   "cell_type": "markdown",
   "id": "ca5f3c40",
   "metadata": {},
   "source": [
    "<b>Question No. 5<b>:- How do you write a string of newlines if you don't want to use the n character?"
   ]
  },
  {
   "cell_type": "markdown",
   "id": "810dec1a",
   "metadata": {},
   "source": [
    "<b>Solution :-</b><pre> Within the print() function we can use the parameter end and assignment the value \\n\n",
    "This will automatically print the next value in the new line"
   ]
  },
  {
   "cell_type": "code",
   "execution_count": 3,
   "id": "b1984206",
   "metadata": {},
   "outputs": [
    {
     "name": "stdout",
     "output_type": "stream",
     "text": [
      "My name is Harshal\n",
      "How are you?\n"
     ]
    }
   ],
   "source": [
    "print('My name is Harshal', end='\\n')\n",
    "print('How are you?')"
   ]
  },
  {
   "cell_type": "code",
   "execution_count": 4,
   "id": "eca9efbd",
   "metadata": {},
   "outputs": [
    {
     "name": "stdout",
     "output_type": "stream",
     "text": [
      "My name is Harshal , How are you?\n"
     ]
    }
   ],
   "source": [
    "\n",
    "print('My name is Harshal', end=' , ')\n",
    "print('How are you?')"
   ]
  },
  {
   "cell_type": "code",
   "execution_count": 5,
   "id": "42fef9c9",
   "metadata": {},
   "outputs": [
    {
     "name": "stdout",
     "output_type": "stream",
     "text": [
      "Hello All..\n",
      "My Name is Harshal Nirgulkar.\n",
      "i am currently working as data analyst.\n",
      "I have knowledge in DL, Ml, SQl etc\n",
      "\n"
     ]
    }
   ],
   "source": [
    "# This is the another nmethod\n",
    "\n",
    "data = \"\"\"Hello All..\n",
    "My Name is Harshal Nirgulkar.\n",
    "i am currently working as data analyst.\n",
    "I have knowledge in DL, Ml, SQl etc\n",
    "\"\"\"\n",
    "print(data)"
   ]
  },
  {
   "cell_type": "code",
   "execution_count": null,
   "id": "d96043e2",
   "metadata": {},
   "outputs": [],
   "source": []
  },
  {
   "cell_type": "markdown",
   "id": "bdd7b426",
   "metadata": {},
   "source": [
    "<b>Question No. 6 <b>:- <pre> What are the values of the given expressions?\n",
    "'Hello, world!'[1]\n",
    "'Hello, world!'[0:5]\n",
    "'Hello, world!'[:5]\n",
    "'Hello, world!'[3:]\n"
   ]
  },
  {
   "cell_type": "markdown",
   "id": "398dad14",
   "metadata": {},
   "source": [
    "<b>Solution :-</b><pre> 'Hello, world!'[1] :: Value will be 'e'\n",
    "\n",
    "'Hello, world!'[0:5] :: Value will be 'Hello'\n",
    "\n",
    "'Hello, world!'[:5] :: Value will be 'Hello'\n",
    "\n",
    "'Hello, world!'[3:] :: Value will be 'lo, world!'"
   ]
  },
  {
   "cell_type": "code",
   "execution_count": 6,
   "id": "31bc2f2e",
   "metadata": {},
   "outputs": [
    {
     "name": "stdout",
     "output_type": "stream",
     "text": [
      "'Hello, world!'[1] :: value will be e\n",
      "'Hello, world!'[0:5] :: value will be Hello\n",
      "'Hello, world!'[:5] :: value will be Hello\n",
      "'Hello, world!'[3:] :: value will be lo, world!\n"
     ]
    }
   ],
   "source": [
    "print(\"'Hello, world!'[1] :: value will be\",'Hello, world!'[1]  )\n",
    "\n",
    "print(\"'Hello, world!'[0:5] :: value will be\",'Hello, world!'[0:5] )\n",
    "\n",
    "print(\"'Hello, world!'[:5] :: value will be\",'Hello, world!'[:5] )\n",
    "\n",
    "print(\"'Hello, world!'[3:] :: value will be\",'Hello, world!'[3:] )"
   ]
  },
  {
   "cell_type": "code",
   "execution_count": null,
   "id": "c84c97b4",
   "metadata": {},
   "outputs": [],
   "source": []
  },
  {
   "cell_type": "markdown",
   "id": "6759755c",
   "metadata": {},
   "source": [
    "<b>Question No. 6 <b>:- <pre> What are the values of the following expressions?\n",
    "'Hello'.upper()\n",
    "'Hello'.upper().isupper()\n",
    "'Hello'.upper().lower()\n"
   ]
  },
  {
   "cell_type": "markdown",
   "id": "bd409205",
   "metadata": {},
   "source": [
    "<b>Solution :-</b><pre>  The values for the given expressions are"
   ]
  },
  {
   "cell_type": "code",
   "execution_count": 7,
   "id": "088947a1",
   "metadata": {},
   "outputs": [
    {
     "name": "stdout",
     "output_type": "stream",
     "text": [
      "HELLO\n"
     ]
    }
   ],
   "source": [
    "print('Hello'.upper())"
   ]
  },
  {
   "cell_type": "code",
   "execution_count": 8,
   "id": "3c365619",
   "metadata": {},
   "outputs": [
    {
     "name": "stdout",
     "output_type": "stream",
     "text": [
      "True\n"
     ]
    }
   ],
   "source": [
    "print('Hello'.upper().isupper())"
   ]
  },
  {
   "cell_type": "code",
   "execution_count": 9,
   "id": "3957a396",
   "metadata": {},
   "outputs": [
    {
     "name": "stdout",
     "output_type": "stream",
     "text": [
      "hello\n"
     ]
    }
   ],
   "source": [
    "print('Hello'.upper().lower())"
   ]
  },
  {
   "cell_type": "code",
   "execution_count": null,
   "id": "a462fad9",
   "metadata": {},
   "outputs": [],
   "source": []
  },
  {
   "cell_type": "markdown",
   "id": "4f1dd2db",
   "metadata": {},
   "source": [
    "<b>Question No. 8 <b>:- <pre>  What are the values of the following expressions?\n",
    "'Remember, remember, the fifth of July.'.split()\n",
    "'-'.join('There can only one.'.split())\n"
   ]
  },
  {
   "cell_type": "code",
   "execution_count": 10,
   "id": "f99ba670",
   "metadata": {},
   "outputs": [
    {
     "data": {
      "text/plain": [
       "['Remember,', 'remember,', 'the', 'fifth', 'of', 'July.']"
      ]
     },
     "execution_count": 10,
     "metadata": {},
     "output_type": "execute_result"
    }
   ],
   "source": [
    "'Remember, remember, the fifth of July.'.split()"
   ]
  },
  {
   "cell_type": "code",
   "execution_count": 11,
   "id": "a08ec4f4",
   "metadata": {},
   "outputs": [
    {
     "data": {
      "text/plain": [
       "'There-can-only-one.'"
      ]
     },
     "execution_count": 11,
     "metadata": {},
     "output_type": "execute_result"
    }
   ],
   "source": [
    "'-'.join('There can only one.'.split())"
   ]
  },
  {
   "cell_type": "code",
   "execution_count": null,
   "id": "8943a15e",
   "metadata": {},
   "outputs": [],
   "source": []
  },
  {
   "cell_type": "markdown",
   "id": "2973f532",
   "metadata": {},
   "source": [
    "<b>Question No. 9 <b>:-<pre>  What are the methods for right-justifying, left-justifying, and centering a string?"
   ]
  },
  {
   "cell_type": "markdown",
   "id": "b54e1985",
   "metadata": {},
   "source": [
    "<b>Solution :-</b><pre>\n",
    "rjust()  --> Right Justifying\n",
    "ljust()  --> Left Justifying\n",
    "center() --> Center Justifying"
   ]
  },
  {
   "cell_type": "code",
   "execution_count": 12,
   "id": "f0cf8dc0",
   "metadata": {},
   "outputs": [
    {
     "data": {
      "text/plain": [
       "'*****************full stack data science'"
      ]
     },
     "execution_count": 12,
     "metadata": {},
     "output_type": "execute_result"
    }
   ],
   "source": [
    "# right justifying\n",
    "str =\"full stack data science\"\n",
    "str.rjust(40,'*')"
   ]
  },
  {
   "cell_type": "code",
   "execution_count": 13,
   "id": "17280439",
   "metadata": {},
   "outputs": [
    {
     "data": {
      "text/plain": [
       "'full stack data science*****************'"
      ]
     },
     "execution_count": 13,
     "metadata": {},
     "output_type": "execute_result"
    }
   ],
   "source": [
    "# Left justifying\n",
    "str =\"full stack data science\"\n",
    "str.ljust(40,'*')"
   ]
  },
  {
   "cell_type": "code",
   "execution_count": 14,
   "id": "60549864",
   "metadata": {},
   "outputs": [
    {
     "data": {
      "text/plain": [
       "'********full stack data science*********'"
      ]
     },
     "execution_count": 14,
     "metadata": {},
     "output_type": "execute_result"
    }
   ],
   "source": [
    "# center\n",
    "str =\"full stack data science\"\n",
    "str.center(40,'*')"
   ]
  },
  {
   "cell_type": "code",
   "execution_count": null,
   "id": "e379a73c",
   "metadata": {},
   "outputs": [],
   "source": []
  },
  {
   "cell_type": "markdown",
   "id": "123fae63",
   "metadata": {},
   "source": [
    "<b>Question No. 10 <b>:-What is the best way to remove whitespace characters from the start or end?"
   ]
  },
  {
   "cell_type": "markdown",
   "id": "7889e402",
   "metadata": {},
   "source": [
    "<b>Solution :-</b><pre> The `lstrip()` and `rstrip()` methods remove whitesapce characters from the left and right ends of a string respectively"
   ]
  },
  {
   "cell_type": "code",
   "execution_count": 15,
   "id": "70dc4793",
   "metadata": {},
   "outputs": [
    {
     "data": {
      "text/plain": [
       "'My name is Harshal     '"
      ]
     },
     "execution_count": 15,
     "metadata": {},
     "output_type": "execute_result"
    }
   ],
   "source": [
    "# lstrip() is used to remove whitespace from start of string\n",
    "s = \"    My name is Harshal     \"\n",
    "s.lstrip()"
   ]
  },
  {
   "cell_type": "code",
   "execution_count": 16,
   "id": "4021c00c",
   "metadata": {},
   "outputs": [
    {
     "data": {
      "text/plain": [
       "'    My name is Harshal'"
      ]
     },
     "execution_count": 16,
     "metadata": {},
     "output_type": "execute_result"
    }
   ],
   "source": [
    "# rstrip() is used to remove whitespace from end of string\n",
    "s = \"    My name is Harshal     \"\n",
    "s.rstrip()"
   ]
  },
  {
   "cell_type": "code",
   "execution_count": 17,
   "id": "eeff8bcc",
   "metadata": {},
   "outputs": [
    {
     "data": {
      "text/plain": [
       "'My name is Harshal'"
      ]
     },
     "execution_count": 17,
     "metadata": {},
     "output_type": "execute_result"
    }
   ],
   "source": [
    "# strip() is used to remove whitespace from start and end of string\n",
    "s = \"    My name is Harshal     \"\n",
    "s.strip()"
   ]
  },
  {
   "cell_type": "code",
   "execution_count": null,
   "id": "d1f970e4",
   "metadata": {},
   "outputs": [],
   "source": []
  },
  {
   "cell_type": "markdown",
   "id": "896f0b37",
   "metadata": {},
   "source": [
    "# Thank You"
   ]
  },
  {
   "cell_type": "code",
   "execution_count": null,
   "id": "232bdd25",
   "metadata": {},
   "outputs": [],
   "source": []
  }
 ],
 "metadata": {
  "kernelspec": {
   "display_name": "Python 3 (ipykernel)",
   "language": "python",
   "name": "python3"
  },
  "language_info": {
   "codemirror_mode": {
    "name": "ipython",
    "version": 3
   },
   "file_extension": ".py",
   "mimetype": "text/x-python",
   "name": "python",
   "nbconvert_exporter": "python",
   "pygments_lexer": "ipython3",
   "version": "3.9.12"
  }
 },
 "nbformat": 4,
 "nbformat_minor": 5
}
