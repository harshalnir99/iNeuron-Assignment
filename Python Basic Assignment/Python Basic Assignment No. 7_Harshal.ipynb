{
 "cells": [
  {
   "cell_type": "markdown",
   "id": "ee777487",
   "metadata": {},
   "source": [
    "# Python Basic Assignment No. 7"
   ]
  },
  {
   "cell_type": "code",
   "execution_count": null,
   "id": "541f4161",
   "metadata": {},
   "outputs": [],
   "source": []
  },
  {
   "cell_type": "markdown",
   "id": "33d5124b",
   "metadata": {},
   "source": [
    "<b>Question No. 1<b>:- What is the name of the feature responsible for generating Regex objects?"
   ]
  },
  {
   "cell_type": "markdown",
   "id": "c797e485",
   "metadata": {},
   "source": [
    "<b>Solution :-</b><pre> re.compile() is the feature responsible for generation of Regex objects."
   ]
  },
  {
   "cell_type": "code",
   "execution_count": 1,
   "id": "aa3d77f4",
   "metadata": {},
   "outputs": [
    {
     "data": {
      "text/plain": [
       "re.compile(r'string', re.UNICODE)"
      ]
     },
     "execution_count": 1,
     "metadata": {},
     "output_type": "execute_result"
    }
   ],
   "source": [
    "import re\n",
    "re.compile(\"string\")"
   ]
  },
  {
   "cell_type": "code",
   "execution_count": null,
   "id": "f759a9d2",
   "metadata": {},
   "outputs": [],
   "source": []
  },
  {
   "cell_type": "markdown",
   "id": "e8803654",
   "metadata": {},
   "source": [
    "<b>Question No. 2<b>:- Why do raw strings often appear in Regex objects?"
   ]
  },
  {
   "cell_type": "markdown",
   "id": "224a80e3",
   "metadata": {},
   "source": [
    "<b>Solution :-</b><pre> RegEx use the backslash ('') for Metacharacters [. ^ $ * + ? { } \\ | ( )] or speical sequences [\\s, \\S, \\w, \\W, etc]. But in python ('') is also used to escape characters. so to avoid this we use raw strings."
   ]
  },
  {
   "cell_type": "code",
   "execution_count": 2,
   "id": "f04e8339",
   "metadata": {},
   "outputs": [
    {
     "name": "stdout",
     "output_type": "stream",
     "text": [
      "\tmumbai\n",
      "\\tmumbai\n"
     ]
    }
   ],
   "source": [
    "a1 = \"\\tmumbai\"\n",
    "print(a1)\n",
    "a2 = r\"\\tmumbai\"\n",
    "print(a2)"
   ]
  },
  {
   "cell_type": "code",
   "execution_count": null,
   "id": "daf95970",
   "metadata": {},
   "outputs": [],
   "source": []
  },
  {
   "cell_type": "markdown",
   "id": "b9880e0a",
   "metadata": {},
   "source": [
    "<b>Question No. 3<b>:- What is the return value of the search() method?"
   ]
  },
  {
   "cell_type": "markdown",
   "id": "01d260d5",
   "metadata": {},
   "source": [
    "<b>Solution :-</b><pre> The return value of `re.search(pattern,string)` method is a match object if the pattern is observed in the string else it returns a None"
   ]
  },
  {
   "cell_type": "code",
   "execution_count": 3,
   "id": "be3e5a1f",
   "metadata": {},
   "outputs": [
    {
     "name": "stdout",
     "output_type": "stream",
     "text": [
      "Output: <re.Match object; span=(18, 19), match='i'>\n",
      "Output: None\n"
     ]
    }
   ],
   "source": [
    "import re\n",
    "match = re.search('i','Full Stack Data Science Bootcamp', flags=re.IGNORECASE)\n",
    "print('Output:',match)\n",
    "match = re.search('X','Full Stack Data Science Bootcamp', flags=re.IGNORECASE)\n",
    "print('Output:',match)"
   ]
  },
  {
   "cell_type": "code",
   "execution_count": 4,
   "id": "f226e080",
   "metadata": {},
   "outputs": [
    {
     "name": "stdout",
     "output_type": "stream",
     "text": [
      "<re.Match object; span=(0, 17), match='harshal@gmail.com'>\n"
     ]
    }
   ],
   "source": [
    "string = \"harshal@gmail.com\"\n",
    "pattern = re.compile(r\"([a-zA-Z]+)@([a-zA-Z]+)\\.([a-zA-Z]+)\")\n",
    "\n",
    "match = pattern.search(string)\n",
    "print(match)"
   ]
  },
  {
   "cell_type": "code",
   "execution_count": null,
   "id": "c6bf68b6",
   "metadata": {},
   "outputs": [],
   "source": []
  },
  {
   "cell_type": "markdown",
   "id": "4ed5d48f",
   "metadata": {},
   "source": [
    "<b>Question No. 4<b>:- From a Match item, how do you get the actual strings that match the pattern?"
   ]
  },
  {
   "cell_type": "markdown",
   "id": "6d4c7d03",
   "metadata": {},
   "source": [
    "<b>Solution :-</b><pre> For Matched items `group()` methods returns actual strings that match the pattern"
   ]
  },
  {
   "cell_type": "code",
   "execution_count": 5,
   "id": "7a247d48",
   "metadata": {},
   "outputs": [
    {
     "name": "stdout",
     "output_type": "stream",
     "text": [
      "Output: Ineuron\n"
     ]
    }
   ],
   "source": [
    "import re\n",
    "match = re.search('ineuron','Ineuron Full Stack Data Science Program', flags=re.IGNORECASE)\n",
    "print('Output:',match.group())"
   ]
  },
  {
   "cell_type": "code",
   "execution_count": null,
   "id": "cacb3dc7",
   "metadata": {},
   "outputs": [],
   "source": []
  },
  {
   "cell_type": "markdown",
   "id": "4c467235",
   "metadata": {},
   "source": [
    "<b>Question No. 5<b>:- In the regex which created from the r'(\\d\\d\\d)-(\\d\\d\\d-\\d\\d\\d\\d)', what does group zero cover? Group 2? Group 1?"
   ]
  },
  {
   "cell_type": "markdown",
   "id": "b45989ea",
   "metadata": {},
   "source": [
    "<b>Solution :-</b><pre>  In the Regex **`r'(\\d\\d\\d)-(\\d\\d\\d-\\d\\d\\d\\d)'`** the zero group covers the entire pattern match where as the first group cover **`(\\d\\d\\d)`** and the second group cover **`(\\d\\d\\d-\\d\\d\\d\\d)`**"
   ]
  },
  {
   "cell_type": "code",
   "execution_count": 6,
   "id": "9b536e2e",
   "metadata": {},
   "outputs": [
    {
     "name": "stdout",
     "output_type": "stream",
     "text": [
      "('415', '555-4242')\n",
      "415-555-4242\n",
      "415\n",
      "555-4242\n"
     ]
    }
   ],
   "source": [
    "# Example Program\n",
    "import re\n",
    "phoneNumRegex = re.compile(r'(\\d\\d\\d)-(\\d\\d\\d-\\d\\d\\d\\d)')\n",
    "mo = phoneNumRegex.search('My number is 415-555-4242.')\n",
    "print(mo.groups()) # Prints all groups in a tuple format\n",
    "print(mo.group()) # Always returns the fully matched string \n",
    "print(mo.group(1)) # Returns the first group\n",
    "print(mo.group(2)) # Returns the second group"
   ]
  },
  {
   "cell_type": "code",
   "execution_count": null,
   "id": "55183329",
   "metadata": {},
   "outputs": [],
   "source": []
  },
  {
   "cell_type": "markdown",
   "id": "60c8556c",
   "metadata": {},
   "source": [
    "<b>Question No. 6<b>:-In standard expression syntax, parentheses and intervals have distinct meanings. How can you tell a regex that you want it to fit real parentheses and periods?"
   ]
  },
  {
   "cell_type": "markdown",
   "id": "8d1fa232",
   "metadata": {},
   "source": [
    "<b>Solution :-</b><pre>The **`\\.`** **`\\(`** and **`\\)`** escape characters in the raw string passed to re.compile() will match actual parenthesis characters."
   ]
  },
  {
   "cell_type": "code",
   "execution_count": 7,
   "id": "4bee3d52",
   "metadata": {},
   "outputs": [
    {
     "name": "stdout",
     "output_type": "stream",
     "text": [
      "(091) 680-4052\n"
     ]
    }
   ],
   "source": [
    "# Example Program\n",
    "import re\n",
    "phoneNumRegex = re.compile(r'(\\(\\d\\d\\d\\)) (\\d\\d\\d-\\d\\d\\d\\d)')\n",
    "mo = phoneNumRegex.search('My phone number is (091) 680-4052.')\n",
    "print(mo.group())"
   ]
  },
  {
   "cell_type": "code",
   "execution_count": null,
   "id": "64278e4b",
   "metadata": {},
   "outputs": [],
   "source": []
  },
  {
   "cell_type": "markdown",
   "id": "f96eb078",
   "metadata": {},
   "source": [
    "<b>Question No. 7<b>:-The findall() method returns a string list or a list of string tuples. What causes it to return one of the two options?"
   ]
  },
  {
   "cell_type": "markdown",
   "id": "b4fadbbd",
   "metadata": {},
   "source": [
    "<b>Solution :-</b><pre> If the regex pattern has no groups, a list of strings matched is returned. if the regex pattern has groups, a list of tuple of strings is returned."
   ]
  },
  {
   "cell_type": "code",
   "execution_count": 8,
   "id": "e58fa558",
   "metadata": {},
   "outputs": [
    {
     "name": "stdout",
     "output_type": "stream",
     "text": [
      "[('(091)', '684-4052')]\n",
      "['091-684-4052']\n"
     ]
    }
   ],
   "source": [
    "# Example Program\n",
    "import re\n",
    "phoneNumRegex = re.compile(r'(\\(\\d\\d\\d\\)) (\\d\\d\\d-\\d\\d\\d\\d)')\n",
    "mo = phoneNumRegex.findall('My phone number is (091) 684-4052.')\n",
    "print(mo)\n",
    "\n",
    "# Example Program\n",
    "import re\n",
    "phoneNumRegex = re.compile(r'\\d{3}-\\d{3}-\\d{4}')\n",
    "mo = phoneNumRegex.findall('My number is 091-684-4052.')\n",
    "print(mo) # Prints all groups in a tuple format"
   ]
  },
  {
   "cell_type": "code",
   "execution_count": null,
   "id": "759f94c1",
   "metadata": {},
   "outputs": [],
   "source": []
  },
  {
   "cell_type": "markdown",
   "id": "11b51f4e",
   "metadata": {},
   "source": [
    "<b>Question No. 8<b>:-In standard expressions, what does the | character mean?"
   ]
  },
  {
   "cell_type": "markdown",
   "id": "3a14f194",
   "metadata": {},
   "source": [
    "<b>Solution :-</b><pre>In Standard Expressions `|` means `OR` operator."
   ]
  },
  {
   "cell_type": "code",
   "execution_count": null,
   "id": "3d0dd71a",
   "metadata": {},
   "outputs": [],
   "source": []
  },
  {
   "cell_type": "markdown",
   "id": "8f72a882",
   "metadata": {},
   "source": [
    "<b>Question No. 9<b>:-In regular expressions, what does the character stand for?"
   ]
  },
  {
   "cell_type": "markdown",
   "id": "98df1dbf",
   "metadata": {},
   "source": [
    "<b>Solution :-</b><pre>  `?` stands for `\"zero or one occurances and is used when a character can be optional\"` in regular expression.\n",
    "\n",
    "**For Example** In below example `?` is used to make `.` optional"
   ]
  },
  {
   "cell_type": "code",
   "execution_count": 9,
   "id": "600ceb5a",
   "metadata": {},
   "outputs": [
    {
     "name": "stdout",
     "output_type": "stream",
     "text": [
      "<re.Match object; span=(1, 12), match='Mr. Harshal'>\n",
      "<re.Match object; span=(13, 23), match='Mrs Himani'>\n",
      "<re.Match object; span=(24, 32), match='Mr Rahul'>\n",
      "<re.Match object; span=(33, 42), match='Ms. Yukti'>\n"
     ]
    }
   ],
   "source": [
    "my_string = \"\"\"\n",
    "Mr. Harshal\n",
    "Mrs Himani\n",
    "Mr Rahul\n",
    "Ms. Yukti\n",
    "\"\"\"\n",
    "\n",
    "pattern = re.compile(r\"(Mr|Ms|Mrs)\\.?\\s\\w+\")  \n",
    "matches = pattern.finditer(my_string)\n",
    "\n",
    "for match in matches:\n",
    "    print(match)"
   ]
  },
  {
   "cell_type": "code",
   "execution_count": null,
   "id": "a7978cc8",
   "metadata": {},
   "outputs": [],
   "source": []
  },
  {
   "cell_type": "markdown",
   "id": "3dc543fd",
   "metadata": {},
   "source": [
    "<b>Question No. 10<b>:-In regular expressions, what is the difference between the + and * characters?"
   ]
  },
  {
   "cell_type": "markdown",
   "id": "7798ac0d",
   "metadata": {},
   "source": [
    "<b>Solution :-</b><pre>`+` and `*` are both quantifiers\n",
    "\n",
    "1. `+` indicates one or more occurances of a preceding group.\n",
    "2. `*` indicates zero or more occurances of a preceding group.\n",
    "\n",
    "**For Example**"
   ]
  },
  {
   "cell_type": "code",
   "execution_count": 10,
   "id": "59e680df",
   "metadata": {},
   "outputs": [
    {
     "name": "stdout",
     "output_type": "stream",
     "text": [
      "None\n",
      "<re.Match object; span=(0, 9), match='Wonderman'>\n"
     ]
    }
   ],
   "source": [
    "my_string = \"Wonderman\"\n",
    "\n",
    "patt1 = re.compile(r\"Wonder(wo)+man\")\n",
    "\n",
    "match1 = patt1.search(my_string)\n",
    "print(match1)\n",
    "\n",
    "patt2 = re.compile(r\"Wonder(wo)*man\")\n",
    "\n",
    "match2 = patt2.search(my_string)\n",
    "print(match2)"
   ]
  },
  {
   "cell_type": "code",
   "execution_count": null,
   "id": "14bdff75",
   "metadata": {},
   "outputs": [],
   "source": []
  },
  {
   "cell_type": "markdown",
   "id": "f2f33e10",
   "metadata": {},
   "source": [
    "<b>Question No. 11<b>:-What is the difference between {4} and {4,5} in regular expression?"
   ]
  },
  {
   "cell_type": "markdown",
   "id": "0764c415",
   "metadata": {},
   "source": [
    "<b>Solution :-</b><pre>  1. `{4}` This means that the preceding character or group should occur 4 times.\n",
    "2. `{4,5}` This means that the preceding character or group should occur minimum 4 times and maximum 5 times.\n",
    "\n",
    "**For Example**"
   ]
  },
  {
   "cell_type": "code",
   "execution_count": 11,
   "id": "b205a619",
   "metadata": {},
   "outputs": [
    {
     "name": "stdout",
     "output_type": "stream",
     "text": [
      "['2022-06-12']\n"
     ]
    }
   ],
   "source": [
    "string1 = \"2022-06-12\"\n",
    "\n",
    "pattern1 = re.compile(r\"\\d{4}-\\d{1,3}-\\d{2}\")\n",
    "\n",
    "match = pattern1.findall(string1)\n",
    "print(match)"
   ]
  },
  {
   "cell_type": "code",
   "execution_count": null,
   "id": "1b35e177",
   "metadata": {},
   "outputs": [],
   "source": []
  },
  {
   "cell_type": "markdown",
   "id": "a3aa40d0",
   "metadata": {},
   "source": [
    "<b>Question No. 12<b>:-What do you mean by the \\d, \\w, and \\s shorthand character classes signify in regular expressions?"
   ]
  },
  {
   "cell_type": "markdown",
   "id": "8e83d7b6",
   "metadata": {},
   "source": [
    "<b>Solution :-</b><pre> 1. `\\d` : Matches any digit; this is equivalent to the class [0-9].\n",
    "2. `\\s` : Matches any whitespace character;\n",
    "3. `\\w` : Matches any alphanumeric (word) character; this is equivalent to the class [a-zA-Z0-9_]"
   ]
  },
  {
   "cell_type": "code",
   "execution_count": null,
   "id": "77beb6a2",
   "metadata": {},
   "outputs": [],
   "source": []
  },
  {
   "cell_type": "markdown",
   "id": "b4489336",
   "metadata": {},
   "source": [
    "<b>Question No. 13<b>:-What do means by \\D, \\W, and \\S shorthand character classes signify in regular expressions?"
   ]
  },
  {
   "cell_type": "markdown",
   "id": "cb6a0a1d",
   "metadata": {},
   "source": [
    "<b>Solution :-</b><pre>\n",
    "1. `\\D` : Matches any non-digit character; this is equivalent to the class [^0-9].\n",
    "2. `\\S` : Matches any non-whitespace character;\n",
    "3. `\\W` : Matches any non-alphanumeric character; this is equivalent to the class [^a-zA-Z0-9_]."
   ]
  },
  {
   "cell_type": "code",
   "execution_count": null,
   "id": "6f3a8acc",
   "metadata": {},
   "outputs": [],
   "source": []
  },
  {
   "cell_type": "markdown",
   "id": "0badb0c5",
   "metadata": {},
   "source": [
    "<b>Question No. 14<b>:-What is the difference between .*? and .*?"
   ]
  },
  {
   "cell_type": "markdown",
   "id": "c54c7af3",
   "metadata": {},
   "source": [
    "<b>Solution :-</b><pre>**`.*`** is a Greedy mode, which returns the longest string that meets the condition. Whereas **`.*?`** is a non greedy mode which returns the shortest string that meets the condition."
   ]
  },
  {
   "cell_type": "code",
   "execution_count": null,
   "id": "9f04beab",
   "metadata": {},
   "outputs": [],
   "source": []
  },
  {
   "cell_type": "markdown",
   "id": "1e1d61d7",
   "metadata": {},
   "source": [
    "<b>Question No. 15<b>:-What is the syntax for matching both numbers and lowercase letters with a character class?"
   ]
  },
  {
   "cell_type": "markdown",
   "id": "9d7db8d7",
   "metadata": {},
   "source": [
    "<b>Solution :-</b><pre>`re.compile(r\"[a-z0-9]\")` or `re.compile(r\"[0-9a-z]\")` is the syntax for matching both numbers and lowercase letters with a character class"
   ]
  },
  {
   "cell_type": "code",
   "execution_count": null,
   "id": "0e9524f5",
   "metadata": {},
   "outputs": [],
   "source": []
  },
  {
   "cell_type": "markdown",
   "id": "fbe4e4c1",
   "metadata": {},
   "source": [
    "<b>Question No. 16<b>:-What is the procedure for making a normal expression in regax case insensitive?"
   ]
  },
  {
   "cell_type": "markdown",
   "id": "8c06827e",
   "metadata": {},
   "source": [
    "<b>Solution :-</b><pre> We can pass **`re.IGNORECASE`** as a flag to make a noraml expression case insensitive"
   ]
  },
  {
   "cell_type": "code",
   "execution_count": null,
   "id": "bf2299fa",
   "metadata": {},
   "outputs": [],
   "source": []
  },
  {
   "cell_type": "markdown",
   "id": "561df80a",
   "metadata": {},
   "source": [
    "<b>Question No. 17<b>:-What does the . character normally match? What does it match if re.DOTALL is passed as 2nd argument in re.compile()?"
   ]
  },
  {
   "cell_type": "markdown",
   "id": "8daf99c3",
   "metadata": {},
   "source": [
    "<b>Solution :-</b><pre>  1. `.` character matches any character except newline character.\n",
    "2. `re.DOTALL` is a flag that is used to match any character including newline character.  "
   ]
  },
  {
   "cell_type": "code",
   "execution_count": null,
   "id": "816b9549",
   "metadata": {},
   "outputs": [],
   "source": []
  },
  {
   "cell_type": "markdown",
   "id": "cfa91830",
   "metadata": {},
   "source": [
    "<b>Question No. 18<b>:-If numReg = re.compile(r'\\d+'), what will numRegex.sub('X', '11 drummers, 10 pipers, five rings, 4 hen') return?"
   ]
  },
  {
   "cell_type": "markdown",
   "id": "2fbfc0b0",
   "metadata": {},
   "source": [
    "<b>Solution :-</b><pre>The Ouput will be **`'X drummers, X pipers, five rings, X hen'`**"
   ]
  },
  {
   "cell_type": "code",
   "execution_count": 18,
   "id": "382e95e2",
   "metadata": {},
   "outputs": [
    {
     "data": {
      "text/plain": [
       "'X drummers, X pipers, five rings, X hen'"
      ]
     },
     "execution_count": 18,
     "metadata": {},
     "output_type": "execute_result"
    }
   ],
   "source": [
    "import re\n",
    "numReg = re.compile(r'\\d+')\n",
    "numReg.sub('X', '11 drummers, 10 pipers, five rings, 4 hen')"
   ]
  },
  {
   "cell_type": "code",
   "execution_count": null,
   "id": "4cf934e8",
   "metadata": {},
   "outputs": [],
   "source": []
  },
  {
   "cell_type": "markdown",
   "id": "4b4f1a00",
   "metadata": {},
   "source": [
    "<b>Question No. 19<b>:-What does passing re.VERBOSE as the 2nd argument to re.compile() allow to do?"
   ]
  },
  {
   "cell_type": "markdown",
   "id": "f4e75a95",
   "metadata": {},
   "source": [
    "<b>Solution :-</b><pre>`re.VERBOSE` or `re.X` flag enables us to pass pattern as multiline comment and include whitespace.\n",
    "\n",
    "**For Example**"
   ]
  },
  {
   "cell_type": "code",
   "execution_count": 19,
   "id": "79f44a1e",
   "metadata": {},
   "outputs": [],
   "source": [
    "emails = \"\"\"\n",
    "pythonengineer@gmail.com\n",
    "Python-engineer@gmx.de\n",
    "python-engineer123@my-domain.org\n",
    "\"\"\"\n",
    "# return all emails"
   ]
  },
  {
   "cell_type": "code",
   "execution_count": 20,
   "id": "cc2d5083",
   "metadata": {},
   "outputs": [
    {
     "name": "stdout",
     "output_type": "stream",
     "text": [
      "pythonengineer@gmail.com\n",
      "Python-engineer@gmx.de\n",
      "python-engineer123@my-domain.org\n"
     ]
    }
   ],
   "source": [
    "# without VERBOSE\n",
    "\n",
    "pattern = re.compile(r\"[a-zA-z0-9-]+@[a-zA-Z-]+\\.(com|de|org)\")  \n",
    "matches = pattern.finditer(emails)\n",
    "\n",
    "for match in matches:\n",
    "    print(match.group(0))"
   ]
  },
  {
   "cell_type": "code",
   "execution_count": null,
   "id": "1b9c4eb0",
   "metadata": {},
   "outputs": [],
   "source": []
  },
  {
   "cell_type": "markdown",
   "id": "6f9609b5",
   "metadata": {},
   "source": [
    "<b>Question No. 20<b>:- How would you write a regex that match a number with comma for every three digits? It must match the given following:\n",
    "`'42','1,234', '6,368,745'`but not the following: `'12,34,567'` (which has only two digits between the commas) `'1234'` (which lacks commas)"
   ]
  },
  {
   "cell_type": "markdown",
   "id": "dca52a7e",
   "metadata": {},
   "source": [
    "<b>Solution :-</b><pre>"
   ]
  },
  {
   "cell_type": "code",
   "execution_count": 21,
   "id": "0f4d58a0",
   "metadata": {},
   "outputs": [
    {
     "name": "stdout",
     "output_type": "stream",
     "text": [
      "Output: 42 -> <re.Match object; span=(0, 2), match='42'>\n",
      "Output: 1,234 -> <re.Match object; span=(0, 5), match='1,234'>\n",
      "Output: 6,368,745 -> <re.Match object; span=(0, 9), match='6,368,745'>\n",
      "Output: 12,34,567 -> None\n",
      "Output: 1234 -> None\n"
     ]
    }
   ],
   "source": [
    "import re\n",
    "pattern = r'^\\d{1,3}(,\\d{3})*$'\n",
    "pagex = re.compile(pattern)\n",
    "for ele in ['42','1,234', '6,368,745','12,34,567','1234']:\n",
    "    print('Output:',ele, '->', pagex.search(ele))"
   ]
  },
  {
   "cell_type": "code",
   "execution_count": null,
   "id": "638e41a6",
   "metadata": {},
   "outputs": [],
   "source": []
  },
  {
   "cell_type": "markdown",
   "id": "b56f3c8e",
   "metadata": {},
   "source": [
    "<b>Question No. 21<b>:-  How would you write a regex that matches the full name of someone whose last name is Watanabe? You can assume that the first name that comes before it will always be one word that begins with a capital letter. The regex must match the following:\n",
    "`'Haruto Watanabe'`  \n",
    "`'Alice Watanabe'`  \n",
    "`'RoboCop Watanabe'`  \n",
    "\n",
    "but not the following:\n",
    "\n",
    "`'haruto Watanabe'` (where the first name is not capitalized)  \n",
    "`'Mr. Watanabe'` (where the preceding word has a nonletter character)  \n",
    "`'Watanabe'` (which has no first name)  \n",
    "`'Haruto watanabe'` (where Watanabe is not capitalized)  \n",
    "\n",
    "**Ans:** **`pattern = r'[A-Z]{1}[a-z]*\\sWatanabe'`**"
   ]
  },
  {
   "cell_type": "code",
   "execution_count": 22,
   "id": "8461963b",
   "metadata": {},
   "outputs": [
    {
     "name": "stdout",
     "output_type": "stream",
     "text": [
      "Output:  Haruto Watanabe -> <re.Match object; span=(0, 15), match='Haruto Watanabe'>\n",
      "Output:  Alice Watanabe -> <re.Match object; span=(0, 14), match='Alice Watanabe'>\n",
      "Output:  RoboCop Watanabe -> <re.Match object; span=(4, 16), match='Cop Watanabe'>\n",
      "Output:  haruto Watanabe -> None\n",
      "Output:  Mr. Watanabe -> None\n",
      "Output:  Watanabe -> None\n",
      "Output:  Haruto watanabe -> None\n"
     ]
    }
   ],
   "source": [
    "import re\n",
    "pattern = r'[A-Z]{1}[a-z]*\\sWatanabe'\n",
    "namex = re.compile(pattern)\n",
    "for name in ['Haruto Watanabe','Alice Watanabe','RoboCop Watanabe','haruto Watanabe','Mr. Watanabe','Watanabe','Haruto watanabe']:\n",
    "    print('Output: ',name,'->',namex.search(name))"
   ]
  },
  {
   "cell_type": "code",
   "execution_count": null,
   "id": "3699d689",
   "metadata": {},
   "outputs": [],
   "source": []
  },
  {
   "cell_type": "markdown",
   "id": "428fd3a7",
   "metadata": {},
   "source": [
    "<b>Question No. 21<b>:-  How would you write a regex that matches a sentence where the first word is either Alice, Bob,or Carol; the second word is either eats, pets, or throws; the third word is apples, cats, or baseballs; and the sentence ends with a period? This regex should be case-insensitive. It must match the following:\n",
    "`'Alice eats apples.'`  \n",
    "`'Bob pets cats.'`  \n",
    "`'Carol throws baseballs.'`  \n",
    "`'Alice throws Apples.'`  \n",
    "`'BOB EATS CATS.'`  \n",
    "\n",
    "but not the following:  \n",
    "\n",
    "`'RoboCop eats apples.'`  \n",
    "`'ALICE THROWS FOOTBALLS.'`   \n",
    "`'Carol eats 7 cats.'`  \n",
    "\n",
    "**Ans:** pattern = **`r'(Alice|Bob|Carol)\\s(eats|pets|throws)\\s(apples|cats|baseballs)\\.'`**"
   ]
  },
  {
   "cell_type": "code",
   "execution_count": 23,
   "id": "fa2572f3",
   "metadata": {},
   "outputs": [
    {
     "name": "stdout",
     "output_type": "stream",
     "text": [
      "Output:  Alice eats apples. -> <re.Match object; span=(0, 18), match='Alice eats apples.'>\n",
      "Output:  Bob pets cats. -> <re.Match object; span=(0, 14), match='Bob pets cats.'>\n",
      "Output:  Carol throws baseballs. -> <re.Match object; span=(0, 23), match='Carol throws baseballs.'>\n",
      "Output:  Alice throws Apples. -> <re.Match object; span=(0, 20), match='Alice throws Apples.'>\n",
      "Output:  BOB EATS CATS. -> <re.Match object; span=(0, 14), match='BOB EATS CATS.'>\n",
      "Output:  RoboCop eats apples. -> None\n",
      "Output:  ALICE THROWS FOOTBALLS. -> None\n",
      "Output:  Carol eats 7 cats. -> None\n"
     ]
    }
   ],
   "source": [
    "import re\n",
    "pattern = r'(Alice|Bob|Carol)\\s(eats|pets|throws)\\s(apples|cats|baseballs)\\.'\n",
    "casex = re.compile(pattern,re.IGNORECASE)\n",
    "for ele in ['Alice eats apples.','Bob pets cats.','Carol throws baseballs.','Alice throws Apples.','BOB EATS CATS.','RoboCop eats apples.'\n",
    ",'ALICE THROWS FOOTBALLS.','Carol eats 7 cats.']:\n",
    "    print('Output: ',ele,'->',casex.search(ele))"
   ]
  },
  {
   "cell_type": "code",
   "execution_count": null,
   "id": "e00f50a8",
   "metadata": {},
   "outputs": [],
   "source": []
  }
 ],
 "metadata": {
  "kernelspec": {
   "display_name": "Python 3 (ipykernel)",
   "language": "python",
   "name": "python3"
  },
  "language_info": {
   "codemirror_mode": {
    "name": "ipython",
    "version": 3
   },
   "file_extension": ".py",
   "mimetype": "text/x-python",
   "name": "python",
   "nbconvert_exporter": "python",
   "pygments_lexer": "ipython3",
   "version": "3.9.7"
  }
 },
 "nbformat": 4,
 "nbformat_minor": 5
}
