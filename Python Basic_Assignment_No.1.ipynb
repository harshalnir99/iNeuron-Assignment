{
 "cells": [
  {
   "cell_type": "raw",
   "id": "ec116a96",
   "metadata": {},
   "source": [
    "Assignment No    :- 01 (Python Basic)\n",
    "Batch            :- Full Stack Data Science May-2022\n",
    "Submitted By     :- Harshal R Nirgulkar \n",
    "Under Guidance By:- Mr.Sudhanshu Kumar\n"
   ]
  },
  {
   "cell_type": "raw",
   "id": "3d0af23c",
   "metadata": {},
   "source": [
    "Question 1. In the below elements which of them are values or an expression? eg:- values can be integer or string and expressions will be mathematical operators.( *, 'hello' ,-87.8, - , / , +\t, 6 )\n",
    "\n",
    "Solution :-  There are 3 values & 4 mathematical operator present.\n",
    "             Values :- 'hello', -87.8 , 6\n",
    "             mathematical Operator:- *,-,/,+\n"
   ]
  },
  {
   "cell_type": "raw",
   "id": "820f78de",
   "metadata": {},
   "source": [
    "Question No 2:- What is the difference between string and variable? \n",
    "\n",
    "Solution:-  String is a datatype which can be stored data in variable. String is enclosed with Single quotes & double                   quotes  \n",
    "\n",
    "            Variable which can be  used for store information or different type of data like, int, str, float, boolen,                 complex & many more.\n",
    "            \n",
    " Examaple:- s1 =\"Harshal\"   or s2 ='Harshal' so here is s1 or s2 is a variable & 'Harshal' is a string datatype"
   ]
  },
  {
   "cell_type": "raw",
   "id": "e87b1358",
   "metadata": {},
   "source": [
    "Question No 3:- Describe three different data types?\n",
    "\n",
    "Solution:-  There are differnet datatype in python like, int, str, float, tuple, list, dict, complex, set, boolean or many              more\n",
    "             1)  int:- int can be used for storing whole/integer value (without decimical points)\\\n",
    "                 for example:- 4,6,7,8,9,10\n",
    "                 \n",
    "             2)  bool :- In Boolean,  we can use to represent a logical values.\n",
    "                 for example :- True & False\n",
    "             \n",
    "             3) float :-  In Float, we can use to represent the decimal or floating number\n",
    "                 for example :- 10.5, 85,9, -87.5 \n",
    " "
   ]
  },
  {
   "cell_type": "raw",
   "id": "e45b4c7d",
   "metadata": {},
   "source": [
    "Question No 4:- What is an expression made up of? What do all expressions do?\n",
    "\n",
    "Solution:- Expression is cobination of oprators, values, variables & function. Expression need to be evaluated data. so if             you give command to python print, so interpreter evaluated the expression & then after display the result                   expression.\n",
    "For Example :- print(\"this is my class\") so here print is a keywords, (\"this is my class\") is expression"
   ]
  },
  {
   "cell_type": "raw",
   "id": "81a05cf0",
   "metadata": {},
   "source": [
    "Question No 5:-This assignment statements, like spam = 10. What is the difference between an expression and a statement?\n",
    "\n",
    "Solution :- Statement is something express element/variable/objects. Print and Assignment Statement can be called as a                 Statement that represent an action or command.\n",
    "            spam=10 is an example of statement so, 10 is assigned  with variable sapm \n",
    "            \n",
    "            Expression is cobination of oprators, values, variables & function. Expression need to be evaluated data. so if             you give command to python print, so interpreter evaluated the expression & then after display the result                   expression.\n"
   ]
  },
  {
   "cell_type": "raw",
   "id": "c02a3484",
   "metadata": {},
   "source": [
    "Question No 6:- After running the following code, what does the variable bacon contain?\n",
    "                bacon = 22\n",
    "                bacon + 1\n",
    "\n",
    "Solution:-"
   ]
  },
  {
   "cell_type": "code",
   "execution_count": 1,
   "id": "eb7ff24a",
   "metadata": {},
   "outputs": [
    {
     "name": "stdout",
     "output_type": "stream",
     "text": [
      "22\n"
     ]
    }
   ],
   "source": [
    "#condition 1:- \n",
    "\n",
    "bacon =22\n",
    "bacon + 1\n",
    "\n",
    "print(bacon)"
   ]
  },
  {
   "cell_type": "code",
   "execution_count": 2,
   "id": "5d48a9d8",
   "metadata": {},
   "outputs": [
    {
     "name": "stdout",
     "output_type": "stream",
     "text": [
      "23\n"
     ]
    }
   ],
   "source": [
    "#condition 2:-\n",
    "\n",
    "bacon =22\n",
    "\n",
    "bacon + 1\n",
    "\n",
    "print(bacon+1)"
   ]
  },
  {
   "cell_type": "raw",
   "id": "933d7f58",
   "metadata": {},
   "source": [
    "Question No 7:-What should the values of the following two terms be?\n",
    "               'spam' + 'spamspam'\n",
    "               'spam' * 3\n",
    "\n",
    "Solution:-  Both the data in form of string. so here in first expression follow \"string concatenation\"  & second expression             follows string mutlipication"
   ]
  },
  {
   "cell_type": "code",
   "execution_count": 3,
   "id": "0fbe28c5",
   "metadata": {},
   "outputs": [
    {
     "name": "stdout",
     "output_type": "stream",
     "text": [
      "spamspamspam\n"
     ]
    }
   ],
   "source": [
    "# Condition 1:- String concatenation\n",
    "\n",
    "s1 = 'spam' + 'spamspam'\n",
    "\n",
    "print(s1)"
   ]
  },
  {
   "cell_type": "code",
   "execution_count": 4,
   "id": "7483c7d1",
   "metadata": {},
   "outputs": [
    {
     "name": "stdout",
     "output_type": "stream",
     "text": [
      "spamspamspam\n"
     ]
    }
   ],
   "source": [
    "# Condition 1:- String mutliplication\n",
    "\n",
    "s2 = 'spam' * 3\n",
    "\n",
    "print(s2)"
   ]
  },
  {
   "cell_type": "raw",
   "id": "276059d7",
   "metadata": {},
   "source": [
    "Question No 8:- Why is eggs a valid variable name while 100 is invalid?\n",
    "\n",
    "Solution:- Python is a case sentitive Langaugae, so variable name can not be begain with number, (if assign \"cannot assign             to literal\" error shown that's means 100 is a literal). so Variable is always start from alphabet elements then             after you can add number or underscore.\n",
    "\n",
    "example :-  egg = 1,2,3   ( is valid variable) No error Shown\n",
    "            100  = 1,2,3  ( is not valid varibale) error shown \"cannot assig to literal\""
   ]
  },
  {
   "cell_type": "raw",
   "id": "df8d79ff",
   "metadata": {},
   "source": [
    "Question No 9:- What three functions can be used to get the integer, floating-point number, or string version of a value?\n",
    "\n",
    "Solution:-  int(), float(), and str() functions can be used to get integer, floating-point number, and string versions of               the value"
   ]
  },
  {
   "cell_type": "code",
   "execution_count": 5,
   "id": "b070961f",
   "metadata": {},
   "outputs": [
    {
     "name": "stdout",
     "output_type": "stream",
     "text": [
      "<class 'int'>\n",
      "<class 'float'>\n",
      "<class 'str'>\n"
     ]
    }
   ],
   "source": [
    "# For Example\n",
    "\n",
    "x = 10.0\n",
    "y = 15\n",
    "z= 20\n",
    "\n",
    "# Conert float into interger by using int()\n",
    "\n",
    "print(type(int(x)))\n",
    "\n",
    "# Conert integer into float by using float() \n",
    "\n",
    "print(type(float(y)))\n",
    "\n",
    "# Conert integer into string by usingstr() \n",
    "\n",
    "print(type(str(z)))\n"
   ]
  },
  {
   "cell_type": "code",
   "execution_count": null,
   "id": "6aaaa7f5",
   "metadata": {},
   "outputs": [],
   "source": []
  },
  {
   "cell_type": "raw",
   "id": "38bae4fe",
   "metadata": {},
   "source": [
    "Question No 10:- Why does this expression cause an error? How can you fix it?\n",
    "                 'I have eaten ' + 99 + ' burritos.'\n",
    "        \n",
    "Solution :-  This expression cause error due to Concatenation here 99 is present in interger & remaining present in string               so we need to interger is converted into string.\n",
    "\n",
    "             so please check the following code"
   ]
  },
  {
   "cell_type": "code",
   "execution_count": 6,
   "id": "f1afe2dc",
   "metadata": {},
   "outputs": [
    {
     "data": {
      "text/plain": [
       "'I have eaten 99 burritos.'"
      ]
     },
     "execution_count": 6,
     "metadata": {},
     "output_type": "execute_result"
    }
   ],
   "source": [
    "'I have eaten ' + str(99) + ' burritos.'"
   ]
  },
  {
   "cell_type": "code",
   "execution_count": 7,
   "id": "b7ba3522",
   "metadata": {},
   "outputs": [
    {
     "data": {
      "text/plain": [
       "str"
      ]
     },
     "execution_count": 7,
     "metadata": {},
     "output_type": "execute_result"
    }
   ],
   "source": [
    "type('I have eaten ' + str(99) + ' burritos.')"
   ]
  },
  {
   "cell_type": "code",
   "execution_count": null,
   "id": "6f135309",
   "metadata": {},
   "outputs": [],
   "source": []
  },
  {
   "cell_type": "code",
   "execution_count": null,
   "id": "fb1ef99f",
   "metadata": {},
   "outputs": [],
   "source": []
  },
  {
   "cell_type": "code",
   "execution_count": null,
   "id": "3a100d1e",
   "metadata": {},
   "outputs": [],
   "source": []
  },
  {
   "cell_type": "code",
   "execution_count": null,
   "id": "f123bdb7",
   "metadata": {},
   "outputs": [],
   "source": []
  },
  {
   "cell_type": "code",
   "execution_count": null,
   "id": "55fc9d6c",
   "metadata": {},
   "outputs": [],
   "source": []
  }
 ],
 "metadata": {
  "kernelspec": {
   "display_name": "Python 3 (ipykernel)",
   "language": "python",
   "name": "python3"
  },
  "language_info": {
   "codemirror_mode": {
    "name": "ipython",
    "version": 3
   },
   "file_extension": ".py",
   "mimetype": "text/x-python",
   "name": "python",
   "nbconvert_exporter": "python",
   "pygments_lexer": "ipython3",
   "version": "3.9.7"
  }
 },
 "nbformat": 4,
 "nbformat_minor": 5
}
