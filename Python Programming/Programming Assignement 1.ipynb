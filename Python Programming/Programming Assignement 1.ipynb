{
 "cells": [
  {
   "cell_type": "markdown",
   "id": "a2cd1f31",
   "metadata": {},
   "source": [
    "# Programming Assignment No 1"
   ]
  },
  {
   "cell_type": "code",
   "execution_count": null,
   "id": "6ef4a68b",
   "metadata": {},
   "outputs": [],
   "source": []
  },
  {
   "cell_type": "code",
   "execution_count": 1,
   "id": "3bff3dec",
   "metadata": {},
   "outputs": [
    {
     "name": "stdout",
     "output_type": "stream",
     "text": [
      "Hello Python\n"
     ]
    }
   ],
   "source": [
    "#Question No.1:- Write a Python program to print \"Hello Python\"?\n",
    "\n",
    "print(\"Hello Python\")"
   ]
  },
  {
   "cell_type": "code",
   "execution_count": null,
   "id": "0f38ade8",
   "metadata": {},
   "outputs": [],
   "source": []
  },
  {
   "cell_type": "code",
   "execution_count": 2,
   "id": "fcd57ee9",
   "metadata": {},
   "outputs": [],
   "source": [
    "#Question No.2:- 2.\tWrite a Python program to do arithmetical operations addition and division.?\n",
    "\n",
    "def add(a,b):\n",
    "    return a+b\n",
    "\n",
    "def divide(a,b):\n",
    "    return a/b"
   ]
  },
  {
   "cell_type": "code",
   "execution_count": 3,
   "id": "47e0064b",
   "metadata": {},
   "outputs": [
    {
     "data": {
      "text/plain": [
       "50"
      ]
     },
     "execution_count": 3,
     "metadata": {},
     "output_type": "execute_result"
    }
   ],
   "source": [
    "add(45,5)"
   ]
  },
  {
   "cell_type": "code",
   "execution_count": 4,
   "id": "71c986ae",
   "metadata": {},
   "outputs": [
    {
     "data": {
      "text/plain": [
       "9.0"
      ]
     },
     "execution_count": 4,
     "metadata": {},
     "output_type": "execute_result"
    }
   ],
   "source": [
    "divide(45,5)"
   ]
  },
  {
   "cell_type": "code",
   "execution_count": 5,
   "id": "28b729b4",
   "metadata": {},
   "outputs": [
    {
     "name": "stdout",
     "output_type": "stream",
     "text": [
      "Enter first number: 45\n",
      "Enter Second Number: 5\n",
      "arithematic operation: +\n",
      "Total:  50\n"
     ]
    }
   ],
   "source": [
    "a = int(input('Enter first number: '))\n",
    "b = int(input('Enter Second Number: '))\n",
    "c = input ('arithematic operation: ')\n",
    "\n",
    "if c == \"+\":\n",
    "    x = a+b\n",
    "    print('Total: ',x)\n",
    "elif c == \"/\":\n",
    "    y = a/b\n",
    "    print('Total: ', y)\n",
    "else:\n",
    "    print(\"Operator not defined\")\n",
    "    \n",
    "  "
   ]
  },
  {
   "cell_type": "code",
   "execution_count": 6,
   "id": "57ffd718",
   "metadata": {},
   "outputs": [
    {
     "name": "stdout",
     "output_type": "stream",
     "text": [
      "Enter first number: 45\n",
      "Enter Second Number: 5\n",
      "arithematic operation: /\n",
      "Total:  9.0\n"
     ]
    }
   ],
   "source": [
    "a = int(input('Enter first number: '))\n",
    "b = int(input('Enter Second Number: '))\n",
    "c = input ('arithematic operation: ')\n",
    "\n",
    "if c == \"+\":\n",
    "    x = a+b\n",
    "    print('Total: ',x)\n",
    "elif c == \"/\":\n",
    "    y = a/b\n",
    "    print('Total: ', y)\n",
    "else:\n",
    "    print(\"Operator not defined\")"
   ]
  },
  {
   "cell_type": "code",
   "execution_count": 7,
   "id": "73608816",
   "metadata": {},
   "outputs": [
    {
     "name": "stdout",
     "output_type": "stream",
     "text": [
      "Enter first number: 45\n",
      "Enter Second Number: 5\n",
      "arithematic operation: *\n",
      "Operator not defined\n"
     ]
    }
   ],
   "source": [
    "a = int(input('Enter first number: '))\n",
    "b = int(input('Enter Second Number: '))\n",
    "c = input ('arithematic operation: ')\n",
    "\n",
    "if c == \"+\":\n",
    "    x = a+b\n",
    "    print('Total: ',x)\n",
    "elif c == \"/\":\n",
    "    y = a/b\n",
    "    print('Total: ', y)\n",
    "else:\n",
    "    print(\"Operator not defined\")"
   ]
  },
  {
   "cell_type": "code",
   "execution_count": 10,
   "id": "440a8196",
   "metadata": {},
   "outputs": [],
   "source": [
    "# Question No.3 :- Write a Python program to find the area of a triangle?\n",
    "\n",
    "# Solution :- Area of Traiangle = (Base* Height)/2\n",
    "\n",
    "def Area_of_Triangle(a,b):\n",
    "    Area = a*b/2\n",
    "    print(Area)"
   ]
  },
  {
   "cell_type": "code",
   "execution_count": 11,
   "id": "597ca298",
   "metadata": {},
   "outputs": [
    {
     "name": "stdout",
     "output_type": "stream",
     "text": [
      "250.0\n"
     ]
    }
   ],
   "source": [
    "Area_of_Triangle(50,10)"
   ]
  },
  {
   "cell_type": "raw",
   "id": "d370fa52",
   "metadata": {},
   "source": []
  },
  {
   "cell_type": "code",
   "execution_count": 12,
   "id": "cef256ad",
   "metadata": {},
   "outputs": [
    {
     "name": "stdout",
     "output_type": "stream",
     "text": [
      "Value of Base: 50\n",
      "Value of Height: 10\n",
      "Area of Triangle:  250.0\n"
     ]
    }
   ],
   "source": [
    "base = int(input('Value of Base: '))\n",
    "height= int(input(\"Value of Height: \"))\n",
    "\n",
    "Area = base*height/2\n",
    "\n",
    "def Area_of_triangle(base,height):\n",
    "    print('Area of Triangle: ', Area)\n",
    "\n",
    "Area_of_triangle(base,height)"
   ]
  },
  {
   "cell_type": "code",
   "execution_count": null,
   "id": "648ba9a6",
   "metadata": {},
   "outputs": [],
   "source": []
  },
  {
   "cell_type": "code",
   "execution_count": null,
   "id": "7ead4e05",
   "metadata": {},
   "outputs": [],
   "source": [
    "# Question No 4 :- Write a Python program to swap two variables?"
   ]
  },
  {
   "cell_type": "code",
   "execution_count": 13,
   "id": "6473fd38",
   "metadata": {},
   "outputs": [
    {
     "name": "stdout",
     "output_type": "stream",
     "text": [
      "Enter First Number: 10\n",
      "Enter Second Number: 20\n",
      "Before swap X is 10 , Y is 20\n",
      "After swap X is 20 , Y is 10\n"
     ]
    }
   ],
   "source": [
    "num_1 = int(input(\"Enter First Number: \"))\n",
    "\n",
    "num_2 = int(input(\"Enter Second Number: \"))\n",
    "\n",
    "print(\"Before swap\", \"X is\", num_1, \",\" , \"Y is\",num_2)\n",
    "\n",
    "num_1,num_2 = num_2,num_1\n",
    "\n",
    "print(\"After swap\",\"X is\", num_1, \",\" , \"Y is\",num_2)\n"
   ]
  },
  {
   "cell_type": "code",
   "execution_count": null,
   "id": "6fae47ca",
   "metadata": {},
   "outputs": [],
   "source": []
  },
  {
   "cell_type": "code",
   "execution_count": 14,
   "id": "f397b126",
   "metadata": {},
   "outputs": [],
   "source": [
    "# Question No. 5 Write a Python program to generate a random number?\n",
    "\n",
    "import numpy as np\n",
    "\n",
    "random_number= np.random.randn(5)"
   ]
  },
  {
   "cell_type": "code",
   "execution_count": 15,
   "id": "117193b6",
   "metadata": {},
   "outputs": [
    {
     "data": {
      "text/plain": [
       "array([-1.11402463,  2.05064078,  2.29640782, -0.48893863,  1.19882225])"
      ]
     },
     "execution_count": 15,
     "metadata": {},
     "output_type": "execute_result"
    }
   ],
   "source": [
    "random_number"
   ]
  },
  {
   "cell_type": "code",
   "execution_count": null,
   "id": "6e6d3375",
   "metadata": {},
   "outputs": [],
   "source": []
  }
 ],
 "metadata": {
  "kernelspec": {
   "display_name": "Python 3 (ipykernel)",
   "language": "python",
   "name": "python3"
  },
  "language_info": {
   "codemirror_mode": {
    "name": "ipython",
    "version": 3
   },
   "file_extension": ".py",
   "mimetype": "text/x-python",
   "name": "python",
   "nbconvert_exporter": "python",
   "pygments_lexer": "ipython3",
   "version": "3.9.7"
  }
 },
 "nbformat": 4,
 "nbformat_minor": 5
}
