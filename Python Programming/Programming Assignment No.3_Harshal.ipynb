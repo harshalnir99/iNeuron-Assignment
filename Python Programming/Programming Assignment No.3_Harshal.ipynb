{
 "cells": [
  {
   "cell_type": "markdown",
   "id": "3b7db7a2",
   "metadata": {},
   "source": [
    "# Assignment No.3"
   ]
  },
  {
   "cell_type": "code",
   "execution_count": null,
   "id": "5fa78125",
   "metadata": {},
   "outputs": [],
   "source": []
  },
  {
   "cell_type": "code",
   "execution_count": 1,
   "id": "0d4ff2a9",
   "metadata": {},
   "outputs": [
    {
     "name": "stdout",
     "output_type": "stream",
     "text": [
      "Enter The Number: 4\n",
      "This Number is Positive\n"
     ]
    }
   ],
   "source": [
    "#1.\tWrite a Python Program to Check if a Number is Positive, Negative or Zero?\n",
    "\n",
    "a = float(input(\"Enter The Number: \"))\n",
    "\n",
    "if a ==0:\n",
    "    print(\"This Number is Zero\")\n",
    "elif a >0:\n",
    "    print (\"This Number is Positive\")\n",
    "else:\n",
    "    print(\"This number is Negative\")"
   ]
  },
  {
   "cell_type": "code",
   "execution_count": 2,
   "id": "31cd5061",
   "metadata": {},
   "outputs": [
    {
     "name": "stdout",
     "output_type": "stream",
     "text": [
      "Enter The Number: -98\n",
      "-98.0 is Negative Number\n"
     ]
    }
   ],
   "source": [
    "def check_number():\n",
    "    a = float(input(\"Enter The Number: \"))\n",
    "    \n",
    "    if a ==0:\n",
    "        print(\"This Number is Zero\")\n",
    "    elif a>0:\n",
    "        print (\"{} is Positive Number\".format(a))\n",
    "    else:\n",
    "        print(\"{} is Negative Number\".format(a))\n",
    "        \n",
    "check_number()\n",
    "    "
   ]
  },
  {
   "cell_type": "code",
   "execution_count": null,
   "id": "1114a3be",
   "metadata": {},
   "outputs": [],
   "source": []
  },
  {
   "cell_type": "code",
   "execution_count": 3,
   "id": "3bb9fe9e",
   "metadata": {},
   "outputs": [
    {
     "name": "stdout",
     "output_type": "stream",
     "text": [
      "Enter Number: 99\n",
      "99.0 is Odd Number\n"
     ]
    }
   ],
   "source": [
    "# Question 2 :- Write a Python Program to Check if a Number is Odd or Even?\n",
    "\n",
    "a = float(input(\"Enter Number: \"))\n",
    "\n",
    "if a %2==0:\n",
    "    print(\"{} is Even Number\".format(a))\n",
    "else:\n",
    "    print(\"{} is Odd Number\".format(a))"
   ]
  },
  {
   "cell_type": "code",
   "execution_count": 4,
   "id": "2c22dcd0",
   "metadata": {},
   "outputs": [
    {
     "name": "stdout",
     "output_type": "stream",
     "text": [
      "Enter Number: 48\n",
      "48.0 is Even Number\n"
     ]
    }
   ],
   "source": [
    "def Check_even_odd():\n",
    "    a = float (input(\"Enter Number: \"))\n",
    "    \n",
    "    if a==0:\n",
    "        print(\"This is Zero\")\n",
    "    elif a % 2==0:\n",
    "            print(\"{} is Even Number\".format(a))\n",
    "    else:\n",
    "         print(\"{} is Odd Number\".format(a))\n",
    "            \n",
    "Check_even_odd()"
   ]
  },
  {
   "cell_type": "code",
   "execution_count": null,
   "id": "b293a448",
   "metadata": {},
   "outputs": [],
   "source": []
  },
  {
   "cell_type": "code",
   "execution_count": 5,
   "id": "67f77fe4",
   "metadata": {},
   "outputs": [
    {
     "name": "stdout",
     "output_type": "stream",
     "text": [
      "Choose Year: 2020\n",
      "2020 is a Leap Year\n"
     ]
    }
   ],
   "source": [
    "#Question 3:-Write a Python Program to Check Leap Year?\n",
    "    \n",
    "year = int(input(\"Choose Year: \"))\n",
    "\n",
    "if year % 4==0:\n",
    "    print(\"{} is a Leap Year\".format(year))\n",
    "else:\n",
    "    print(\"{} is not a Leap Year\".format(year))"
   ]
  },
  {
   "cell_type": "code",
   "execution_count": null,
   "id": "cfe32029",
   "metadata": {},
   "outputs": [],
   "source": []
  },
  {
   "cell_type": "code",
   "execution_count": 6,
   "id": "0935e867",
   "metadata": {},
   "outputs": [
    {
     "name": "stdout",
     "output_type": "stream",
     "text": [
      "Enter Number: 97\n",
      "97 is prime number\n"
     ]
    }
   ],
   "source": [
    "# Question 4:- Write a Python Program to Check Prime Number?\n",
    "\n",
    "num = int(input(\"Enter Number: \"))\n",
    "\n",
    "for i in range(2,num):\n",
    "    if num % i ==0:\n",
    "        print(\"{} is not a prime number\".format(num))\n",
    "        break\n",
    "else:\n",
    "    print(\"{} is prime number\".format(num))\n",
    "       \n",
    "   \n",
    " "
   ]
  },
  {
   "cell_type": "code",
   "execution_count": null,
   "id": "f32bba92",
   "metadata": {},
   "outputs": [],
   "source": []
  },
  {
   "cell_type": "code",
   "execution_count": 7,
   "id": "e55df266",
   "metadata": {},
   "outputs": [
    {
     "name": "stdout",
     "output_type": "stream",
     "text": [
      "Enter first number: 1\n",
      "Enter Second Number: 100\n",
      "2 is a prime number\n",
      "3 is a prime number\n",
      "4 is not a prime number\n",
      "5 is a prime number\n",
      "6 is not a prime number\n",
      "7 is a prime number\n",
      "8 is not a prime number\n",
      "9 is not a prime number\n",
      "10 is not a prime number\n",
      "11 is a prime number\n",
      "12 is not a prime number\n",
      "13 is a prime number\n",
      "14 is not a prime number\n",
      "15 is not a prime number\n",
      "16 is not a prime number\n",
      "17 is a prime number\n",
      "18 is not a prime number\n",
      "19 is a prime number\n",
      "20 is not a prime number\n",
      "21 is not a prime number\n",
      "22 is not a prime number\n",
      "23 is a prime number\n",
      "24 is not a prime number\n",
      "25 is not a prime number\n",
      "26 is not a prime number\n",
      "27 is not a prime number\n",
      "28 is not a prime number\n",
      "29 is a prime number\n",
      "30 is not a prime number\n",
      "31 is a prime number\n",
      "32 is not a prime number\n",
      "33 is not a prime number\n",
      "34 is not a prime number\n",
      "35 is not a prime number\n",
      "36 is not a prime number\n",
      "37 is a prime number\n",
      "38 is not a prime number\n",
      "39 is not a prime number\n",
      "40 is not a prime number\n",
      "41 is a prime number\n",
      "42 is not a prime number\n",
      "43 is a prime number\n",
      "44 is not a prime number\n",
      "45 is not a prime number\n",
      "46 is not a prime number\n",
      "47 is a prime number\n",
      "48 is not a prime number\n",
      "49 is not a prime number\n",
      "50 is not a prime number\n",
      "51 is not a prime number\n",
      "52 is not a prime number\n",
      "53 is a prime number\n",
      "54 is not a prime number\n",
      "55 is not a prime number\n",
      "56 is not a prime number\n",
      "57 is not a prime number\n",
      "58 is not a prime number\n",
      "59 is a prime number\n",
      "60 is not a prime number\n",
      "61 is a prime number\n",
      "62 is not a prime number\n",
      "63 is not a prime number\n",
      "64 is not a prime number\n",
      "65 is not a prime number\n",
      "66 is not a prime number\n",
      "67 is a prime number\n",
      "68 is not a prime number\n",
      "69 is not a prime number\n",
      "70 is not a prime number\n",
      "71 is a prime number\n",
      "72 is not a prime number\n",
      "73 is a prime number\n",
      "74 is not a prime number\n",
      "75 is not a prime number\n",
      "76 is not a prime number\n",
      "77 is not a prime number\n",
      "78 is not a prime number\n",
      "79 is a prime number\n",
      "80 is not a prime number\n",
      "81 is not a prime number\n",
      "82 is not a prime number\n",
      "83 is a prime number\n",
      "84 is not a prime number\n",
      "85 is not a prime number\n",
      "86 is not a prime number\n",
      "87 is not a prime number\n",
      "88 is not a prime number\n",
      "89 is a prime number\n",
      "90 is not a prime number\n",
      "91 is not a prime number\n",
      "92 is not a prime number\n",
      "93 is not a prime number\n",
      "94 is not a prime number\n",
      "95 is not a prime number\n",
      "96 is not a prime number\n",
      "97 is a prime number\n",
      "98 is not a prime number\n",
      "99 is not a prime number\n"
     ]
    }
   ],
   "source": [
    "#Question No. 5:- Write a Python Program to Print all Prime Numbers in an Interval of 1-100?\n",
    "\n",
    "num_1 = int(input(\"Enter first number: \")) \n",
    "num_2 = int(input(\"Enter Second Number: \")) \n",
    "\n",
    "for num in range(num_1,num_2):  \n",
    "    if num > 1:\n",
    "        for i in range(2,num):  \n",
    "            if (num % i) == 0:\n",
    "                print(\"{} is not a prime number\".format(num))\n",
    "                break     \n",
    "        else:\n",
    "                print(\"{} is a prime number\".format(num))\n",
    "               \n"
   ]
  },
  {
   "cell_type": "code",
   "execution_count": null,
   "id": "0514df8b",
   "metadata": {},
   "outputs": [],
   "source": []
  },
  {
   "cell_type": "code",
   "execution_count": null,
   "id": "9ba72b4f",
   "metadata": {},
   "outputs": [],
   "source": []
  },
  {
   "cell_type": "code",
   "execution_count": null,
   "id": "a4e8c600",
   "metadata": {},
   "outputs": [],
   "source": []
  },
  {
   "cell_type": "code",
   "execution_count": null,
   "id": "d84bb33c",
   "metadata": {},
   "outputs": [],
   "source": [
    "\n",
    "   \n",
    "   "
   ]
  },
  {
   "cell_type": "code",
   "execution_count": null,
   "id": "b7058e6a",
   "metadata": {},
   "outputs": [],
   "source": [
    "\n",
    "        \n",
    "      "
   ]
  },
  {
   "cell_type": "code",
   "execution_count": null,
   "id": "f0ac71e9",
   "metadata": {},
   "outputs": [],
   "source": []
  }
 ],
 "metadata": {
  "kernelspec": {
   "display_name": "Python 3 (ipykernel)",
   "language": "python",
   "name": "python3"
  },
  "language_info": {
   "codemirror_mode": {
    "name": "ipython",
    "version": 3
   },
   "file_extension": ".py",
   "mimetype": "text/x-python",
   "name": "python",
   "nbconvert_exporter": "python",
   "pygments_lexer": "ipython3",
   "version": "3.9.7"
  }
 },
 "nbformat": 4,
 "nbformat_minor": 5
}
