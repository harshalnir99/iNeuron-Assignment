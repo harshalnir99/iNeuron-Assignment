{
 "cells": [
  {
   "cell_type": "markdown",
   "id": "281929ed",
   "metadata": {},
   "source": [
    "# Assignment No. 4"
   ]
  },
  {
   "cell_type": "code",
   "execution_count": 1,
   "id": "b02a2931",
   "metadata": {},
   "outputs": [
    {
     "name": "stdout",
     "output_type": "stream",
     "text": [
      "Enter The Number:5\n",
      "Factorial of 5 is 120\n"
     ]
    }
   ],
   "source": [
    "# Quetion 1:- Write a Python Program to find the factorial of a number ?\n",
    "\n",
    "\n",
    "num = int(input(\"Enter The Number:\" ))\n",
    "\n",
    "factorial = 1\n",
    "\n",
    "if num<0:\n",
    "    print( \"Factorial Does not exit\")\n",
    "elif num==0:\n",
    "    print(\"Factorial of Zero is 1\")\n",
    "else:\n",
    "    for i in range(1,num+1):\n",
    "        factorial = factorial*i\n",
    "    print(\"Factorial of {} is {}\".format(num,factorial))\n",
    "    "
   ]
  },
  {
   "cell_type": "code",
   "execution_count": 2,
   "id": "244c89b2",
   "metadata": {},
   "outputs": [],
   "source": [
    "def factorial():\n",
    "    num = int(input(\"Enter number: \"))\n",
    "    factorial = 1\n",
    "\n",
    "    if num<0:\n",
    "        print(\"Factorial does not exist\")\n",
    "\n",
    "    elif num == 0:\n",
    "        print(\"Factorial of 0 : 1\")\n",
    "\n",
    "    else:\n",
    "        for i in range(1,num+1):\n",
    "            factorial = factorial*i\n",
    "        print(f\"Factorial of {num} : {factorial}\")\n",
    "        \n",
    "        #print(\"Factorial of {} is {}\".format(num,factorial))"
   ]
  },
  {
   "cell_type": "code",
   "execution_count": 3,
   "id": "1f2cbf52",
   "metadata": {},
   "outputs": [
    {
     "name": "stdout",
     "output_type": "stream",
     "text": [
      "Enter number: -1\n",
      "Factorial does not exist\n"
     ]
    }
   ],
   "source": [
    "factorial()"
   ]
  },
  {
   "cell_type": "code",
   "execution_count": 4,
   "id": "48586d6e",
   "metadata": {},
   "outputs": [
    {
     "name": "stdout",
     "output_type": "stream",
     "text": [
      "Enter number: 0\n",
      "Factorial of 0 : 1\n"
     ]
    }
   ],
   "source": [
    "factorial()"
   ]
  },
  {
   "cell_type": "code",
   "execution_count": 5,
   "id": "114d3d45",
   "metadata": {},
   "outputs": [
    {
     "name": "stdout",
     "output_type": "stream",
     "text": [
      "Enter number: 5\n",
      "Factorial of 5 : 120\n"
     ]
    }
   ],
   "source": [
    "factorial()"
   ]
  },
  {
   "cell_type": "code",
   "execution_count": null,
   "id": "c51dfe42",
   "metadata": {},
   "outputs": [],
   "source": []
  },
  {
   "cell_type": "code",
   "execution_count": 6,
   "id": "6ebdb85b",
   "metadata": {},
   "outputs": [
    {
     "name": "stdout",
     "output_type": "stream",
     "text": [
      "Enter Number: 5\n",
      "Tabel of 5\n",
      "5 X 1 = 5\n",
      "5 X 2 = 10\n",
      "5 X 3 = 15\n",
      "5 X 4 = 20\n",
      "5 X 5 = 25\n",
      "5 X 6 = 30\n",
      "5 X 7 = 35\n",
      "5 X 8 = 40\n",
      "5 X 9 = 45\n",
      "5 X 10 = 50\n"
     ]
    }
   ],
   "source": [
    "#Question 2.Write a Python Program to display the multiplication table ?\n",
    "\n",
    "num = int(input(\"Enter Number: \"))\n",
    "print(\"Tabel of\", num)\n",
    "\n",
    "for i in range(1,11):\n",
    "    tabel =num *i\n",
    "    print (\"{} X {} = {}\".format(num,i, tabel))"
   ]
  },
  {
   "cell_type": "code",
   "execution_count": 7,
   "id": "028f3870",
   "metadata": {},
   "outputs": [],
   "source": [
    "def tabel():\n",
    "    num = int(input(\"Enter Number: \"))\n",
    "    print(\"Tabel of\", num)\n",
    "\n",
    "    for i in range(1,11):\n",
    "        tabel =num *i\n",
    "        print (\"{} X {} = {}\".format(num,i, tabel))"
   ]
  },
  {
   "cell_type": "code",
   "execution_count": 8,
   "id": "168413a0",
   "metadata": {},
   "outputs": [
    {
     "name": "stdout",
     "output_type": "stream",
     "text": [
      "Enter Number: 5\n",
      "Tabel of 5\n",
      "5 X 1 = 5\n",
      "5 X 2 = 10\n",
      "5 X 3 = 15\n",
      "5 X 4 = 20\n",
      "5 X 5 = 25\n",
      "5 X 6 = 30\n",
      "5 X 7 = 35\n",
      "5 X 8 = 40\n",
      "5 X 9 = 45\n",
      "5 X 10 = 50\n"
     ]
    }
   ],
   "source": [
    "tabel()"
   ]
  },
  {
   "cell_type": "code",
   "execution_count": null,
   "id": "3d70adde",
   "metadata": {},
   "outputs": [],
   "source": []
  },
  {
   "cell_type": "code",
   "execution_count": 9,
   "id": "76f50c2e",
   "metadata": {},
   "outputs": [
    {
     "name": "stdout",
     "output_type": "stream",
     "text": [
      "Enter Fibonacci Sequance Length : 5\n",
      "Fibonacci Sequance\n",
      "0\n",
      "1\n",
      "1\n",
      "2\n",
      "3\n"
     ]
    }
   ],
   "source": [
    "#Question 3:- Write a Python Program to print the fibonacci sequence ?\n",
    "# Solution Fibonacci number=Fn = Fn-1 + Fn-2\n",
    "\n",
    "num = int(input(\"Enter Fibonacci Sequance Length : \"))\n",
    "\n",
    "n1,n2 =0,1\n",
    " \n",
    "count =0\n",
    "\n",
    "if num<= 0:\n",
    "    print(\"Enter the positive number\")\n",
    "elif num==1:\n",
    "    print(\"Fibonacci Sequance of \", num,\"is\", n1)\n",
    "    #print(n1)\n",
    "    \n",
    "else:\n",
    "    print(\"Fibonacci Sequance\")\n",
    "    while count<num:\n",
    "        print(n1)\n",
    "        nth = n1+n2\n",
    "        n1=n2\n",
    "        n2=nth\n",
    "        count +=1"
   ]
  },
  {
   "cell_type": "code",
   "execution_count": 10,
   "id": "ed5bd94c",
   "metadata": {},
   "outputs": [
    {
     "name": "stdout",
     "output_type": "stream",
     "text": [
      "Enter the number : 153\n",
      " 153 is a armstrong number\n"
     ]
    }
   ],
   "source": [
    "# Question 4.Write a Python Program to check Armstrong number ?\n",
    "\n",
    "num = int(input(\"Enter the number : \"))\n",
    "\n",
    "power = len(str(num))\n",
    "\n",
    "y = num\n",
    "sum = 0\n",
    "while y > 0:\n",
    "    digit = y % 10\n",
    "    sum = sum + digit ** power\n",
    "    y = y//10\n",
    "if num == sum :\n",
    "    print(f\" {num} is a armstrong number\")\n",
    "else:\n",
    "    print(f\"{num} is not armstrong number\")"
   ]
  },
  {
   "cell_type": "code",
   "execution_count": null,
   "id": "c2e850d1",
   "metadata": {},
   "outputs": [],
   "source": []
  },
  {
   "cell_type": "code",
   "execution_count": 11,
   "id": "3f30140f",
   "metadata": {},
   "outputs": [
    {
     "name": "stdout",
     "output_type": "stream",
     "text": [
      "Starting Number: 100\n",
      "Ending Number: 1000\n",
      "153\n",
      "370\n",
      "371\n",
      "407\n"
     ]
    }
   ],
   "source": [
    "#Question:-5.Write a Python Program to Find Armstrong number in an interval ?\n",
    "\n",
    "num_1 = int(input(\"Starting Number: \"))\n",
    "num_2 = int(input(\"Ending Number: \"))\n",
    "\n",
    "\n",
    "for i in range(num_1,num_2+1):\n",
    "    power = len(str(i))\n",
    "    temp = i\n",
    "    sum = 0\n",
    "    while temp > 0:\n",
    "        digit = temp % 10\n",
    "        sum = sum + digit ** power\n",
    "        temp = temp//10\n",
    "    if i == sum :\n",
    "        print(i)"
   ]
  },
  {
   "cell_type": "code",
   "execution_count": null,
   "id": "e9bed584",
   "metadata": {},
   "outputs": [],
   "source": []
  },
  {
   "cell_type": "code",
   "execution_count": 12,
   "id": "cb28fd8d",
   "metadata": {},
   "outputs": [
    {
     "name": "stdout",
     "output_type": "stream",
     "text": [
      "Enter Number: 10\n",
      "Sum of natural numbers upto 10 is 55\n"
     ]
    }
   ],
   "source": [
    "#Question 6.Write a Python Program to sum of natural numbers ?\n",
    "\n",
    "num = int(input(\"Enter Number: \"))\n",
    "\n",
    "sum =0\n",
    "for i in range(1,num+1):\n",
    "    sum=sum+i\n",
    "print(\"Sum of natural numbers upto {} is {}\".format(num,sum))\n"
   ]
  },
  {
   "cell_type": "code",
   "execution_count": null,
   "id": "04e28e18",
   "metadata": {},
   "outputs": [],
   "source": []
  },
  {
   "cell_type": "code",
   "execution_count": null,
   "id": "c80a4416",
   "metadata": {},
   "outputs": [],
   "source": []
  },
  {
   "cell_type": "code",
   "execution_count": null,
   "id": "eb032a27",
   "metadata": {},
   "outputs": [],
   "source": []
  },
  {
   "cell_type": "code",
   "execution_count": null,
   "id": "3ce848fa",
   "metadata": {},
   "outputs": [],
   "source": []
  }
 ],
 "metadata": {
  "kernelspec": {
   "display_name": "Python 3 (ipykernel)",
   "language": "python",
   "name": "python3"
  },
  "language_info": {
   "codemirror_mode": {
    "name": "ipython",
    "version": 3
   },
   "file_extension": ".py",
   "mimetype": "text/x-python",
   "name": "python",
   "nbconvert_exporter": "python",
   "pygments_lexer": "ipython3",
   "version": "3.9.7"
  }
 },
 "nbformat": 4,
 "nbformat_minor": 5
}
