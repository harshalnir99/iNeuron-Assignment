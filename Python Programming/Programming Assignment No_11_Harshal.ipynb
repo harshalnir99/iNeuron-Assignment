{
 "cells": [
  {
   "cell_type": "markdown",
   "id": "220197a1",
   "metadata": {},
   "source": [
    "# Programming Assignment No.11"
   ]
  },
  {
   "cell_type": "code",
   "execution_count": null,
   "id": "4797fee6",
   "metadata": {},
   "outputs": [],
   "source": []
  },
  {
   "cell_type": "markdown",
   "id": "bf6f24b5",
   "metadata": {},
   "source": [
    "<b>Question No. 1 <b>:- Write a Python program to find words which are greater than given length k?"
   ]
  },
  {
   "cell_type": "code",
   "execution_count": 2,
   "id": "315cc104",
   "metadata": {},
   "outputs": [
    {
     "name": "stdout",
     "output_type": "stream",
     "text": [
      "Enter the string: Full Stack Data Science Bootcamp\n",
      "Enter the length of the string: 5\n",
      "Science,Bootcamp\n"
     ]
    }
   ],
   "source": [
    "def LengthOfString():\n",
    "    in_string = input(\"Enter the string: \")\n",
    "    in_length = int(input('Enter the length of the string: '))\n",
    "    out_string = []\n",
    "    for string in in_string.split(\" \"):\n",
    "        if len(string) > in_length:\n",
    "            out_string.append(string)\n",
    "    print(','.join(out_string))\n",
    "\n",
    "LengthOfString()"
   ]
  },
  {
   "cell_type": "code",
   "execution_count": 3,
   "id": "7a4ee6f6",
   "metadata": {},
   "outputs": [],
   "source": [
    "def greaterthan(sentense):\n",
    "    words = []\n",
    "    split = sentense.split(\" \")\n",
    "    print(split)\n",
    "    k = int(input(\"Enter length: \"))\n",
    "    for i in split:\n",
    "        if len(i)>k:\n",
    "            words.append(i)\n",
    "    return words"
   ]
  },
  {
   "cell_type": "code",
   "execution_count": 5,
   "id": "b3e9fa43",
   "metadata": {},
   "outputs": [
    {
     "name": "stdout",
     "output_type": "stream",
     "text": [
      "['Full', 'Stack', 'Data', 'Science', 'Bootcamp']\n",
      "Enter length: 5\n"
     ]
    },
    {
     "data": {
      "text/plain": [
       "['Science', 'Bootcamp']"
      ]
     },
     "execution_count": 5,
     "metadata": {},
     "output_type": "execute_result"
    }
   ],
   "source": [
    "greaterthan(\"Full Stack Data Science Bootcamp\")"
   ]
  },
  {
   "cell_type": "code",
   "execution_count": null,
   "id": "c15ee96d",
   "metadata": {},
   "outputs": [],
   "source": []
  },
  {
   "cell_type": "markdown",
   "id": "ca143617",
   "metadata": {},
   "source": [
    "<b>Question No. 2 <b>:- Write a Python program for removing i-th character from a string ?"
   ]
  },
  {
   "cell_type": "code",
   "execution_count": 6,
   "id": "414d0032",
   "metadata": {},
   "outputs": [
    {
     "name": "stdout",
     "output_type": "stream",
     "text": [
      "Enter the String: Full Stack Data Science Bootcamp\n",
      "Enter the ith Character: 3\n",
      "Ful Stack Data Science Bootcamp\n"
     ]
    }
   ],
   "source": [
    "def removeCharacter():\n",
    "    in_string = input(\"Enter the String: \")\n",
    "    in_char_num = int(input(\"Enter the ith Character: \"))\n",
    "    out_string = ''\n",
    "    for ele in range(len(in_string)):\n",
    "        if ele != in_char_num:\n",
    "            out_string = out_string + in_string[ele]\n",
    "    print(out_string)\n",
    "    \n",
    "removeCharacter()"
   ]
  },
  {
   "cell_type": "code",
   "execution_count": 7,
   "id": "3b3970a9",
   "metadata": {},
   "outputs": [],
   "source": [
    "def remove_char(sentense):\n",
    "    split = sentense.split(\" \")\n",
    "    i_th = int(input(\"Enter position: \"))\n",
    "    for i in split:\n",
    "        if split[i_th]==i:\n",
    "            split.remove(i)\n",
    "    sentense = \" \".join(split)\n",
    "    return sentense"
   ]
  },
  {
   "cell_type": "code",
   "execution_count": 8,
   "id": "6bda01cb",
   "metadata": {},
   "outputs": [
    {
     "name": "stdout",
     "output_type": "stream",
     "text": [
      "Enter position: 3\n"
     ]
    },
    {
     "data": {
      "text/plain": [
       "'Full Stack Data Bootcamp'"
      ]
     },
     "execution_count": 8,
     "metadata": {},
     "output_type": "execute_result"
    }
   ],
   "source": [
    "remove_char(\"Full Stack Data Science Bootcamp\")"
   ]
  },
  {
   "cell_type": "code",
   "execution_count": null,
   "id": "1b81e86e",
   "metadata": {},
   "outputs": [],
   "source": []
  },
  {
   "cell_type": "markdown",
   "id": "95784d88",
   "metadata": {},
   "source": [
    "<b>Question No. 3 <b>:- Write a Python program to split and join a string ?"
   ]
  },
  {
   "cell_type": "code",
   "execution_count": 10,
   "id": "1e5f78ac",
   "metadata": {},
   "outputs": [
    {
     "name": "stdout",
     "output_type": "stream",
     "text": [
      "Enter the string: Full Stack Data Science Bootcamp\n",
      "Split String: ['Full', 'Stack', 'Data', 'Science', 'Bootcamp']\n",
      "Join String: Full Stack Data Science Bootcamp\n"
     ]
    }
   ],
   "source": [
    "def splitJoinString():\n",
    "    in_string = input('Enter the string: ')\n",
    "    print(f\"Split String: {in_string.split(' ')}\")\n",
    "    print(f\"Join String: {' '.join(in_string.split(' '))}\")\n",
    "\n",
    "splitJoinString()"
   ]
  },
  {
   "cell_type": "code",
   "execution_count": 11,
   "id": "552bf728",
   "metadata": {},
   "outputs": [],
   "source": [
    "def split_join(sentense):\n",
    "    split = sentense.split()\n",
    "    print(\"Splited sentense: \",split)\n",
    "    join  = ' '.join(split)\n",
    "    print(\"sentense joined is: \",join)"
   ]
  },
  {
   "cell_type": "code",
   "execution_count": 12,
   "id": "9d271794",
   "metadata": {},
   "outputs": [
    {
     "name": "stdout",
     "output_type": "stream",
     "text": [
      "Splited sentense:  ['Full', 'Stack', 'Data', 'Science', 'Bootcamp']\n",
      "sentense joined is:  Full Stack Data Science Bootcamp\n"
     ]
    }
   ],
   "source": [
    "split_join(\"Full Stack Data Science Bootcamp\")"
   ]
  },
  {
   "cell_type": "code",
   "execution_count": null,
   "id": "d8381f20",
   "metadata": {},
   "outputs": [],
   "source": []
  },
  {
   "cell_type": "markdown",
   "id": "a93373f4",
   "metadata": {},
   "source": [
    "<b>Question No. 4 <b>:-Write a Python to check if a given string is binary string or not ?"
   ]
  },
  {
   "cell_type": "code",
   "execution_count": 13,
   "id": "cdbcd9fc",
   "metadata": {},
   "outputs": [
    {
     "name": "stdout",
     "output_type": "stream",
     "text": [
      "Enter the string: 1234\n",
      "1234 is not a binart string\n",
      "Enter the string: 1011\n",
      "1011 is a binary string\n"
     ]
    }
   ],
   "source": [
    "def checkBinary():\n",
    "    in_string = input('Enter the string: ')\n",
    "    stun = 0\n",
    "    for ele in in_string:\n",
    "        if ele in ['0','1']:\n",
    "            stun = 1\n",
    "            continue\n",
    "        else:\n",
    "            stun = 0\n",
    "            break\n",
    "    statement = 'is a binary string' if stun == 1 else 'is not a binart string' \n",
    "    print(f'{in_string} {statement}')\n",
    "\n",
    "checkBinary()\n",
    "checkBinary()"
   ]
  },
  {
   "cell_type": "code",
   "execution_count": 14,
   "id": "4b40ad48",
   "metadata": {},
   "outputs": [],
   "source": [
    "def binary_check(string):\n",
    "    arrange = set(string)\n",
    "    binary = {'0','1'}\n",
    "    \n",
    "    if binary == arrange or arrange=={'0'} or arrange == {'1'}:\n",
    "        print(\"String is binary\")\n",
    "    else:\n",
    "        print(\"String not binary\")"
   ]
  },
  {
   "cell_type": "code",
   "execution_count": 16,
   "id": "1a4bb8d8",
   "metadata": {},
   "outputs": [
    {
     "name": "stdout",
     "output_type": "stream",
     "text": [
      "String not binary\n"
     ]
    }
   ],
   "source": [
    "binary_check(\"1234\")"
   ]
  },
  {
   "cell_type": "code",
   "execution_count": 17,
   "id": "23449940",
   "metadata": {},
   "outputs": [
    {
     "name": "stdout",
     "output_type": "stream",
     "text": [
      "String is binary\n"
     ]
    }
   ],
   "source": [
    "binary_check(\"1011\")"
   ]
  },
  {
   "cell_type": "code",
   "execution_count": null,
   "id": "ec19f4db",
   "metadata": {},
   "outputs": [],
   "source": []
  },
  {
   "cell_type": "markdown",
   "id": "02973b4c",
   "metadata": {},
   "source": [
    "<b>Question No. 5 <b>:- Write a Python program to find uncommon words from two Strings ?"
   ]
  },
  {
   "cell_type": "code",
   "execution_count": 20,
   "id": "807ffa7d",
   "metadata": {},
   "outputs": [
    {
     "name": "stdout",
     "output_type": "stream",
     "text": [
      "Enter the String 1: String is binary\n",
      "Enter the String 2: String is not binary\n",
      "{'not'}\n"
     ]
    }
   ],
   "source": [
    "def unCommonWords():\n",
    "    in_string_1 = set(input(\"Enter the String 1: \").split(' '))\n",
    "    in_string_2 = set(input(\"Enter the String 2: \").split(' '))\n",
    "    out_string = (in_string_1.union(in_string_2)).difference(in_string_1.intersection(in_string_2))\n",
    "    print(out_string)\n",
    "\n",
    "unCommonWords()"
   ]
  },
  {
   "cell_type": "code",
   "execution_count": null,
   "id": "563aa0ff",
   "metadata": {},
   "outputs": [],
   "source": []
  },
  {
   "cell_type": "markdown",
   "id": "c7944271",
   "metadata": {},
   "source": [
    "<b>Question No. 6 <b>:- Write a Python to find all duplicate characters in string ?"
   ]
  },
  {
   "cell_type": "code",
   "execution_count": 22,
   "id": "626f96ed",
   "metadata": {},
   "outputs": [
    {
     "name": "stdout",
     "output_type": "stream",
     "text": [
      "Enter the string: Full Stack Data Science Bootcamp\n",
      "Duplicate characters are: ['c', 'a', 'l', 'S', ' ', 'o', 'e', 't']\n"
     ]
    }
   ],
   "source": [
    "def duplicateChars():\n",
    "    in_string = input('Enter the string: ')\n",
    "    non_duplicate_list = []\n",
    "    duplicate_list = []\n",
    "    for ele in in_string:\n",
    "        if ele not in non_duplicate_list:\n",
    "            non_duplicate_list.append(ele)\n",
    "        else:\n",
    "            duplicate_list.append(ele)\n",
    "    print(f'Duplicate characters are: {list(set(duplicate_list))}')\n",
    "        \n",
    "duplicateChars()"
   ]
  },
  {
   "cell_type": "code",
   "execution_count": null,
   "id": "84a8f378",
   "metadata": {},
   "outputs": [],
   "source": []
  },
  {
   "cell_type": "markdown",
   "id": "810b34ea",
   "metadata": {},
   "source": [
    " <b>Question No. 7 <b>:- Write a Python Program to check if a string contains any special character?"
   ]
  },
  {
   "cell_type": "code",
   "execution_count": 23,
   "id": "8803fecd",
   "metadata": {},
   "outputs": [
    {
     "name": "stdout",
     "output_type": "stream",
     "text": [
      "Enter the string a : My name is Harsh@#$%\n",
      "String my name is harsh@#$% has special charecter/s : ['@', '#', '$', '%']\n"
     ]
    }
   ],
   "source": [
    "import string\n",
    "\n",
    "str_char = string.punctuation\n",
    "speci_str = []\n",
    "\n",
    "str = input(\"Enter the string a : \").lower()\n",
    "for i in str:\n",
    "    if i in str_char:\n",
    "        speci_str.append(i)\n",
    "if len(speci_str) > 0:\n",
    "    print(\"String {} has special charecter/s : {}\".format(str,speci_str))\n"
   ]
  },
  {
   "cell_type": "code",
   "execution_count": null,
   "id": "09f1f8a0",
   "metadata": {},
   "outputs": [],
   "source": []
  }
 ],
 "metadata": {
  "kernelspec": {
   "display_name": "Python 3 (ipykernel)",
   "language": "python",
   "name": "python3"
  },
  "language_info": {
   "codemirror_mode": {
    "name": "ipython",
    "version": 3
   },
   "file_extension": ".py",
   "mimetype": "text/x-python",
   "name": "python",
   "nbconvert_exporter": "python",
   "pygments_lexer": "ipython3",
   "version": "3.9.7"
  }
 },
 "nbformat": 4,
 "nbformat_minor": 5
}
