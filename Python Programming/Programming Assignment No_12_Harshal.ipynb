{
 "cells": [
  {
   "cell_type": "markdown",
   "id": "13b75fcd",
   "metadata": {},
   "source": [
    "# Programming Assignment No.12"
   ]
  },
  {
   "cell_type": "code",
   "execution_count": null,
   "id": "c63c82b1",
   "metadata": {},
   "outputs": [],
   "source": []
  },
  {
   "cell_type": "markdown",
   "id": "f2c85faa",
   "metadata": {},
   "source": [
    "<b>Question No. 1 <b>:- Write a Python program to Extract Unique values dictionary values?"
   ]
  },
  {
   "cell_type": "code",
   "execution_count": 1,
   "id": "f5d0e36f",
   "metadata": {},
   "outputs": [
    {
     "name": "stdout",
     "output_type": "stream",
     "text": [
      "dict_values(['Harshal', 'Rahul', 'Rahul', 'Himani', 'Yukti', 'Yukti', 'Rahul'])\n",
      "Unique Values: ['Himani', 'Rahul', 'Harshal', 'Yukti']\n"
     ]
    }
   ],
   "source": [
    "dict = {1:'Harshal',2:'Rahul',3:'Rahul',4:'Himani',5:'Yukti',6:'Yukti',7:'Rahul'}\n",
    "print(dict.values())\n",
    "print(f'Unique Values: {list(set(dict.values()))}')"
   ]
  },
  {
   "cell_type": "code",
   "execution_count": 2,
   "id": "7cac7ddf",
   "metadata": {},
   "outputs": [
    {
     "name": "stdout",
     "output_type": "stream",
     "text": [
      "Unique Values: ['Himani', 'Rahul', 'Harshal', 'Yukti']\n"
     ]
    }
   ],
   "source": [
    "d = {1:'Harshal',2:'Rahul',3:'Rahul',4:'Himani',5:'Yukti',6:'Yukti',7:'Rahul'}\n",
    "empty_list = []\n",
    "\n",
    "for val in d.values():\n",
    "    empty_list.append(val)\n",
    "        \n",
    "print(f\"Unique Values: {list(set(empty_list))}\")"
   ]
  },
  {
   "cell_type": "code",
   "execution_count": 3,
   "id": "dedc38d5",
   "metadata": {},
   "outputs": [
    {
     "name": "stdout",
     "output_type": "stream",
     "text": [
      "Unique Values: ['Himani', 'Rahul', 'Harshal', 'Yukti']\n"
     ]
    }
   ],
   "source": [
    "d =  {1:'Harshal',2:'Rahul',3:'Rahul',4:'Himani',5:'Yukti',6:'Yukti',7:'Rahul'}\n",
    "empty_list = []\n",
    "for val in d.values():\n",
    "    if val in empty_list:\n",
    "        continue\n",
    "    else:\n",
    "        empty_list.append(val)\n",
    "        \n",
    "print(f\"Unique Values: {list(set(empty_list))}\") \n",
    "    "
   ]
  },
  {
   "cell_type": "code",
   "execution_count": null,
   "id": "aa1c3f1a",
   "metadata": {},
   "outputs": [],
   "source": []
  },
  {
   "cell_type": "markdown",
   "id": "0c02e53a",
   "metadata": {},
   "source": [
    "<b>Question No. 2 <b>:-Write a Python program to find the sum of all items in a dictionary?"
   ]
  },
  {
   "cell_type": "code",
   "execution_count": 4,
   "id": "2cb39c89",
   "metadata": {},
   "outputs": [
    {
     "name": "stdout",
     "output_type": "stream",
     "text": [
      "Sum of All items:  290\n"
     ]
    }
   ],
   "source": [
    "in_dict = {'Apple':50,'Mango':10,'Banana':40,'Guava':90,'PineApple':100}\n",
    "print('Sum of All items: ',sum(in_dict.values()))"
   ]
  },
  {
   "cell_type": "code",
   "execution_count": 5,
   "id": "6d0d09bb",
   "metadata": {},
   "outputs": [
    {
     "name": "stdout",
     "output_type": "stream",
     "text": [
      "Sum values of all items : 127\n"
     ]
    }
   ],
   "source": [
    "dict2 = {'a' : 9,'b' : 90,'c' : 23,'d' : 5}\n",
    "\n",
    "sum = 0\n",
    "for i in dict2.values():\n",
    "    sum =sum + i\n",
    "print(\"Sum values of all items : {}\".format(sum))"
   ]
  },
  {
   "cell_type": "code",
   "execution_count": null,
   "id": "8214f309",
   "metadata": {},
   "outputs": [],
   "source": []
  },
  {
   "cell_type": "markdown",
   "id": "73b63ef1",
   "metadata": {},
   "source": [
    "<b>Question No. 3 <b>:- Write a Python program to Merging two Dictionaries?"
   ]
  },
  {
   "cell_type": "code",
   "execution_count": 7,
   "id": "c1c91210",
   "metadata": {},
   "outputs": [
    {
     "name": "stdout",
     "output_type": "stream",
     "text": [
      "{'cousre_name': 'Ineuron', 'course_instructors': ['Sudhanshu Kumar', 'Krish Naik']}\n"
     ]
    }
   ],
   "source": [
    "course_details = {\n",
    "    'cousre_name':'Ineuron'\n",
    "}\n",
    "instructors = {\n",
    "    'course_instructors':['Sudhanshu Kumar','Krish Naik']\n",
    "}\n",
    "course_details.update(instructors)\n",
    "print(course_details)"
   ]
  },
  {
   "cell_type": "code",
   "execution_count": 8,
   "id": "c842a1f8",
   "metadata": {},
   "outputs": [
    {
     "name": "stdout",
     "output_type": "stream",
     "text": [
      "{'a': 11, 'b': 23, 'c': 4, 'd': 1}\n"
     ]
    }
   ],
   "source": [
    "dict1 = { 'a': 11, 'b': 23}\n",
    "dict2 = { 'b': 34, 'c': 4, 'd': 1}\n",
    "# merging dict2 into dict1\n",
    "for item in dict2.items():\n",
    "    dict1.setdefault(item[0], item[1])\n",
    "print(dict1)"
   ]
  },
  {
   "cell_type": "code",
   "execution_count": 9,
   "id": "5a825e51",
   "metadata": {},
   "outputs": [
    {
     "data": {
      "text/plain": [
       "{'d': 400, 'e': 500, 'f': 600, 'a': 100, 'b': 200, 'c': 300}"
      ]
     },
     "execution_count": 9,
     "metadata": {},
     "output_type": "execute_result"
    }
   ],
   "source": [
    "d1 = {'a':100,'b':200,'c':300}\n",
    "d2 = {'d':400,'e':500,'f':600}\n",
    "d2.update(d1)\n",
    "d2"
   ]
  },
  {
   "cell_type": "code",
   "execution_count": null,
   "id": "7b00818d",
   "metadata": {},
   "outputs": [],
   "source": []
  },
  {
   "cell_type": "markdown",
   "id": "da28de9d",
   "metadata": {},
   "source": [
    "<b>Question No. 4 <b>:- Write a Python program to convert key-values list to flat dictionary?"
   ]
  },
  {
   "cell_type": "code",
   "execution_count": 1,
   "id": "47a2a6c7",
   "metadata": {},
   "outputs": [
    {
     "name": "stdout",
     "output_type": "stream",
     "text": [
      "List:- ['a', 100, 'b', 200, 'c', 300, 'd', 400, 'e', 500, 'f', 600]\n",
      "\n",
      "Dictionary:- {'a': 100, 'b': 200, 'c': 300, 'd': 400, 'e': 500, 'f': 600}\n"
     ]
    }
   ],
   "source": [
    "l = ['a', 100, 'b', 200, 'c',300, 'd', 400, 'e', 500, 'f', 600]\n",
    "\n",
    "list_val = [i for i in l if type(i) == int]        \n",
    "list_key = [i for i in l if type(i) == str]        \n",
    "\n",
    "d = dict(zip(list_key, list_val))\n",
    "\n",
    "print(f\"List:- {l}\\n\\nDictionary:- {d}\")"
   ]
  },
  {
   "cell_type": "code",
   "execution_count": 2,
   "id": "22e639e6",
   "metadata": {},
   "outputs": [
    {
     "name": "stdout",
     "output_type": "stream",
     "text": [
      "{'A': 10, 'B': 20, 'C': 30, 'D': 40, 'E': 50, 'F': 60, 'G': 70, 'H': 80, 'I': 90, 'J': 100}\n"
     ]
    }
   ],
   "source": [
    "in_list = [('A',10),('B',20),('C',30),('D',40),('E',50),('F',60),('G',70),('H',80),('I',90),('J',100)]\n",
    "\n",
    "# Method #1\n",
    "dict(in_list)\n",
    "\n",
    "# Method #2\n",
    "out_dict = {}\n",
    "for ele in in_list:\n",
    "    out_dict[ele[0]] = ele[1]\n",
    "print(out_dict)"
   ]
  },
  {
   "cell_type": "code",
   "execution_count": null,
   "id": "c9afc857",
   "metadata": {},
   "outputs": [],
   "source": []
  },
  {
   "cell_type": "markdown",
   "id": "799b41b7",
   "metadata": {},
   "source": [
    "<b>Question No. 5 <b>:-Write a Python program to insertion at the beginning in OrderedDict?"
   ]
  },
  {
   "cell_type": "code",
   "execution_count": 4,
   "id": "e8e4e17f",
   "metadata": {},
   "outputs": [
    {
     "name": "stdout",
     "output_type": "stream",
     "text": [
      "dict_one OrderedDict([('Apple', 'Iphone'), ('Microsoft', 'Windows'), ('Google', 'chrome')])\n",
      "dict_one OrderedDict([('Apple', 'Iphone'), ('Microsoft', 'Windows'), ('Google', 'chrome'), ('Tesla', 'SpaceX')])\n",
      "dict_one OrderedDict([('Tesla', 'SpaceX'), ('Apple', 'Iphone'), ('Microsoft', 'Windows'), ('Google', 'chrome')])\n"
     ]
    }
   ],
   "source": [
    "from collections import OrderedDict\n",
    "dict_one = OrderedDict({'Apple':'Iphone','Microsoft':'Windows','Google':'chrome'})\n",
    "print('dict_one',dict_one)\n",
    "dict_two = {'Tesla':'SpaceX'}\n",
    "dict_one.update(dict_two)\n",
    "print('dict_one',dict_one)\n",
    "dict_one.move_to_end('Tesla',last=False)\n",
    "print('dict_one',dict_one)"
   ]
  },
  {
   "cell_type": "code",
   "execution_count": null,
   "id": "244a121d",
   "metadata": {},
   "outputs": [],
   "source": []
  },
  {
   "cell_type": "code",
   "execution_count": 6,
   "id": "e58373cb",
   "metadata": {},
   "outputs": [
    {
     "name": "stdout",
     "output_type": "stream",
     "text": [
      "OrderedDict([('a', 100), ('b', 200), ('c', 300), ('d', 400), ('e', 500), ('f', 600)])\n",
      "OrderedDict([('a', 100), ('b', 200), ('c', 300), ('d', 400), ('e', 500), ('f', 600), ('g', 700)])\n",
      "OrderedDict([('g', 700), ('a', 100), ('b', 200), ('c', 300), ('d', 400), ('e', 500), ('f', 600)])\n"
     ]
    }
   ],
   "source": [
    "d = {'a': 100, 'b': 200, 'c': 300, 'd': 400, 'e': 500, 'f': 600}\n",
    "od = OrderedDict(d)\n",
    "print(od)\n",
    "od['g'] = 700\n",
    "print(od)\n",
    "od.move_to_end('g', False)\n",
    "print(od)"
   ]
  },
  {
   "cell_type": "code",
   "execution_count": null,
   "id": "4e5c8ca2",
   "metadata": {},
   "outputs": [],
   "source": []
  },
  {
   "cell_type": "markdown",
   "id": "661dbf8b",
   "metadata": {},
   "source": [
    "<b>Question No. 6 <b>:-\tWrite a Python program to check order of character in string using OrderedDict()?"
   ]
  },
  {
   "cell_type": "code",
   "execution_count": 9,
   "id": "7ee471b0",
   "metadata": {},
   "outputs": [
    {
     "name": "stdout",
     "output_type": "stream",
     "text": [
      "{'a': 1000, 'f': 200, 'd': 300, 'c': 400, 'b': 500, 'e': 600}\n",
      "OrderedDict([('a', 1000), ('b', 500), ('c', 400), ('d', 300), ('e', 600), ('f', 200)])\n"
     ]
    }
   ],
   "source": [
    "from collections import OrderedDict\n",
    "\n",
    "initial_list = {'a': 1000, 'f': 200, 'd': 300, 'c': 400, 'b': 500, 'e': 600}\n",
    "print(initial_list)\n",
    "\n",
    "final_list = OrderedDict(dict(sorted(initial_list.items())))\n",
    "print(final_list)"
   ]
  },
  {
   "cell_type": "code",
   "execution_count": 14,
   "id": "56e7895c",
   "metadata": {},
   "outputs": [
    {
     "name": "stdout",
     "output_type": "stream",
     "text": [
      "{'a': 1000, 'f': 200, 'd': 300, 'c': 400, 'b': 500, 'e': 600}\n",
      "OrderedDict([('a', 1000), ('b', 500), ('c', 400), ('d', 300), ('e', 600), ('f', 200)])\n"
     ]
    }
   ],
   "source": [
    "unordered = {'a': 1000, 'f': 200, 'd': 300, 'c': 400, 'b': 500, 'e': 600}\n",
    "print(unordered)\n",
    "od = OrderedDict(sorted(unordered.items()))\n",
    "print(od)"
   ]
  },
  {
   "cell_type": "code",
   "execution_count": null,
   "id": "4ec315dc",
   "metadata": {},
   "outputs": [],
   "source": []
  },
  {
   "cell_type": "markdown",
   "id": "ac0a3f55",
   "metadata": {},
   "source": [
    "<b>Question No. 7 <b>:- Write a Python program to sort Python Dictionaries by Key or Value?"
   ]
  },
  {
   "cell_type": "code",
   "execution_count": 10,
   "id": "2f592e02",
   "metadata": {},
   "outputs": [
    {
     "name": "stdout",
     "output_type": "stream",
     "text": [
      "{'Banana': 60, 'Grape': 13, 'Mango': 100, 'PineApple': 22}\n",
      "{'Grape': 13, 'PineApple': 22, 'Banana': 60, 'Mango': 100}\n"
     ]
    }
   ],
   "source": [
    "d_items = {'Mango':100,'PineApple':22,'Banana':60,'Grape':13}\n",
    "\n",
    "def sort_dict(in_dict,sort_type):\n",
    "    if sort_type == 'key':\n",
    "        print(dict(sorted(in_dict.items(), key=lambda x:x[0], reverse=False)))\n",
    "    else:\n",
    "        print(dict(sorted(in_dict.items(), key=lambda x:x[1], reverse=False)))\n",
    "        \n",
    "sort_dict(d_items,'key')        \n",
    "sort_dict(d_items,'value')"
   ]
  },
  {
   "cell_type": "code",
   "execution_count": 12,
   "id": "6cf36466",
   "metadata": {},
   "outputs": [
    {
     "name": "stdout",
     "output_type": "stream",
     "text": [
      "Sorted by key:  [('a', 1000), ('b', 500), ('c', 400), ('d', 300), ('e', 600), ('f', 200)]\n"
     ]
    }
   ],
   "source": [
    "d = {'a': 1000, 'f': 200, 'd': 300, 'c': 400, 'b': 500, 'e': 600}\n",
    "sort = sorted(d.items())\n",
    "\n",
    "print(\"Sorted by key: \",sort)"
   ]
  },
  {
   "cell_type": "code",
   "execution_count": null,
   "id": "fdf1dc59",
   "metadata": {},
   "outputs": [],
   "source": []
  }
 ],
 "metadata": {
  "kernelspec": {
   "display_name": "Python 3 (ipykernel)",
   "language": "python",
   "name": "python3"
  },
  "language_info": {
   "codemirror_mode": {
    "name": "ipython",
    "version": 3
   },
   "file_extension": ".py",
   "mimetype": "text/x-python",
   "name": "python",
   "nbconvert_exporter": "python",
   "pygments_lexer": "ipython3",
   "version": "3.9.7"
  }
 },
 "nbformat": 4,
 "nbformat_minor": 5
}
