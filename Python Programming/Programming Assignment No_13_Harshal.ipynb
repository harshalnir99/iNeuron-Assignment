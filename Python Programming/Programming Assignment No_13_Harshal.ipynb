{
 "cells": [
  {
   "cell_type": "markdown",
   "id": "0e1ac132",
   "metadata": {},
   "source": [
    "# Programming Assignment No. 13"
   ]
  },
  {
   "cell_type": "markdown",
   "id": "19ea874e",
   "metadata": {},
   "source": [
    "**Question 1:**\n",
    "\n",
    "Write a program that calculates and prints the value according to the given formula:\n",
    "\n",
    "Q = Square root of [(2 * C * D)/H]\n",
    "\n",
    "Following are the fixed values of C and H:\n",
    "\n",
    "C is 50. H is 30.\n",
    "\n",
    "D is the variable whose values should be input to your program in a comma-separated sequence.\n",
    "\n",
    "Example\n",
    "\n",
    "Let us assume the following comma separated input sequence is given to the program:\n",
    "\n",
    "100,150,180\n",
    "\n",
    "The output of the program should be:\n",
    "\n",
    "18,22,24\n"
   ]
  },
  {
   "cell_type": "code",
   "execution_count": 1,
   "id": "8cbd8783",
   "metadata": {},
   "outputs": [
    {
     "name": "stdout",
     "output_type": "stream",
     "text": [
      "Provide D: 100,150,180\n",
      "[18, 22, 24]\n"
     ]
    }
   ],
   "source": [
    "# Solution:\n",
    "import math\n",
    "\n",
    "\n",
    "C = 50\n",
    "H = 30\n",
    "\n",
    "\n",
    "a = input(\"Provide D: \")\n",
    "a = a.split(',')\n",
    "\n",
    "result = []\n",
    "for D in a:\n",
    "    Q = round(math.sqrt(2 * C * int(D) / H))\n",
    "    result.append(Q)\n",
    "\n",
    "print(result)"
   ]
  },
  {
   "cell_type": "markdown",
   "id": "72b148a1",
   "metadata": {},
   "source": [
    "**Question 2:**\n",
    "Write a program which takes 2 digits, X,Y as input and generates a 2-dimensional array. The element value in the i-th row and j-th column of the array should be i*j.\n",
    "\n",
    "Note: i=0,1.., X-1; j=0,1,¡¬Y-1.\n",
    "\n",
    "Example\n",
    "\n",
    "Suppose the following inputs are given to the program:\n",
    "\n",
    "3,5\n",
    "\n",
    "Then, the output of the program should be:\n",
    "\n",
    "[[0, 0, 0, 0, 0], [0, 1, 2, 3, 4], [0, 2, 4, 6, 8]] \n"
   ]
  },
  {
   "cell_type": "code",
   "execution_count": 2,
   "id": "670bf427",
   "metadata": {},
   "outputs": [
    {
     "name": "stdout",
     "output_type": "stream",
     "text": [
      "Enter values for row and column number: 3,5\n",
      "[[0, 0, 0, 0, 0], [0, 1, 2, 3, 4], [0, 2, 4, 6, 8]]\n"
     ]
    }
   ],
   "source": [
    "# Solution:\n",
    "\n",
    "X_Y_Values = input(\"Enter values for row and column number: \")\n",
    "rows, cols = X_Y_Values.split(\",\")\n",
    "rows = int(rows)\n",
    "cols = int(cols)\n",
    "\n",
    "array = []\n",
    "for x in range(rows):\n",
    "    row = []\n",
    "    for y in range(cols):\n",
    "        row.append(x * y)\n",
    "    array.append(row)\n",
    "print(array)"
   ]
  },
  {
   "cell_type": "markdown",
   "id": "89524c05",
   "metadata": {},
   "source": [
    "**Question 3:**\n",
    "\n",
    "Write a program that accepts a comma separated sequence of words as input and prints the words in a comma-separated sequence after sorting them alphabetically.\n",
    "\n",
    "Suppose the following input is supplied to the program:\n",
    "\n",
    "without,hello,bag,world\n",
    "\n",
    "Then, the output should be:\n",
    "\n",
    "bag,hello,without,world\n"
   ]
  },
  {
   "cell_type": "code",
   "execution_count": 3,
   "id": "78cbb379",
   "metadata": {},
   "outputs": [
    {
     "name": "stdout",
     "output_type": "stream",
     "text": [
      "Input words: without,hello,bag,world\n",
      "bag, hello, without, world\n"
     ]
    }
   ],
   "source": [
    "a = input(\"Input words: \")\n",
    "\n",
    "b = a.split(\",\")\n",
    "b.sort()\n",
    "print((', ').join(b))"
   ]
  },
  {
   "cell_type": "markdown",
   "id": "bddcdb2e",
   "metadata": {},
   "source": [
    "**Question 4:**\n",
    "    \n",
    "Write a program that accepts a sequence of whitespace separated words as input and prints the words after removing all duplicate words and sorting them alphanumerically.\n",
    "\n",
    "Suppose the following input is supplied to the program:\n",
    "\n",
    "hello world and practice makes perfect and hello world again\n",
    "\n",
    "Then, the output should be:\n",
    "\n",
    "again and hello makes perfect practice world\n"
   ]
  },
  {
   "cell_type": "code",
   "execution_count": 4,
   "id": "e0f60e9c",
   "metadata": {},
   "outputs": [
    {
     "name": "stdout",
     "output_type": "stream",
     "text": [
      "Enter The Statement: hello world and practice makes perfect and hello world again\n",
      "again and hello makes perfect practice world\n"
     ]
    }
   ],
   "source": [
    "# Solution:\n",
    "\n",
    "a = input(\"Enter The Statement: \")\n",
    "b = a.split(' ')\n",
    "\n",
    "c = []\n",
    "for i in b:\n",
    "    if i not in c:\n",
    "        c.append(i)\n",
    "    else:\n",
    "        continue\n",
    "c.sort()\n",
    "\n",
    "\n",
    "print((' ').join(c))"
   ]
  },
  {
   "cell_type": "markdown",
   "id": "ff84b8e5",
   "metadata": {},
   "source": [
    "**Question 5:**\n",
    "    \n",
    "Write a program that accepts a sentence and calculate the number of letters and digits.\n",
    "\n",
    "Suppose the following input is supplied to the program:\n",
    "\n",
    "hello world! 123\n",
    "\n",
    "Then, the output should be:\n",
    "\n",
    "LETTERS 10\n",
    "\n",
    "DIGITS 3\n"
   ]
  },
  {
   "cell_type": "code",
   "execution_count": 5,
   "id": "a3e99601",
   "metadata": {},
   "outputs": [
    {
     "name": "stdout",
     "output_type": "stream",
     "text": [
      "Enter the  Sentence:hello world! 123\n",
      "Number of Letterns : 10\n",
      "Number of Digits : 3\n"
     ]
    }
   ],
   "source": [
    "s = input(\"Enter the  Sentence:\")\n",
    "s = list(s)\n",
    "\n",
    "letters = 0\n",
    "digits = 0\n",
    "\n",
    "for i in s:\n",
    "    if i.isalpha():\n",
    "        letters = letters + 1\n",
    "    if i.isnumeric():\n",
    "        digits = digits + 1\n",
    "    else:\n",
    "        pass\n",
    "print(\"Number of Letterns :\" , letters)\n",
    "\n",
    "print(\"Number of Digits :\" , digits)"
   ]
  },
  {
   "cell_type": "markdown",
   "id": "efca6436",
   "metadata": {},
   "source": [
    "**Question 6:**\n",
    "    \n",
    "A website requires the users to input username and password to register. Write a program to check the validity of password input by users.\n",
    "\n",
    "Following are the criteria for checking the password:\n",
    "\n",
    "1. At least 1 letter between [a-z]\n",
    "\n",
    "2. At least 1 number between [0-9]\n",
    "\n",
    "1. At least 1 letter between [A-Z]\n",
    "\n",
    "3. At least 1 character from [$#@]\n",
    "\n",
    "4. Minimum length of transaction password: 6\n",
    "\n",
    "5. Maximum length of transaction password: 12\n",
    "\n",
    "Your program should accept a sequence of comma separated passwords and will check them according to the above criteria. Passwords that match the criteria are to be printed, each separated by a comma.\n",
    "\n",
    "Example\n",
    "\n",
    "If the following passwords are given as input to the program:\n",
    "\n",
    "ABd1234@1,a F1#,2w3E*,2We3345\n",
    "\n",
    "Then, the output of the program should be:\n",
    "\n",
    "ABd1234@1\n"
   ]
  },
  {
   "cell_type": "code",
   "execution_count": 16,
   "id": "11602c36",
   "metadata": {},
   "outputs": [
    {
     "name": "stdout",
     "output_type": "stream",
     "text": [
      "Enter Password: ABd1234@1,a F1#,2w3E*,2We3345\n",
      "ABd1234@1\n"
     ]
    }
   ],
   "source": [
    "# Solution:\n",
    "\n",
    "import re\n",
    "\n",
    "Input_Password = input(\"Enter Password: \")\n",
    "Input_Password = Input_Password.split(\",\")\n",
    "\n",
    "check = []\n",
    "for i in Input_Password:\n",
    "    if len(i) < 6 or len(i) > 12:\n",
    "        continue\n",
    "        \n",
    "    elif not re.search(\"([a-z])+\", i):\n",
    "        continue\n",
    "        \n",
    "    elif not re.search(\"([0-9])+\", i):\n",
    "        continue\n",
    "        \n",
    "    elif not re.search(\"([A-Z])+\", i):\n",
    "        continue\n",
    "        \n",
    "    elif not re.search(\"([$#@])+\", i):\n",
    "        continue\n",
    "        \n",
    "    else:\n",
    "        check.append(i)\n",
    "        \n",
    "\n",
    "print(\" \".join(check))"
   ]
  }
 ],
 "metadata": {
  "kernelspec": {
   "display_name": "Python 3 (ipykernel)",
   "language": "python",
   "name": "python3"
  },
  "language_info": {
   "codemirror_mode": {
    "name": "ipython",
    "version": 3
   },
   "file_extension": ".py",
   "mimetype": "text/x-python",
   "name": "python",
   "nbconvert_exporter": "python",
   "pygments_lexer": "ipython3",
   "version": "3.9.12"
  }
 },
 "nbformat": 4,
 "nbformat_minor": 5
}
