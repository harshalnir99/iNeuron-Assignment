{
 "cells": [
  {
   "cell_type": "markdown",
   "id": "f2c1d241",
   "metadata": {},
   "source": [
    "# Assignment No.5"
   ]
  },
  {
   "cell_type": "code",
   "execution_count": 1,
   "id": "882445dd",
   "metadata": {},
   "outputs": [
    {
     "name": "stdout",
     "output_type": "stream",
     "text": [
      "Enter First Number: 5\n",
      "Enter second Number: 6\n",
      "LCM of 5 & 6 is 30\n"
     ]
    }
   ],
   "source": [
    "# Question No.1 Write a Python Program to find LCM ?\n",
    "\n",
    "num_1 = int(input(\"Enter First Number: \"))\n",
    "num_2 = int(input(\"Enter second Number: \"))\n",
    "\n",
    "if num_1 > num_2:\n",
    "    greater = num_1\n",
    "else:\n",
    "    greater = num_2\n",
    "    \n",
    "while(True):\n",
    "    if greater % num_1 ==0 and greater % num_2 ==0:\n",
    "        LCM = greater\n",
    "        break\n",
    "    greater= greater+1\n",
    "    \n",
    "print(\"LCM of {} & {} is {}\".format(num_1,num_2,LCM))\n"
   ]
  },
  {
   "cell_type": "code",
   "execution_count": 2,
   "id": "7325e5a4",
   "metadata": {},
   "outputs": [],
   "source": [
    "def lcm(num_1,num_2):\n",
    "    if num_1 > num_2:\n",
    "        greater = num_1\n",
    "    else:\n",
    "        greater = num_2\n",
    "    while(True):\n",
    "        if greater % num_1 ==0 and greater % num_2 ==0:\n",
    "            lcm = greater\n",
    "            break\n",
    "        greater = greater +1\n",
    "    print(\"LCM of {} & {} is {}\".format(num_1,num_2,LCM))"
   ]
  },
  {
   "cell_type": "code",
   "execution_count": 3,
   "id": "314927b4",
   "metadata": {},
   "outputs": [
    {
     "name": "stdout",
     "output_type": "stream",
     "text": [
      "LCM of 5 & 6 is 30\n"
     ]
    }
   ],
   "source": [
    "lcm (5,6)"
   ]
  },
  {
   "cell_type": "code",
   "execution_count": null,
   "id": "28ab1e84",
   "metadata": {},
   "outputs": [],
   "source": []
  },
  {
   "cell_type": "code",
   "execution_count": 4,
   "id": "e96702e5",
   "metadata": {},
   "outputs": [
    {
     "name": "stdout",
     "output_type": "stream",
     "text": [
      "Enter First Number: 18\n",
      "Enter second Number: 12\n",
      "The hcf of 18 and 12 is 6\n"
     ]
    }
   ],
   "source": [
    "# Question No.2 Write a Python Program to find HCF ?\n",
    "\n",
    "num_1 = int(input(\"Enter First Number: \"))\n",
    "num_2 = int(input(\"Enter second Number: \"))\n",
    "\n",
    "if num_1 < num_2:\n",
    "    small = num_1\n",
    "else:\n",
    "    small = num_2\n",
    "for i in range(1,small+1):\n",
    "    if num_1 % i == 0 and num_2 % i == 0 :\n",
    "        hcf = i\n",
    "    \n",
    "print(\"The hcf of {} and {} is {}\".format(num_1,num_2,hcf))\n",
    "\n",
    "    "
   ]
  },
  {
   "cell_type": "code",
   "execution_count": 5,
   "id": "b8e8808b",
   "metadata": {},
   "outputs": [],
   "source": [
    "def hcf (num_1,num_2):\n",
    "    if num_1 < num_2:\n",
    "        small = num_1\n",
    "    else:\n",
    "        small = num_2\n",
    "    for i in range(1,small+1):\n",
    "        if num_1 % i == 0 and num_2 % i == 0 :\n",
    "            hcf = i\n",
    "    \n",
    "    print(\"The hcf of {} and {} is {}\".format(num_1,num_2,hcf))"
   ]
  },
  {
   "cell_type": "code",
   "execution_count": 6,
   "id": "614365e4",
   "metadata": {},
   "outputs": [
    {
     "name": "stdout",
     "output_type": "stream",
     "text": [
      "The hcf of 18 and 12 is 6\n"
     ]
    }
   ],
   "source": [
    "hcf(18,12)"
   ]
  },
  {
   "cell_type": "code",
   "execution_count": null,
   "id": "24f7a28e",
   "metadata": {},
   "outputs": [],
   "source": []
  },
  {
   "cell_type": "code",
   "execution_count": 7,
   "id": "4027ff3b",
   "metadata": {},
   "outputs": [
    {
     "name": "stdout",
     "output_type": "stream",
     "text": [
      "Enter Decimal number :55\n",
      "55 in binary :  0b110111\n",
      "55 in Octal :  0o67\n",
      "55 in Hexadecimal :  0x37\n"
     ]
    }
   ],
   "source": [
    "# Question No.3 Write a Python Program to Convert Decimal to Binary, Octal and Hexadecimal ?\n",
    "num_1=int(input(\"Enter Decimal number :\"))\n",
    "\n",
    "print(num_1, \"in binary : \", bin(num_1))\n",
    "print(num_1, \"in Octal : \", oct(num_1))\n",
    "print(num_1, \"in Hexadecimal : \",hex(num_1))"
   ]
  },
  {
   "cell_type": "code",
   "execution_count": null,
   "id": "a8cfd83f",
   "metadata": {},
   "outputs": [],
   "source": []
  },
  {
   "cell_type": "code",
   "execution_count": 8,
   "id": "af587d72",
   "metadata": {},
   "outputs": [
    {
     "name": "stdout",
     "output_type": "stream",
     "text": [
      "Enter a Charecter : u\n",
      "Ascii value of u is 117\n"
     ]
    }
   ],
   "source": [
    "# Question No 4. Write a Python Program to Find the ASCII value of  a Character ?\n",
    "\n",
    "str = input(\"Enter a Charecter : \")\n",
    "\n",
    "print(\"Ascii value of {} is {}\".format(str,ord(str))) # ord gives the ASCII value of a character"
   ]
  },
  {
   "cell_type": "code",
   "execution_count": 9,
   "id": "079cd9c5",
   "metadata": {},
   "outputs": [
    {
     "data": {
      "text/plain": [
       "117"
      ]
     },
     "execution_count": 9,
     "metadata": {},
     "output_type": "execute_result"
    }
   ],
   "source": [
    "def ascii_value(str):\n",
    "    return ord(str)  #ord gives the ASCII value of a character\n",
    "  \n",
    "ascii_value(\"u\")"
   ]
  },
  {
   "cell_type": "code",
   "execution_count": null,
   "id": "a7e4c3d6",
   "metadata": {},
   "outputs": [],
   "source": []
  },
  {
   "cell_type": "code",
   "execution_count": 1,
   "id": "72bf66cd",
   "metadata": {},
   "outputs": [],
   "source": [
    "#Question No 5. Write a Python Program to Make a Simple Calculator with 4 Basic Mathematical operations ?\n",
    "\n",
    "def calculator(num_1,num_2):\n",
    "    operation = str(input(\"What operation would you like to perform: \"))\n",
    "    \n",
    "    if operation == \"add\":\n",
    "        print(\"{} + {} = {}.\".format(num_1,num_2,num_1+num_2))\n",
    "    \n",
    "    elif operation == \"sub\":\n",
    "        print(\"{} + {} = {}.\".format(num_1,num_2,num_1-num_2))\n",
    "    \n",
    "    elif operation == \"mul\":\n",
    "        print(\"{} + {} = {}.\".format(num_1,num_2,num_1*num_2))\n",
    "    \n",
    "    elif operation == \"div\":\n",
    "        print(\"{} + {} = {}.\".format(num_1,num_2,num_1/num_2))\n",
    "    \n",
    "    else:\n",
    "        print(\"Enter correct operation\")"
   ]
  },
  {
   "cell_type": "code",
   "execution_count": 2,
   "id": "d9d64826",
   "metadata": {},
   "outputs": [
    {
     "name": "stdout",
     "output_type": "stream",
     "text": [
      "What operation would you like to perform: add\n",
      "10 + 25 = 35.\n"
     ]
    }
   ],
   "source": [
    "calculator(10,25)"
   ]
  },
  {
   "cell_type": "code",
   "execution_count": 3,
   "id": "0156c4b3",
   "metadata": {},
   "outputs": [
    {
     "name": "stdout",
     "output_type": "stream",
     "text": [
      "What operation would you like to perform: sub\n",
      "10 + 25 = -15.\n"
     ]
    }
   ],
   "source": [
    "calculator(10,25)"
   ]
  },
  {
   "cell_type": "code",
   "execution_count": 4,
   "id": "80240a6a",
   "metadata": {},
   "outputs": [
    {
     "name": "stdout",
     "output_type": "stream",
     "text": [
      "What operation would you like to perform: mul\n",
      "10 + 25 = 250.\n"
     ]
    }
   ],
   "source": [
    "calculator(10,25)"
   ]
  },
  {
   "cell_type": "code",
   "execution_count": 5,
   "id": "6cef8060",
   "metadata": {},
   "outputs": [
    {
     "name": "stdout",
     "output_type": "stream",
     "text": [
      "What operation would you like to perform: div\n",
      "10 + 25 = 0.4.\n"
     ]
    }
   ],
   "source": [
    "calculator(10,25)"
   ]
  },
  {
   "cell_type": "code",
   "execution_count": 6,
   "id": "68b19be7",
   "metadata": {},
   "outputs": [
    {
     "name": "stdout",
     "output_type": "stream",
     "text": [
      "Enter First Number: 40\n",
      "Enter second Number: 50\n",
      "What operation would you like to perform: add\n",
      "40 + 50 = 90.\n"
     ]
    }
   ],
   "source": [
    "num_1 = int(input(\"Enter First Number: \"))\n",
    "num_2 = int(input(\"Enter second Number: \")) \n",
    "\n",
    "operation = str(input(\"What operation would you like to perform: \"))\n",
    "    \n",
    "if operation == \"add\":\n",
    "    print(\"{} + {} = {}.\".format(num_1,num_2,num_1+num_2))\n",
    "    \n",
    "elif operation == \"sub\":\n",
    "    print(\"{} + {} = {}.\".format(num_1,num_2,num_1-num_2))\n",
    "    \n",
    "elif operation == \"mul\":\n",
    "    print(\"{} + {} = {}.\".format(num_1,num_2,num_1*num_2))\n",
    "    \n",
    "elif operation == \"div\":\n",
    "    print(\"{} + {} = {}.\".format(num_1,num_2,num_1/num_2))\n",
    "    \n",
    "else:\n",
    "    print(\"Enter correct operation\")"
   ]
  },
  {
   "cell_type": "code",
   "execution_count": null,
   "id": "0ff79b11",
   "metadata": {},
   "outputs": [],
   "source": []
  }
 ],
 "metadata": {
  "kernelspec": {
   "display_name": "Python 3 (ipykernel)",
   "language": "python",
   "name": "python3"
  },
  "language_info": {
   "codemirror_mode": {
    "name": "ipython",
    "version": 3
   },
   "file_extension": ".py",
   "mimetype": "text/x-python",
   "name": "python",
   "nbconvert_exporter": "python",
   "pygments_lexer": "ipython3",
   "version": "3.9.7"
  }
 },
 "nbformat": 4,
 "nbformat_minor": 5
}
