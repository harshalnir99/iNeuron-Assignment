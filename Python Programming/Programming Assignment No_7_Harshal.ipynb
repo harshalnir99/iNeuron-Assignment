{
 "cells": [
  {
   "cell_type": "markdown",
   "id": "ce8b5ba9",
   "metadata": {},
   "source": [
    "# Programming Assignment No :-7"
   ]
  },
  {
   "cell_type": "code",
   "execution_count": null,
   "id": "24de3ae8",
   "metadata": {},
   "outputs": [],
   "source": []
  },
  {
   "cell_type": "markdown",
   "id": "aed20f66",
   "metadata": {},
   "source": [
    " <b> Question No 1<b>:-  Write a Python Program to find sum of array?"
   ]
  },
  {
   "cell_type": "code",
   "execution_count": 1,
   "id": "8e2bbf8d",
   "metadata": {},
   "outputs": [
    {
     "name": "stdout",
     "output_type": "stream",
     "text": [
      "Length of array: 5\n",
      "1\n",
      "2\n",
      "3\n",
      "4\n",
      "5\n",
      "provided array: [1, 2, 3, 4, 5] \n",
      "sum of given array is: 15\n"
     ]
    }
   ],
   "source": [
    "array = []\n",
    "size = int(input(\"Length of array: \"))\n",
    "for i in range(size):\n",
    "    elements = int(input())\n",
    "    array.append(elements)\n",
    "    \n",
    "print(\"provided array: {} \\nsum of given array is: {}\".format(array,sum(array)))"
   ]
  },
  {
   "cell_type": "code",
   "execution_count": 3,
   "id": "811f7446",
   "metadata": {},
   "outputs": [
    {
     "name": "stdout",
     "output_type": "stream",
     "text": [
      "Enter the Array: 1,2,3,4,5\n",
      "The sum of array is 15\n"
     ]
    }
   ],
   "source": [
    "def sum_array():\n",
    "    array = eval(input(\"Enter the Array: \"))\n",
    "    print(\"The sum of array is {}\".format(sum(array)))\n",
    "\n",
    "sum_array()\n"
   ]
  },
  {
   "cell_type": "code",
   "execution_count": null,
   "id": "8eba220f",
   "metadata": {},
   "outputs": [],
   "source": []
  },
  {
   "cell_type": "markdown",
   "id": "4e6d3a1f",
   "metadata": {},
   "source": [
    " <b> Question No 2<b>:-Write a Python Program to find largest element in an array?"
   ]
  },
  {
   "cell_type": "code",
   "execution_count": 4,
   "id": "933926a4",
   "metadata": {},
   "outputs": [
    {
     "name": "stdout",
     "output_type": "stream",
     "text": [
      "Length of array: 5\n",
      "10\n",
      "20\n",
      "30\n",
      "40\n",
      "50\n",
      "provided array: [10, 20, 30, 40, 50] \n",
      "Largest Element in array is: 50\n"
     ]
    }
   ],
   "source": [
    "array = []\n",
    "size = int(input(\"Length of array: \"))\n",
    "for i in range(size):\n",
    "    elements = int(input())\n",
    "    array.append(elements)\n",
    "    \n",
    "print(\"provided array: {} \\nLargest Element in array is: {}\".format(array,max(array)))\n"
   ]
  },
  {
   "cell_type": "code",
   "execution_count": 5,
   "id": "a8c07269",
   "metadata": {},
   "outputs": [
    {
     "name": "stdout",
     "output_type": "stream",
     "text": [
      "Enter the Array: 10,20,30,40,50\n",
      "Largest Element in array is 50\n"
     ]
    }
   ],
   "source": [
    "def max_array():\n",
    "    array = eval(input(\"Enter the Array: \"))\n",
    "    print(\"Largest Element in array is {}\".format(max(array)))\n",
    "\n",
    "max_array()\n"
   ]
  },
  {
   "cell_type": "code",
   "execution_count": null,
   "id": "7f65a6db",
   "metadata": {},
   "outputs": [],
   "source": []
  },
  {
   "cell_type": "markdown",
   "id": "fa2c4528",
   "metadata": {},
   "source": [
    " <b> Question No 3<b>:-Write a Python Program for array rotation?"
   ]
  },
  {
   "cell_type": "code",
   "execution_count": 6,
   "id": "838116af",
   "metadata": {},
   "outputs": [
    {
     "name": "stdout",
     "output_type": "stream",
     "text": [
      "Length of array: 5\n",
      "10\n",
      "20\n",
      "30\n",
      "40\n",
      "50\n",
      "provided array: [10, 20, 30, 40, 50] \n",
      "Rotation array is: [50, 40, 30, 20, 10]\n"
     ]
    }
   ],
   "source": [
    "array = []\n",
    "size = int(input(\"Length of array: \"))\n",
    "for i in range(size):\n",
    "    elements = int(input())\n",
    "    array.append(elements)\n",
    "    \n",
    "print(\"provided array: {} \\nRotation array is: {}\".format(array,array[::-1]))"
   ]
  },
  {
   "cell_type": "code",
   "execution_count": 7,
   "id": "daea0dc4",
   "metadata": {},
   "outputs": [
    {
     "name": "stdout",
     "output_type": "stream",
     "text": [
      "Enter the Array: 10,20,30,40,50\n",
      "Rotation array is (50, 40, 30, 20, 10)\n"
     ]
    }
   ],
   "source": [
    "def rot_array():\n",
    "    array = eval(input(\"Enter the Array: \"))\n",
    "    print(\"Rotation array is {}\".format(array[::-1]))\n",
    "\n",
    "rot_array()\n"
   ]
  },
  {
   "cell_type": "code",
   "execution_count": null,
   "id": "cb7591dd",
   "metadata": {},
   "outputs": [],
   "source": []
  },
  {
   "cell_type": "markdown",
   "id": "2b8d7812",
   "metadata": {},
   "source": [
    " <b> Question No 4<b>:- Write a Python Program to Split the array and add the first part to the end?"
   ]
  },
  {
   "cell_type": "code",
   "execution_count": 11,
   "id": "9f6203c9",
   "metadata": {},
   "outputs": [
    {
     "name": "stdout",
     "output_type": "stream",
     "text": [
      "Length of array: 5\n",
      "10\n",
      "20\n",
      "30\n",
      "40\n",
      "50\n",
      "[10, 20, 30, 40, 50]\n",
      "splitted part is:  [10, 20]\n",
      "after spliting remaining array is:  [30, 40, 50]\n",
      "Final Array:  [10, 20, 30, 40, 50]\n"
     ]
    }
   ],
   "source": [
    "array = []\n",
    "size = int(input(\"Length of array: \"))\n",
    "for i in range(size):\n",
    "    elements = int(input())\n",
    "    array.append(elements)\n",
    "print(array)\n",
    "\n",
    "mid = size//2\n",
    "\n",
    "split_1 = array[:mid]\n",
    "print(\"splitted part is: \",split_1)\n",
    "\n",
    "split_2 = array[mid:]\n",
    "print(\"after spliting remaining array is: \", split_2)\n",
    "\n",
    "array = split_1+split_2\n",
    "print(\"Final Array: \",array)"
   ]
  },
  {
   "cell_type": "code",
   "execution_count": null,
   "id": "056fd6d7",
   "metadata": {},
   "outputs": [],
   "source": []
  },
  {
   "cell_type": "markdown",
   "id": "6218b293",
   "metadata": {},
   "source": [
    " <b> Question No 5<b>:- Write a Python Program to check if given array is Monotonic?"
   ]
  },
  {
   "cell_type": "code",
   "execution_count": 12,
   "id": "ea6a32f6",
   "metadata": {},
   "outputs": [
    {
     "name": "stdout",
     "output_type": "stream",
     "text": [
      "Length of array: 5\n",
      "10\n",
      "20\n",
      "30\n",
      "40\n",
      "50\n",
      "[10, 20, 30, 40, 50]\n",
      "True\n"
     ]
    }
   ],
   "source": [
    "def monotonic(array):\n",
    "    return(all(array[i]<=array[i+1] for i in range(len(array)-1)) or \n",
    "           all(array[i]>=array[i+1] for i in range(len(array)-1)))\n",
    "\n",
    "array = []\n",
    "size = int(input(\"Length of array: \"))\n",
    "for i in range(size):\n",
    "    elements = int(input())\n",
    "    array.append(elements)\n",
    "print(array)\n",
    "\n",
    "print(monotonic(array))"
   ]
  },
  {
   "cell_type": "code",
   "execution_count": 13,
   "id": "4bbfe271",
   "metadata": {},
   "outputs": [
    {
     "name": "stdout",
     "output_type": "stream",
     "text": [
      "Enter the Array: 10,20,30,40,50\n",
      "Array (10, 20, 30, 40, 50) is Monotonic\n",
      "Enter the Array: 10,20,40,30,50\n",
      "Array (10, 20, 40, 30, 50) is Not Monotonic\n"
     ]
    }
   ],
   "source": [
    "def checkMonotonic():\n",
    "    in_arr = eval(input(\"Enter the Array: \"))\n",
    "    if(all(in_arr[i]<=in_arr[i+1] for i in range(len(in_arr)-1)) or all(in_arr[i]>=in_arr[i+1] for i in range(len(in_arr)-1))):\n",
    "        print(f'Array {in_arr} is Monotonic')\n",
    "    else:\n",
    "        print(f'Array {in_arr} is Not Monotonic')\n",
    "\n",
    "checkMonotonic()\n",
    "checkMonotonic()\n"
   ]
  },
  {
   "cell_type": "code",
   "execution_count": null,
   "id": "484d80c4",
   "metadata": {},
   "outputs": [],
   "source": []
  }
 ],
 "metadata": {
  "kernelspec": {
   "display_name": "Python 3 (ipykernel)",
   "language": "python",
   "name": "python3"
  },
  "language_info": {
   "codemirror_mode": {
    "name": "ipython",
    "version": 3
   },
   "file_extension": ".py",
   "mimetype": "text/x-python",
   "name": "python",
   "nbconvert_exporter": "python",
   "pygments_lexer": "ipython3",
   "version": "3.9.12"
  }
 },
 "nbformat": 4,
 "nbformat_minor": 5
}
